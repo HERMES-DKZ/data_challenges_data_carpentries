{
 "cells": [
  {
   "cell_type": "markdown",
   "id": "96774403",
   "metadata": {},
   "source": [
    "<font color=red>\n",
    "This is to save how links can be embedded in markdown cells. The link to the workbench tutorial can be found\n",
    "</font> \n",
    "<A Href=\"https://carpentries.github.io/lesson-development-training/infrastructure.html\">here</A>."
   ]
  },
  {
   "cell_type": "markdown",
   "id": "be106d6c",
   "metadata": {},
   "source": [
    "**<font size=\"4\">Episodes</font>** (to be updated)\n",
    "\n",
    "1. Why to use Git as a (digital) humanities scholar\n",
    "2. How does Git work?\n",
    "3. Different ways of using Git\n",
    "4. Let's get a bit more technical: what are Git and Github?\n",
    "5. Installing Git and creating a Github account\n",
    "6. The logic of the world of Git\n",
    "\n",
    "...\n",
    "\n",
    "7. Git best practice (There are important rules and methods of collaboration as a team on a certain project. )\n",
    "\n",
    "**<font size=\"4\">Objectives</font>**\n",
    "\n",
    "This course addresses learners from the humanities with zero or little git and programming skills (try to be even more specific about the target audience and their background knowledge), who wish to integrate big data and digital methods of data analysis into their research. It walks the learners through learning the concept of git and the best practice of implementing it in their solo or collaborative projects. \n",
    "\n",
    "**<font size=\"4\">Desired Outcome</font>**\n",
    "\n",
    "At the end of this course, the learners will have gained a solid understanding of what git is and how it can be used through github and its desktop app to collaborate with other team members on the development of a digital humanities project that incorporates any filetype and folder structure. \n",
    "\n",
    "**<font size=\"4\">Motivation of the Audience</font>**\n",
    "\n",
    "Address the concrete needs and desires of people already working in the area of digital humanities: \n",
    "\n",
    "- What challenges have they been facing?\n",
    "- How would learning git help them progress in their collaborative projects?\n",
    "\n",
    "**<font size=\"4\">Prerequisite Knowledge</font>**\n",
    "\n",
    "- Knowing how to work with an internet browser;\n",
    "- basic knowledge of working with the terminal"
   ]
  },
  {
   "cell_type": "markdown",
   "id": "8771d5f8",
   "metadata": {},
   "source": [
    "# Why to use Git as a (digital) humanities scholar"
   ]
  },
  {
   "cell_type": "markdown",
   "id": "7b89e5bd",
   "metadata": {},
   "source": [
    "No matter in which area of the humanities you are working and whether you are implementing digital methods and tools or not, learning to use Git can be very beneficial for you. This episode explores the reasons why it is useful to learn git and how it can contribute to your research, no matter if you are carrying out individually or in collaboration with a team.\n",
    "\n",
    "In this episode, I am going to briefly touch upon concrete problems that most humanities scholars have come across in their research projects. For now, I will only introduce the problems and will not address the solution, which is Git. So the purpose of this episode is to first make sense of the use cases of Git, before actually learning about how to implement it. "
   ]
  },
  {
   "cell_type": "markdown",
   "id": "3a4d1692",
   "metadata": {},
   "source": [
    "Working on book projects or writing articles, all humanities scholars know how file names such as **final_article.docx**, **final_final_article.docx**, **final_final_article_reviewed_by_gs.docx** and **final_final_article_reviewed_by_gs_commented_by_dh.docx** etc. are developed. The creation of files with ever larger titles, each addressing a certain development phase of the original article, can go on for a long time and it results in multiple versions of the original article file. As long as there is only one person working on the article file and deciding what changes to make to it and which comments or review points to ignore, this **<font color=blue>version control</font>** system can work alright. Although after some time passes, the owner of the file might not remember any more exactly which stage of the development of the original article is stored in which file and what exactly is the difference between the contents of **final_article.docx** and **final_final_article.docx**, unless they read both versions entirely again. In other words, the file title does not offer us enough space for an extensive **<font color=blue>documentation</font>** of the work in progress.\n",
    "\n",
    "<A Href=\"https://swcarpentry.github.io/git-novice/01-basics.html\">automated version control</A> (Credit: The Carpentries)\n",
    "\n",
    "But what if multiple people are working on the same file at the same time? One method for collaboratively developing any kind of document is using cloud services that enable synchronous and collaborative writing, such as Google Docs or Google Sheets. However, if people you are collaborating with on a certain Google Docs document delete or change parts of the text that others had written previously, it would be very difficult and confusing to compare the current version of the text with the previous versions and decide whether or not there have been conflicts between these versions or how it would be possible to synthesize and merge two different versions of the same paragraph by two different collaborators, without completely eliminating one and replacing it with the other. In other words, **<font color=blue>collaboration</font>** on developing the same file or files can become confusing if you do not want to replace content that has been developed by other people with your own, but you rather prefer to merge the contributions of everybody involved in the project.\n",
    "\n",
    "If you are writing code, the problems of **<font color=blue>version control</font>**, **<font color=blue>documentation</font>** and **<font color=blue>collaboration</font>** can become even more predominant, because different people will be working on different project files and folders simultaneously. This is when Git can come to your rescue. "
   ]
  },
  {
   "cell_type": "markdown",
   "id": "fc9241cd",
   "metadata": {},
   "source": [
    "# How does Git work?"
   ]
  },
  {
   "cell_type": "markdown",
   "id": "5eec73fa",
   "metadata": {},
   "source": [
    "To develop a deep understanding of what Git is and how it works, it would be helpful to use your powers of imagination. Imagine your partner and you get to raise a child. Let us name this child Lily. As soon as Lily enters your lives, each one of you develops their own plans and wishes for her future: you want Lily to become an internationally known sports athlete, whereas your partner wants her to grow up to become a prominent scientist. Since you both want the best for Lily's future, but each have your own methods of raising and educating her, you realize you cannot have her go both life paths at once. This is when the wizard 🧙🏻 of Git comes to assist you by inviting you to an experiment.\n",
    "\n",
    "The wizard of Git makes you an offer: he keeps the real infant Lily by himself and gives you and your partner each a cloned Lily instead. He also hands each one of you a magical polaroid camera and a photo album. From here on, each one of you enters an alternative reality, taking their cloned Lily, their camera and album with them. Each parent raises their cloned Lily in their own alternative reality exactly the way they want to, and documents important moments of her life using the camera. For example, the first photo in your album would be one of your cloned Lily at the age of 3 with a swimsuit, standing near a swimming pool. You put this photo in the album and write a note next to it: \"Lily at the age of 3, just after having taken her first swimming lesson.\" You and your partner each keep raising their cloned Lily up to the age of 18 and each of you documents the key moments of her growth in their own alternative world, using the magical camera and the album. As soon as Lily turns 18 in each alternative reality, the magic ends: your cloned Lilies disappear and you and your partner both return to the real world, only carrying your photo albums with you. \n",
    "\n",
    "In the real world, nothing has changed since you entered the two alternative realities. Lily is still an infant and now you want her to grow up to the age of 18 at the blink of an eye, going through every single stage that both you and your partner have documented with your cameras. The wizard of Git is here to help you do that. He looks at the photos and sees if it is possible to merge both parallel realities with each other and have Lily go through every single life stage that was documented on both sides. Sometimes it is possible to merge these realities. For example, Lily has lived in Johannesburg in your alternative reality at the age of 10, going to school and taking swim lessons in her free time. You have a photo in your album that shows her during practice, with a note that delivers exactly this information. In your partner's alternative reality, Lily has also lived in Johannesburg and gone to the same school at the age of 10, but she has spent her spare time focusing more deeply on her mathematics lessons. Your partner's photo of the ten-year-old Lily depicts her smiling proudly in the camera, holding the solution of a maths problem in her hand. These two events in the lives of the two cloned Lilies can be merged, so that the real Lily can have gone to school in Johannesburg at the age of 10 and divided her spare time between solving mathematics problems and excelling in swimming. \n",
    "\n",
    "But sometimes conflicts between the two alternative realities can make the merging process difficult. If your cloned Lily has been in Brazil at the age of 17 taking full-time professional swimming training, whereas your partner's cloned Lily has lived in South Korea at that age while she was taking full-time professional math courses, then it is not clear what the real Lily's life experience should be. Here, you and your partner should engage in conversation and each manipulate your alternative realities in a way so that they can be merged into the *real* reality by the Git wizard. Going through the entire albums, solving the conflicts and merging the two alternative realities up until Lily's 18th birthday can finally result in a real Lily who is now suddenly grown from infancy to being 18 years old and who has a memory of the merged life experiences resulting from both alternative realities. \n",
    "\n",
    "This imaginary anecdote can clearly explain how Git works. Just replace Lily with any project that you are developing collaboratively with a team, the photos and their notes with *commits*, the alternative realities with the *branches* and the final merging of the two realities with the *pull and merge request*. The real Lily stands for the final product of your project. \n",
    "\n",
    "Now that you know how Git functions and what the logic behind it is, you can go through the next episode to learn about the technical aspects of Git. "
   ]
  },
  {
   "cell_type": "markdown",
   "id": "1ff854a2",
   "metadata": {},
   "source": [
    "# Different ways of using Git"
   ]
  },
  {
   "cell_type": "markdown",
   "id": "cdf29f82",
   "metadata": {},
   "source": [
    "You can use Git locally on your computer, in order to keep track of the development of your solo projects. You can also use a remote Git server, such as GitHub or GitLab, to work with a team collaboratively on a project.\n",
    "\n",
    "In both cases, you can use the *Command Line Interface (CLI)* or the *terminal* of your operating system to work with Git. This is what most professional programmers do. It is also possible to use a *Graphical User Interface (GUI)* for Git. A Graphical User Interface is a way to interact with your computer that uses pictures and symbols instead of just words. It is what you see on your screen when you are using programs with buttons, menus, and icons that you can click on to do things. So, instead of typing commands like you might with a command line, you can use your mouse or touchscreen to navigate and control your computer in a more visual way.\n",
    "\n",
    "In this lesson, you are going to learn how to use the CLI to interact with the online Github server to collaborate with your team members on the projects you are developing together. I have opted for the CLI because, in my opinion, it is much easier to use than Github's GUI. "
   ]
  },
  {
   "cell_type": "markdown",
   "id": "d60bb81f",
   "metadata": {},
   "source": [
    "# Let's get a bit more technical: what are Git and Github?"
   ]
  },
  {
   "cell_type": "markdown",
   "id": "d02d3731",
   "metadata": {},
   "source": [
    "In this episode, we can finally bring the contents of the previous episodes together and explain what Git is in more technical terms. Just like other software that you use on your PC on a daily basis, Git is also a software with a logic and a functionality of its own. So in order to use it, you should first install it on your computer. You will learn how to install Git on different operating systems in the following episode. \n",
    "\n",
    "Git's use cases include the ones mentioned in episode one: \n",
    "\n",
    "1. version control\n",
    "2. documentation of the development phases\n",
    "3. collaborative project development"
   ]
  },
  {
   "cell_type": "markdown",
   "id": "66424d8d",
   "metadata": {},
   "source": [
    "## The logic behind Git"
   ]
  },
  {
   "cell_type": "markdown",
   "id": "fdf1ee23",
   "metadata": {},
   "source": [
    "Usually, the projects that you start developing are composed of files, stored in folders on your personal computer. But remember! In the world of Git, objects and the relationships between them have different names than in the worlds of common operating systems such as Windows or macOS. When you project the magical world of Git on the folder structure that you have already created locally on your computer, the main folder containing your files is not called a *folder* any more, but rather a *repository* in the world of Git. When you first introduce your local project to the wizard of Git, the contents of the main folder containing your project are the same as the contents of the *main* repository in the world of Git. \n",
    "\n",
    "🡺 Note: How the main repository was used to be called *master*, but the anticolonial discourse changed it. \n",
    "\n",
    "When you introduce a certain folder to the wizard of Git, that is, when you *initialize* Git within a certain folder, it starts watching that folder as a *repository* and every change that takes place within it, including adding new files or changing or deleting existingb ones. Whenever you feel like you want to take a snapshot of the current state of your main repository and its contents to document that stage of the repository's development, you should *add* the files and folders the changes of which you want to document in your snapshot to the imaginary photo album in which you are documenting the stages of the project's development. But remember, taking a snapshot from a certain stage of development is not enough. You also have to write a note about the snapshot that explains exactly which stage of development this snapshot is documenting. This note is called a *commit* in the world of git. \n",
    "\n",
    "So, let us go through all the stages of documentation one more time, whenever you want to save a certain stage of a project's development: \n",
    "\n",
    "1. You *initialize* Git within the main folder of your project, introducing that folder to Git as the project's *main repository*. \n",
    "2. You *add* all files and folders within your *main* repository, the changes of which you wish to document, to Git's *stage*. In other words, you hereby *stage* certain files and folders. \n",
    "3. You write a *commit*, explaining what stage of the project's development you are documenting at this moment. "
   ]
  },
  {
   "cell_type": "markdown",
   "id": "4191b786",
   "metadata": {},
   "source": [
    "### Branching: Creating virtual realities within the world of Git"
   ]
  },
  {
   "cell_type": "markdown",
   "id": "276cac42",
   "metadata": {},
   "source": [
    "As long as you are working in the main repository, no virtual realities are created and Git is only tracking changes and saving snapshots together with their commits. This means: as long as you keep working in the main folder of your project and the main Git repository, your local files and folders are the same as the ones in the Git repository and Git only registers their changes at your demand. The real magic of Git begins when you create *brances*, or virual realities, from the main repository. \n",
    "\n",
    "Now imagine you are going to test some alternatives on the project that you are working on, but you are not sure if these alternative will turn out the way you have imagined. For example, suppose you are a graphic designer and you are designing a logo for a client. You have already come up with a draft of the logo and saved it to the file \"logo.jpg\", and would like to test if would look nicer if you rounded the edges and changed the yellow colors to orange. One way of doing so would be to create a copy of your draft file, rename it to, say, \"logo_round_edges_and_orange.jpg\", and keep working on it. But, as it was mentioned in earlier episode, this could soon lead to a chaos where you will have multiple files with similar names on your computer and you could quickly lose an overview of what is what and which alternative designs are in which file. Here is how the wizard of Git can help you:\n",
    "\n",
    "In the world of Git, it is possible to create alternative realities. If the reality consists of the concrete files and folders that you have stored on your hard drive, Git allows you to create alternative versions of these files and folders without changing the actual files and folders. This is the most important part of the magic of Git! \n",
    "\n",
    "**Remember!** <font color=blue> Whereas the folder- and file systems on your computer follow a spacial logic (eg. you look for the *path* of a file and a certain file is *inside* a certain folder), the logic of Git is of a temporal nature, meaning that Git can create *simultaneous* parallel realities in which different adjustments are made to the files that are stored on your computer. Also, Git can record different *stages* of the development of certain files and folders. </font>\n",
    "\n",
    "You can create these alternative realities, using *branching*. The wizard of Git imagines the temporal aspect of your project as a tree. As long as you are working on the main repository and saving the changes directly to its files and folders, you are on the *trunk* of the tree, or on its *main branch*. When you decide to create an alternative reality as a graphic designer and test your new idea in it, you should create a new *branch* stemming from the *main branch* and work in there. When you create a new branch, you should first give it a name. In the example of the graphic designer, this name could be \"round_edges_and_orange\". When you enter this branch, you sill see your files and folders as they were on your hard drive before you created the branch. So here, you will keep working on the file \"logo.jpg\", make your desired changes to it, and save them. But if you exit the round_edges_and_orange branch, return to the main branch, and open the same file \"logo.jpg\", you would see that it is still in the state that it was before you created the new branch and applied changes to it. Remember the example of Lily and the wizard of Git? Lily, or the \"logo.jpg\" file on the main branch, remains unchanged, whereas you keep changing and developing it further in a virtual reality. Just as in the main branch, it is also possible to *add* your file in the new branch to Git's stage and write a *commit* on it at each desired and meaningful stage of development, just as it was possible to document Lily's growth with the magical camera and add it to an album with a short note. "
   ]
  },
  {
   "cell_type": "markdown",
   "id": "66249f66",
   "metadata": {},
   "source": [
    "### Merging new branches with the main branch"
   ]
  },
  {
   "cell_type": "markdown",
   "id": "291df4ae",
   "metadata": {},
   "source": [
    "When you are finished with your adjustments, it is time to compare the resulting design in the \"round_edges_and_orange\" branch with the ones in the *main branch*. If you do not like the alternative design, you can simple delete the branch that you created this design in it and keep working in the main branch again, making the final adjustments to the logo. But if you *do* prefer the alternative design, you should *merge* it with the design that you already have on the *main* branch. Because, remember, the only *real* reality in the world of Git consists of files and folders that you have saved onto your hard drive. If you copy these files and folders onto a USB-stick or email them to somebody, they will be transfered in the stage that they are in within the main branch. In other words, the other branches created out the main branch do not convert into reality until they are *merged* with the reality. Before the merging, they are only *alternative* realities that exist in a magical world. \n",
    "\n",
    "Just as in Lily's example, conflicts may occur while trying to merge different branches with the main branch. In Lily's example, the conflict occurred because somebody else had also created their own branch, i.e. their own virtual reality, and had developed it differently from you. Conflicts such as these occur while collaborating with other people, using a remote repository hosting service such as Github. For now, we should handle merge conflict management between a new branch and the main branch, which is also likely to occur. \n",
    "\n",
    "Depending on which kind of file you are working on, resolving merge conflicts can be different. In case of image files, since it is very difficult to create a synthesis of the two images in the two branches, you should often choose between the two images. If you opt for the new logo that you have developed in the \"round_edges_and_orange\" branch while merging this branch with the main branch, this logo will replace the one you originally had on your hard drive, with sharp edges and the dominant color yellow. After merging the new branch with the main branch, you can delete the new branch, because you do not need the alternative reality that you had created in it any more. Alternatively, if you prefer your original logo design for now, but would like to keep the alternative one as well and maybe return to it later, you can still keep the branch containing the alternative logo, but keep working further on the one that you previously had on the main branch, without merging the two branches. \n",
    "\n",
    "Till now, you have learned the logic of Git when using it on your personal computer. But what happens when you are collaborating with a team on a project, with each team member working on the project from their own computers? This question will be answered in the next chapter, which teaches you how to use a remote *Git repository hosting service*, namely Github. "
   ]
  },
  {
   "cell_type": "markdown",
   "id": "7822a0c4",
   "metadata": {},
   "source": [
    "**TIP:** It is also possible to create branches from the new branch that you have created, and merge them with the new branch before merging the new branch with the main branch. We will not handle this in the current lesson, but since you now know the logic of Git and how branching implements this logic, it would not be difficult for you to implement this kind of *second order branching* (my own terminology that I have borrowed from George Spencer-Brown) whenever it is meaningful and necessary for your project. "
   ]
  },
  {
   "cell_type": "markdown",
   "id": "1079f463",
   "metadata": {},
   "source": [
    "<font color=red> Important question: how to return to the commits and revert the changes to a certain commit? </font>"
   ]
  },
  {
   "cell_type": "markdown",
   "id": "78ecd9e6",
   "metadata": {},
   "source": [
    "## Github: A Git repository hosting service"
   ]
  },
  {
   "cell_type": "markdown",
   "id": "d1f35a55",
   "metadata": {},
   "source": [
    "If you are collaborating with a team on the same project, your partners in the project should also gain access to the main repository that you have created on your computer and be able to *clone* it onto their own computers. So instead of copying the source folder of the project and the files that it contains on a USB stick and handing it personally to your partners, or sending the entire content of the source folder to your partners by email, you can synchronize your local world of Git with a remote world of Git and share the remote repository with other collaborators of the project. There are many different *Git repository hosting services* online, such as Github, Gitlab, Bitbucket, Azure DevOps Server, etc. Here, we are going to learn to use Github.\n",
    "\n",
    "In order to put your local repository on the cloud, you first have to create an account on a Git repository hosting service - in our case, Github - and tell your computer that this account should host the local repositories that you have created in the world of Git. After doing so, you *push* your local repository to Github and make it accessible to your teammates. Then, your teammates *clone* that repository onto their own computers. So now you all have the same source folder of the project, together with all the files that it contains, on your computers. All of you also have the world of Git projected on your folder and files locally, which means that the wizard of Git is following your main repositories and their contents and it can do things with them. Now you can start collaborating with your teammates on the project. "
   ]
  },
  {
   "cell_type": "markdown",
   "id": "cb606d81",
   "metadata": {},
   "source": [
    "### How Github works"
   ]
  },
  {
   "cell_type": "markdown",
   "id": "4bb6b0aa",
   "metadata": {},
   "source": [
    "Returning to the previous example, let us suppose that you are the owner of the logo design project, and therefor also the owner of the project's Github repository. You are collaborating with another person in this project, who lives in a different timezone than yours. So right now that you are working on the project, your collaborator is asleep and you are the only person making changes to the files in the project's repository. In this case, you only have to make one additional step as compared to the case where you were implementing Git locally. That step is: after *add*ing the files you have been working on to Git's stage and *commiting* the changes, you should also *push* these changes to Github. By doing this, you keep your remote repository on Github synchronized with your local repository. \n",
    "\n",
    "At the end of the working day, you will have made certain changes to the logo and pushed all the changes to the Github repository. Your colleague, who has previously *cloned* the project's repository on their computer, is now awake and wants to keep on working on the project from where you stopped. The first thing they have to do is to re-synchronize their local Git repository with the remote one. For doing so, they have to *pull* the remote repository onto their own computers. Just as was the case with merging a new branch with the main branch locally, version conflict might also occur for your collaborator between the old versions of the project files they had on their hard drive yesterday and the project files that were updated by you. So before keeping to work further on the project files, your collaborator must resolve the conflicts and make sure that their local version of the files now corresponds with the main branch, or the remote repository, on Github. \n",
    "\n"
   ]
  },
  {
   "cell_type": "markdown",
   "id": "f85e79bf",
   "metadata": {},
   "source": [
    "### Best practice of collaborating with a team, using Github"
   ]
  },
  {
   "cell_type": "markdown",
   "id": "698f615d",
   "metadata": {},
   "source": [
    "As you can imagine, it can be very time-consuming and sometimes frustrating, if you and your collaborator keep working on the main branch, pushing it to the Github *repo* (short term for *repository*) and then having the other person spend a lot of time solving conflicts locally on their own computer. To make collaboration easier and the steps in the process more understandable, it is always recommended not to work on the main repo, but rather to create branches and work on them. This way, you and your collaborator each make your own branches of the main repo, work on those branches, and push those branches to Github. So, the main repository remains unchanged for both you and your collaborator and you keep developing the project in your respective branches of the main repo. \n",
    "\n",
    "**TIP:** Does this not remind you of Lily and how you and your partner set off into different virtual realities with your own cameras and photo albums?\n",
    "\n",
    "If you and your collaborator work simultaneously on the same feature of the project, you could face a lot of problems while trying to merge both of your branches into the main branch on Github. It is recommended that you constantly communicate with your collaborator and decide who is going to work on which feature, in order to minimize the number of conflicts. For example, if you are writing an article together, you can agree upon who is going to work on which chapter. If you create your own branch from the main branch and keep developing chapter 1 from there, and your partner does the same with chapter 2, it would be quite easy to merge both of your branches into the main branch on Github. This way, you see both versions of both chapters on Github and you tell Github to replace the existing chapter 1 in the main branch with your version of chapter 1 and replace the existing chapter 2 in the main branch with your collaborator's version of chapter 2. \n",
    "\n",
    "The question you may ask here is: who is going to resolve such conflicts while merging different branches with the main? In a big project, it can cause a lot of troubles if every collaborator in the project merges different branches with the main and makes important decisions on how to resolve the conflicts. It is best practice to have only one person make such decisions. This person may be the project manager or the owner of the main repo on Github. If you are the owner of the main repo on Github, your collaborator does not directly merge their branch with the main branch, but they rather create a *pull request* on Github. This means that instead of actively *pushing* their branch to the main, they ask you to *pull* this branch into the main branch. Then, you will be notified of the pull request by Github and check on Github if there are conflicts between your collaborator's branch and the main branch. You then make decisions about how to solve the conflicts and accept or deny the pull request. Of course, it is always best to resolve the conflict in conversation with your collaborator, so that everybody understand how and based on what information the conflicts were resolved. \n",
    "\n",
    "When working on larger projects, the processes of creating new branches, developing them locally, pushing them to the remote branch on Github and finally creating pull requests to merge these branches with the main branch take place multiple times. Therefore, the first thing that you do when you start your working day should be to pull everything from the Github repo onto your local repo to update the state of the project files and work from there. \n",
    "\n",
    "**Remember:** This pulling (from the Github repo to your local repo) is different from the pull request on Github, during which you ask the repo owner or project manager to pull your branch into the main branch. \n",
    "\n",
    "Now that you the logic behind Git and Github and the best practice of using them locally and remotely, it is time to actually get your hands dirty and start using Git. "
   ]
  },
  {
   "cell_type": "markdown",
   "id": "b05725cd",
   "metadata": {},
   "source": [
    "# Installing Git and creating a Github account"
   ]
  },
  {
   "cell_type": "markdown",
   "id": "da2587f7",
   "metadata": {},
   "source": [
    "## Installing Git (Credit: <A Href=\"https://swcarpentry.github.io/git-novice/#installing-git\">The Carpentries</A>)"
   ]
  },
  {
   "cell_type": "markdown",
   "id": "1822c785",
   "metadata": {},
   "source": [
    "<u>On Windows</u>: Git should be installed on your computer as part of your Bash install (see the <A Href=\"https://carpentries.github.io/workshop-template/install_instructions/#shell\">Shell installation instructions</A>).\n",
    "\n",
    "<u>On MacOS</u>: See <A Href=\"https://carpentries.github.io/workshop-template/install_instructions/#git\">this link</A>. \n",
    "\n",
    "<u>On Linux</u>: If Git is not already available on your machine you can try to install it via your distro's package manager. For Debian/Ubuntu run `sudo apt-get install git` and for Fedora run `sudo dnf install git`.\n"
   ]
  },
  {
   "cell_type": "markdown",
   "id": "622dc58a",
   "metadata": {},
   "source": [
    "## Creating a Github account (Credit: <A Href=\"https://swcarpentry.github.io/git-novice/#creating-a-github-account\">The Carpentries</A>)\n"
   ]
  },
  {
   "cell_type": "markdown",
   "id": "d6a08b03",
   "metadata": {},
   "source": [
    "1. Go to https://github.com and follow the “Sign up” link at the top-right of the window.\n",
    "2. Follow the instructions to create an account.\n",
    "3. Verify your email address with GitHub.\n",
    "4. Configure multifactor authentication (see below).\n",
    "\n",
    "**Multi-factor Authentication**\n",
    "In 2023, GitHub introduced a requirement for all accounts to have multi-factor authentication (2FA) configured for extra security. Several options exist for setting up 2FA, which are summarised here:\n",
    "\n",
    "1. If you already use an authenticator app, like Google Authenticator or Duo Mobile on your smartphone for example, add GitHub to that app.\n",
    "2. If you have access to a smartphone but do not already use an authenticator app, install one and add GitHub to the app.\n",
    "3. If you do not have access to a smartphone or do not want to install an authenticator app, you have two options:\n",
    "set up 2FA via text message (list of countries where authentication by SMS is supported), or\n",
    "use a hardware security key like YubiKey or the Google Titan key.\n",
    "The GitHub documentation provides more details about configuring 2FA."
   ]
  },
  {
   "cell_type": "markdown",
   "id": "2df7c828",
   "metadata": {},
   "source": [
    "## Preparing your working directory (Credit: <A Href=\"https://swcarpentry.github.io/git-novice/index.html#preparing-your-working-directory\">The Carpentries</A>)"
   ]
  },
  {
   "cell_type": "markdown",
   "id": "9300d61b",
   "metadata": {},
   "source": [
    "We’ll do our work in the Desktop folder so make sure you change your working directory to it with:"
   ]
  },
  {
   "cell_type": "markdown",
   "id": "d637cc2b",
   "metadata": {},
   "source": [
    "                            BASH <>\n",
    "\n",
    "\n",
    "$ cd\n",
    "\n",
    "$ cd Desktop"
   ]
  },
  {
   "cell_type": "markdown",
   "id": "bda41478",
   "metadata": {},
   "source": [
    "## Setting up Git (Credit: <A Href=\"https://swcarpentry.github.io/git-novice/02-setup.html\">The Carpentries</A>)"
   ]
  },
  {
   "cell_type": "markdown",
   "id": "4b234d2e",
   "metadata": {},
   "source": [
    "**<font color=orange>\n",
    "we are here\n",
    "</font>**"
   ]
  },
  {
   "cell_type": "markdown",
   "id": "34e22d7f",
   "metadata": {},
   "source": [
    "# Start using Git"
   ]
  }
 ],
 "metadata": {
  "kernelspec": {
   "display_name": "Python 3 (ipykernel)",
   "language": "python",
   "name": "python3"
  },
  "language_info": {
   "codemirror_mode": {
    "name": "ipython",
    "version": 3
   },
   "file_extension": ".py",
   "mimetype": "text/x-python",
   "name": "python",
   "nbconvert_exporter": "python",
   "pygments_lexer": "ipython3",
   "version": "3.10.6"
  },
  "toc": {
   "base_numbering": 1,
   "nav_menu": {},
   "number_sections": true,
   "sideBar": true,
   "skip_h1_title": false,
   "title_cell": "Table of Contents",
   "title_sidebar": "Contents",
   "toc_cell": false,
   "toc_position": {},
   "toc_section_display": true,
   "toc_window_display": false
  }
 },
 "nbformat": 4,
 "nbformat_minor": 5
}
