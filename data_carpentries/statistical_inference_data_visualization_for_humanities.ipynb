{
 "cells": [
  {
   "cell_type": "markdown",
   "id": "ec4c14a6",
   "metadata": {},
   "source": [
    "# What is Statistical Inference and Why do Digital Humanists need it?"
   ]
  },
  {
   "cell_type": "markdown",
   "id": "d0c35233",
   "metadata": {},
   "source": [
    "**Statistical Inference:** the theory, methods, and practice of forming judgements about the parameters of a population and the reliability of statistical relationships, typically on the basis of <u> random sampling </u>. (Oxford Dictionary)"
   ]
  },
  {
   "cell_type": "markdown",
   "id": "67f1ac46-145c-4ea6-bd5e-ef68c97fcfe2",
   "metadata": {},
   "source": [
    "**Another definition:** guessing the real value of something based only on a limited sample of observations. "
   ]
  },
  {
   "cell_type": "markdown",
   "id": "f8ee43c6-e3bd-4424-b5b1-3b6493331d86",
   "metadata": {},
   "source": [
    "To do statistical inference, we can examine which feature impacts a certain target more. "
   ]
  },
  {
   "cell_type": "markdown",
   "id": "e49efd96",
   "metadata": {},
   "source": [
    "The dataset we are going to analyze was downloaded from IMDB. We want to see what features have the biggest impact on the rating of a certain movie. "
   ]
  },
  {
   "cell_type": "code",
   "execution_count": 1,
   "id": "88cb0c1f",
   "metadata": {},
   "outputs": [],
   "source": [
    "import requests\n",
    "from bs4 import BeautifulSoup\n",
    "import pandas as pd"
   ]
  },
  {
   "cell_type": "code",
   "execution_count": 7,
   "id": "8981ab72",
   "metadata": {},
   "outputs": [],
   "source": [
    "# Function to scrape individual movie details\n",
    "def scrape_movie_details(movie_url):\n",
    "    response = requests.get(movie_url)\n",
    "    print(\"Access status:\", response.status_code)\n",
    "    if response.status_code == 200:\n",
    "        print(\"Access granted. Scraping successful.\")\n",
    "        soup = BeautifulSoup(response.text, 'html.parser')\n",
    "        \n",
    "        title = soup.find('h1').text.strip()\n",
    "        year = soup.find('span', class_='TitleBlockMetaData__ListItemText-sc-12ein40-2 jedhex').text.strip()\n",
    "        actors = [actor.text.strip() for actor in soup.find_all('a', class_='StyledComponents__ActorName-y9ygcu-1 eyqFnv')]\n",
    "        genre = [genre.text.strip() for genre in soup.find_all('a', class_='GenresAndPlot__GenreChip-cum89p-3 fzmeux ipc-chip ipc-chip--on-baseAlt')]\n",
    "        rating = soup.find('span', class_='AggregateRatingButton__RatingScore-sc-1ll29m0-1 iTLWoV').text.strip()\n",
    "        \n",
    "        return {\n",
    "            'title': title,\n",
    "            'year': year,\n",
    "            'actors': actors[:5],  # Select first 5 actors\n",
    "            'genre': genre,\n",
    "            'rating': rating\n",
    "        }\n",
    "    else:\n",
    "        print(\"Access denied. Scraping failed.1\")\n",
    "        return None"
   ]
  },
  {
   "cell_type": "code",
   "execution_count": 8,
   "id": "b7c0fd5b",
   "metadata": {},
   "outputs": [],
   "source": [
    "# Function to scrape the list of movies\n",
    "def scrape_movie_list(url):\n",
    "    response = requests.get(url)\n",
    "    print(\"Access status:\", response.status_code)\n",
    "    if response.status_code == 200:\n",
    "        print(\"Access granted. Scraping successful.\")\n",
    "        soup = BeautifulSoup(response.text, 'html.parser')\n",
    "        movie_list = soup.find_all('div', class_='lister-item-content')\n",
    "\n",
    "        movie_details = []\n",
    "        for movie in movie_list:\n",
    "            movie_link = movie.find('a', href=True)['href']\n",
    "            movie_url = f'https://www.imdb.com{movie_link}'\n",
    "            movie_info = scrape_movie_details(movie_url)\n",
    "            if movie_info:\n",
    "                movie_details.append(movie_info)\n",
    "\n",
    "        return movie_details\n",
    "    else:\n",
    "        print(\"Access denied. Scraping failed.2\")\n",
    "        return None"
   ]
  },
  {
   "cell_type": "code",
   "execution_count": 9,
   "id": "a3e261d1",
   "metadata": {},
   "outputs": [],
   "source": [
    "# Main function to scrape IMDb\n",
    "def scrape_imdb(url):\n",
    "    movie_details = scrape_movie_list(url)\n",
    "    return movie_details"
   ]
  },
  {
   "cell_type": "code",
   "execution_count": 10,
   "id": "a9ae2d0c",
   "metadata": {},
   "outputs": [
    {
     "name": "stdout",
     "output_type": "stream",
     "text": [
      "Access status: 403\n",
      "Access denied. Scraping failed.2\n"
     ]
    }
   ],
   "source": [
    "# The search URL includes movies made in the US in the last three months of the year 2000:\n",
    "url= 'https://www.imdb.com/search/title/?release_date=2000-01-01,2000-01-15&country_of_origin=US'\n",
    "\n",
    "imdb_data = scrape_imdb(url)\n",
    "imdb_data\n",
    "\n",
    "# Print the data\n",
    "# for movie in imdb_data:\n",
    "#     print(movie)"
   ]
  },
  {
   "cell_type": "code",
   "execution_count": null,
   "id": "e356dd1c",
   "metadata": {},
   "outputs": [],
   "source": []
  },
  {
   "cell_type": "code",
   "execution_count": null,
   "id": "3982d9e5",
   "metadata": {},
   "outputs": [],
   "source": []
  },
  {
   "cell_type": "code",
   "execution_count": null,
   "id": "7572882a",
   "metadata": {},
   "outputs": [],
   "source": []
  },
  {
   "cell_type": "code",
   "execution_count": null,
   "id": "23271cd8",
   "metadata": {},
   "outputs": [],
   "source": []
  }
 ],
 "metadata": {
  "kernelspec": {
   "display_name": "Python 3 (ipykernel)",
   "language": "python",
   "name": "python3"
  },
  "language_info": {
   "codemirror_mode": {
    "name": "ipython",
    "version": 3
   },
   "file_extension": ".py",
   "mimetype": "text/x-python",
   "name": "python",
   "nbconvert_exporter": "python",
   "pygments_lexer": "ipython3",
   "version": "3.10.6"
  },
  "toc": {
   "base_numbering": 1,
   "nav_menu": {},
   "number_sections": true,
   "sideBar": true,
   "skip_h1_title": false,
   "title_cell": "Table of Contents",
   "title_sidebar": "Contents",
   "toc_cell": false,
   "toc_position": {},
   "toc_section_display": true,
   "toc_window_display": false
  }
 },
 "nbformat": 4,
 "nbformat_minor": 5
}
