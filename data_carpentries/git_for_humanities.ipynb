{
 "cells": [
  {
   "cell_type": "markdown",
   "id": "be106d6c",
   "metadata": {},
   "source": [
    "**<font size=\"4\">Episodes</font>**\n",
    "\n",
    "1. Why to use Git as a (digital) humanities scholar\n",
    "2. What is Git?\n",
    "3. Different ways of using git\n",
    "4. Git without the command line\n",
    "\n",
    "**<font size=\"4\">Objectives</font>**\n",
    "\n",
    "This course addresses learners from the humanities with zero or little git and programming skills (try to be even more specific about the target audience and their background knowledge), who wish to integrate big data and digital methods of data analysis into their research. It walks the learners through learning the concept of git and the best practice of implementing it in their solo or collaborative projects. \n",
    "\n",
    "**<font size=\"4\">Desired Outcome</font>**\n",
    "\n",
    "At the end of this course, the learners will have gained a solid understanding of what git is and how it can be used through github and its desktop app to collaborate with other team members on the development of a digital humanities project that incorporates any filetype. \n",
    "\n",
    "**<font size=\"4\">Motivation of the Audience</font>**\n",
    "\n",
    "Address the concrete needs and desires of people already working in the area of digital humanities: \n",
    "\n",
    "- What challenges have they been facing?\n",
    "- How would learning git help them progress in their collaborative projects?\n",
    "\n",
    "**<font size=\"4\">Prerequisite Knowledge</font>**\n",
    "\n",
    "- Knowing how to work with an internet browser;\n",
    "- basic knowledge of one of the operating systems Windows or macOS"
   ]
  },
  {
   "cell_type": "markdown",
   "id": "96774403",
   "metadata": {},
   "source": [
    "<font color=green>\n",
    "This is to save how links can be embedded in markdown cells: we are\n",
    "</font> \n",
    "<A Href=\"https://carpentries.github.io/lesson-development-training/infrastructure.html\">here</A>."
   ]
  },
  {
   "cell_type": "markdown",
   "id": "8771d5f8",
   "metadata": {},
   "source": [
    "# Why to use Git as a (digital) humanities scholar"
   ]
  },
  {
   "cell_type": "markdown",
   "id": "7b89e5bd",
   "metadata": {},
   "source": [
    "No matter in which area of the humanities you are working and whether you are implementing digital methods and tools or not, learning to use Git can be very beneficial for you. This episode explores the reasons why it is useful to learn git and how it can contribute to your research, no matter if you are carrying out individually or in collaboration with a team.\n",
    "\n",
    "In this episode, I am going to briefly touch upon concrete problems that most humanities scholars have come across in their research projects. For now, I will only introduce the problems and will not address the solution, which is Git. So the purpose of this episode is to first make sense of the use cases of Git, before actually learning about how to implement it. "
   ]
  },
  {
   "cell_type": "markdown",
   "id": "3a4d1692",
   "metadata": {},
   "source": [
    "Working on book projects or writing articles, all humanities scholars know how file titles such as **final_article.docx**, **final_final_article.docx**, **final_final_article_reviewed_by_gs.docx** and **final_final_article_reviewed_by_gs_commented_by_dh.docx** are developed. The creation of files with ever larger titles, each addressing a certain development phase of the original article, can go on for a long time and it results in multiple versions of the original article file. As long as there is only one person working on the article file and deciding what changes to make to it and which comments or review points to ignore, this **<font color=red>version control</font>** system can work alright. Although after some time passes, the owner of the file might not remember any more exactly which stage of the development of the original article is stored in which file and what exactly is the difference between the contents of **final_article.docx** and **final_final_article**, unless they read both versions entirely again. In other words, the file title does not offer us enough space for an extensive **<font color=red>documentation</font>** of the work in progress. \n",
    "\n",
    "But what if multiple people are working on the same file at the same time? One method for collaboratively developing any kind of documnet is using cloud services that enable synchronous and collaborative writing, such as Google Docs or Google Sheets. However, if people you are collaborating with on a certain Google Docs document delete or change parts of the text that others had written previously, it would be very difficult and confusing to compare the current version of the text with the previous versions and decide whether or not there have been conflicts between these versions or how it would be possible to synthesize and merge two different versions of the same paragraph by two different collaborators, without completely eliminating one and replacing it with the other. In other words, **<font color=red>collaboration</font>** on developing the same file or files can become confusing, if you do not want to replace content that has been developed by other people with your own, but you rather prefer to merge the contributions of everybody involved in the project.\n",
    "\n",
    "If you are writing code, the problems of **<font color=red>version control</font>**, **<font color=red>documentation</font>** and **<font color=red>collaboration</font>** can become even more predominant, because different peopl. This is when Git can come to your rescue. "
   ]
  },
  {
   "cell_type": "markdown",
   "id": "f8a2e5da",
   "metadata": {},
   "source": [
    "**<font color=red>\n",
    "we are here\n",
    "</font>**"
   ]
  },
  {
   "cell_type": "markdown",
   "id": "fc9241cd",
   "metadata": {},
   "source": [
    "# What is Git?"
   ]
  }
 ],
 "metadata": {
  "kernelspec": {
   "display_name": "Python 3 (ipykernel)",
   "language": "python",
   "name": "python3"
  },
  "language_info": {
   "codemirror_mode": {
    "name": "ipython",
    "version": 3
   },
   "file_extension": ".py",
   "mimetype": "text/x-python",
   "name": "python",
   "nbconvert_exporter": "python",
   "pygments_lexer": "ipython3",
   "version": "3.10.6"
  },
  "toc": {
   "base_numbering": 1,
   "nav_menu": {},
   "number_sections": true,
   "sideBar": true,
   "skip_h1_title": false,
   "title_cell": "Table of Contents",
   "title_sidebar": "Contents",
   "toc_cell": false,
   "toc_position": {},
   "toc_section_display": true,
   "toc_window_display": false
  }
 },
 "nbformat": 4,
 "nbformat_minor": 5
}
