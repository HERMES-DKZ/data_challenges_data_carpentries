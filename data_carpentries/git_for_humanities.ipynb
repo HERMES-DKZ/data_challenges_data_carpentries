{
 "cells": [
  {
   "cell_type": "markdown",
   "id": "96774403",
   "metadata": {},
   "source": [
    "<font color=red>\n",
    "This is to save how links can be embedded in markdown cells. The link to the workbench tutorial can be found\n",
    "</font> \n",
    "<A Href=\"https://carpentries.github.io/lesson-development-training/infrastructure.html\">here</A>."
   ]
  },
  {
   "cell_type": "markdown",
   "id": "be106d6c",
   "metadata": {},
   "source": [
    "**<font size=\"4\">Episodes</font>** (to be updated)\n",
    "\n",
    "1. Why to use Git as a (digital) humanities scholar\n",
    "2. How does Git work?\n",
    "3. Different ways of using Git\n",
    "4. Let's get a bit more technical: what are Git and Github?\n",
    "5. Installing Git and creating a Github account\n",
    "6. The logic of the world of Git\n",
    "\n",
    "...\n",
    "\n",
    "7. Git best practice (There are important rules and methods of collaboration as a team on a certain project. )\n",
    "\n",
    "**<font size=\"4\">Objectives</font>**\n",
    "\n",
    "This course addresses learners from the humanities with zero or little git and programming skills (try to be even more specific about the target audience and their background knowledge), who wish to integrate big data and digital methods of data analysis into their research. It walks the learners through learning the concept of git and the best practice of implementing it in their solo or collaborative projects. \n",
    "\n",
    "**<font size=\"4\">Desired Outcome</font>**\n",
    "\n",
    "At the end of this course, the learners will have gained a solid understanding of what git is and how it can be used through github and its desktop app to collaborate with other team members on the development of a digital humanities project that incorporates any filetype and folder structure. \n",
    "\n",
    "**<font size=\"4\">Motivation of the Audience</font>**\n",
    "\n",
    "Address the concrete needs and desires of people already working in the area of digital humanities: \n",
    "\n",
    "- What challenges have they been facing?\n",
    "- How would learning git help them progress in their collaborative projects?\n",
    "\n",
    "**<font size=\"4\">Prerequisite Knowledge</font>**\n",
    "\n",
    "- Knowing how to work with an internet browser;\n",
    "- basic knowledge of working with the terminal"
   ]
  },
  {
   "cell_type": "markdown",
   "id": "8771d5f8",
   "metadata": {},
   "source": [
    "# Why to use Git as a (digital) humanities scholar"
   ]
  },
  {
   "cell_type": "markdown",
   "id": "7b89e5bd",
   "metadata": {},
   "source": [
    "No matter in which area of the humanities you are working and whether you are implementing digital methods and tools or not, learning to use Git can be very beneficial for you. This episode explores the reasons why it is useful to learn git and how it can contribute to your research, no matter if you are carrying out individually or in collaboration with a team.\n",
    "\n",
    "In this episode, I am going to briefly touch upon concrete problems that most humanities scholars have come across in their research projects. For now, I will only introduce the problems and will not address the solution, which is Git. So the purpose of this episode is to first make sense of the use cases of Git, before actually learning about how to implement it. "
   ]
  },
  {
   "cell_type": "markdown",
   "id": "3a4d1692",
   "metadata": {},
   "source": [
    "Working on book projects or writing articles, all humanities scholars know how file names such as **final_article.docx**, **final_final_article.docx**, **final_final_article_reviewed_by_gs.docx** and **final_final_article_reviewed_by_gs_commented_by_dh.docx** etc. are developed. The creation of files with ever larger titles, each addressing a certain development phase of the original article, can go on for a long time and it results in multiple versions of the original article file. As long as there is only one person working on the article file and deciding what changes to make to it and which comments or review points to ignore, this **<font color=blue>version control</font>** system can work alright. Although after some time passes, the owner of the file might not remember any more exactly which stage of the development of the original article is stored in which file and what exactly is the difference between the contents of **final_article.docx** and **final_final_article.docx**, unless they read both versions entirely again. In other words, the file title does not offer us enough space for an extensive **<font color=blue>documentation</font>** of the work in progress.\n",
    "\n",
    "<A Href=\"https://swcarpentry.github.io/git-novice/01-basics.html\">automated version control</A> (Credit: The Carpentries)\n",
    "\n",
    "But what if multiple people are working on the same file at the same time? One method for collaboratively developing any kind of document is using cloud services that enable synchronous and collaborative writing, such as Google Docs or Google Sheets. However, if people you are collaborating with on a certain Google Docs document delete or change parts of the text that others had written previously, it would be very difficult and confusing to compare the current version of the text with the previous versions and decide whether or not there have been conflicts between these versions or how it would be possible to synthesize and merge two different versions of the same paragraph by two different collaborators, without completely eliminating one and replacing it with the other. In other words, **<font color=blue>collaboration</font>** on developing the same file or files can become confusing if you do not want to replace content that has been developed by other people with your own, but you rather prefer to merge the contributions of everybody involved in the project.\n",
    "\n",
    "If you are writing code, the problems of **<font color=blue>version control</font>**, **<font color=blue>documentation</font>** and **<font color=blue>collaboration</font>** can become even more predominant, because different people will be working on different project files and folders simultaneously. This is when Git can come to your rescue. "
   ]
  },
  {
   "cell_type": "markdown",
   "id": "fc9241cd",
   "metadata": {},
   "source": [
    "# How does Git work?"
   ]
  },
  {
   "cell_type": "markdown",
   "id": "5eec73fa",
   "metadata": {},
   "source": [
    "To develop a deep understanding of what Git is and how it works, it would be helpful to use your powers of imagination. Imagine your partner and you get to raise a child. Let us name this child Lily. As soon as Lily enters your lives, each one of you develops their own plans and wishes for her future: you want Lily to become an internationally known sports athlete, whereas your partner wants her to grow up to become a prominent scientist. Since you both want the best for Lily's future, but each have your own methods of raising and educating her, you realize you cannot have her go both life paths at once. This is when the wizard 🧙🏻 of Git comes to assist you by inviting you to an experiment.\n",
    "\n",
    "The wizard of Git makes you an offer: he keeps the real infant Lily by himself and gives you and your partner each a cloned Lily instead. He also hands each one of you a magical polaroid camera and a photo album. From here on, each one of you enters an alternative reality, taking their cloned Lily, their camera and album with them. Each parent raises their cloned Lily in their own alternative reality exactly the way they want to, and documents important moments of her life using the camera. For example, the first photo in your album would be one of your cloned Lily at the age of 3 with a swimsuit, standing near a swimming pool. You put this photo in the album and write a note next to it: \"Lily at the age of 3, just after having taken her first swimming lesson.\" You and your partner each keep raising their cloned Lily up to the age of 18 and each of you documents the key moments of her growth in their own alternative world, using the magical camera and the album. As soon as Lily turns 18 in each alternative reality, the magic ends: your cloned Lilies disappear and you and your partner both return to the real world, only carrying your photo albums with you. \n",
    "\n",
    "In the real world, nothing has changed since you entered the two alternative realities. Lily is still an infant and now you want her to grow up to the age of 18 at the blink of an eye, going through every single stage that both you and your partner have documented with your cameras. The wizard of Git is here to help you do that. He looks at the photos and sees if it is possible to merge both parallel realities with each other and have Lily go through every single life stage that was documented on both sides. Sometimes it is possible to merge these realities. For example, Lily has lived in Johannesburg in your alternative reality at the age of 10, going to school and taking swim lessons in her free time. You have a photo in your album that shows her during practice, with a note that delivers exactly this information. In your partner's alternative reality, Lily has also lived in Johannesburg and gone to the same school at the age of 10, but she has spent her spare time focusing more deeply on her mathematics lessons. Your partner's photo of the ten-year-old Lily depicts her smiling proudly in the camera, holding the solution of a maths problem in her hand. These two events in the lives of the two cloned Lilies can be merged, so that the real Lily can have gone to school in Johannesburg at the age of 10 and divided her spare time between solving mathematics problems and excelling in swimming. \n",
    "\n",
    "But sometimes conflicts between the two alternative realities can make the merging process difficult. If your cloned Lily has been in Brazil at the age of 17 taking full-time professional swimming training, whereas your partner's cloned Lily has lived in South Korea at that age while she was taking full-time professional math courses, then it is not clear what the real Lily's life experience should be. Here, you and your partner should engage in conversation and each manipulate your alternative realities in a way so that they can be merged into the *real* reality by the Git wizard. Going through the entire albums, solving the conflicts and merging the two alternative realities up until Lily's 18th birthday can finally result in a real Lily who is now suddenly grown from infancy to being 18 years old and who has a memory of the merged life experiences resulting from both alternative realities. \n",
    "\n",
    "This imaginary anecdote can clearly explain how Git works. Just replace Lily with any project that you are developing collaboratively with a team, the photos and their notes with *commits*, the alternative realities with the *branches* and the final merging of the two realities with the *pull and merge request*. The real Lily stands for the final product of your project. \n",
    "\n",
    "Now that you know how Git functions and what the logic behind it is, you can go through the next episode to learn about the technical aspects of Git. "
   ]
  },
  {
   "cell_type": "markdown",
   "id": "1ff854a2",
   "metadata": {},
   "source": [
    "# Different ways of using Git"
   ]
  },
  {
   "cell_type": "markdown",
   "id": "cdf29f82",
   "metadata": {},
   "source": [
    "You can use Git locally on your computer, in order to keep track of the development of your solo projects. You can also use a remote Git server, such as GitHub or GitLab, to work with a team collaboratively on a project.\n",
    "\n",
    "In both cases, you can use the *Command Line Interface (CLI)* or the *terminal* of your operating system to work with Git. This is what most professional programmers do. It is also possible to use a *Graphical User Interface (GUI)* for Git. A Graphical User Interface is a way to interact with your computer that uses pictures and symbols instead of just words. It is what you see on your screen when you are using programs with buttons, menus, and icons that you can click on to do things. So, instead of typing commands like you might with a command line, you can use your mouse or touchscreen to navigate and control your computer in a more visual way.\n",
    "\n",
    "In this lesson, you are going to learn how to use the CLI to interact with the online Github server to collaborate with your team members on the projects you are developing together. I have opted for the CLI because, in my opinion, it is much easier to use than Github's GUI. "
   ]
  },
  {
   "cell_type": "markdown",
   "id": "d60bb81f",
   "metadata": {},
   "source": [
    "# Let's get a bit more technical: what are Git and Github?"
   ]
  },
  {
   "cell_type": "markdown",
   "id": "d02d3731",
   "metadata": {},
   "source": [
    "In this episode, we can finally bring the contents of the previous episodes together and explain what Git is in more technical terms. Just like other software that you use on your PC on a daily basis, Git is also a software with a logic and a functionality of its own. So in order to use it, you should first install it on your computer. You will learn how to install Git on different operating systems in the following episode. \n",
    "\n",
    "Git's use cases include the ones mentioned in episode one: \n",
    "\n",
    "1. version control\n",
    "2. documentation of the development phases\n",
    "3. collaborative project development"
   ]
  },
  {
   "cell_type": "markdown",
   "id": "66424d8d",
   "metadata": {},
   "source": [
    "## The logic behind Git"
   ]
  },
  {
   "cell_type": "markdown",
   "id": "fdf1ee23",
   "metadata": {},
   "source": [
    "Usually, the projects that you start developing are composed of files, stored in folders on your personal computer. But remember! In the world of Git, objects and the relationships between them have different names than in the worlds of common operating systems such as Windows or macOS. When you project the magical world of Git on the folder structure that you have already created locally on your computer, the main folder containing your files is not called a *folder* any more, but rather a *repository* in the world of Git. When you first introduce your local project to the wizard of Git, the contents of the main folder containing your project are the same as the contents of the *main* repository in the world of Git. \n",
    "\n",
    "🡺 Note: How the main repository was used to be called *master*, but the anticolonial discourse changed it. \n",
    "\n",
    "When you introduce a certain folder to the wizard of Git, that is, when you *initialize* Git within a certain folder, it starts watching that folder as a *repository* and every change that takes place within it, including adding new files or changing or deleting existingb ones. Whenever you feel like you want to take a snapshot of the current state of your main repository and its contents to document that stage of the repository's development, you should *add* the files and folders the changes of which you want to document in your snapshot to the imaginary photo album in which you are documenting the stages of the project's development. But remember, taking a snapshot from a certain stage of development is not enough. You also have to write a note about the snapshot that explains exactly which stage of development this snapshot is documenting. This note is called a *commit* in the world of git. \n",
    "\n",
    "So, let us go through all the stages of documentation one more time, whenever you want to save a certain stage of a project's development: \n",
    "\n",
    "1. You *initialize* Git within the main folder of your project, introducing that folder to Git as the project's *main repository*. \n",
    "2. You *add* all files and folders within your *main* repository, the changes of which you wish to document, to Git's *stage*. In other words, you hereby *stage* certain files and folders. \n",
    "3. You write a *commit*, explaining what stage of the project's development you are documenting at this moment. "
   ]
  },
  {
   "cell_type": "markdown",
   "id": "4191b786",
   "metadata": {},
   "source": [
    "### Branching: Creating virtual realities within the world of Git"
   ]
  },
  {
   "cell_type": "markdown",
   "id": "276cac42",
   "metadata": {},
   "source": [
    "As long as you are working in the main repository, no virtual realities are created and Git is only tracking changes and saving snapshots together with their commits. This means: as long as you keep working in the main folder of your project and the main Git repository, your local files and folders are the same as the ones in the Git repository and Git only registers their changes at your demand. The real magic of Git begins when you create *brances*, or virual realities, from the main repository. \n",
    "\n",
    "Now imagine you are going to test some alternatives on the project that you are working on, but you are not sure if these alternative will turn out the way you have imagined. For example, suppose you are a graphic designer and you are designing a logo for a client. You have already come up with a draft of the logo and saved it to the file \"logo.jpg\", and would like to test if would look nicer if you rounded the edges and changed the yellow colors to orange. One way of doing so would be to create a copy of your draft file, rename it to, say, \"logo_round_edges_and_orange.jpg\", and keep working on it. But, as it was mentioned in earlier episode, this could soon lead to a chaos where you will have multiple files with similar names on your computer and you could quickly lose an overview of what is what and which alternative designs are in which file. Here is how the wizard of Git can help you:\n",
    "\n",
    "In the world of Git, it is possible to create alternative realities. If the reality consists of the concrete files and folders that you have stored on your hard drive, Git allows you to create alternative versions of these files and folders without changing the actual files and folders. This is the most important part of the magic of Git! \n",
    "\n",
    "**Remember!** <font color=blue> Whereas the folder- and file systems on your computer follow a spacial logic (eg. you look for the *path* of a file and a certain file is *inside* a certain folder), the logic of Git is of a temporal nature, meaning that Git can create *simultaneous* parallel realities in which different adjustments are made to the files that are stored on your computer. Also, Git can record different *stages* of the development of certain files and folders. </font>\n",
    "\n",
    "You can create these alternative realities, using *branching*. The wizard of Git imagines the temporal aspect of your project as a tree. As long as you are working on the main repository and saving the changes directly to its files and folders, you are on the *trunk* of the tree, or on its *main branch*. When you decide to create an alternative reality as a graphic designer and test your new idea in it, you should create a new *branch* stemming from the *main branch* and work in there. When you create a new branch, you should first give it a name. In the example of the graphic designer, this name could be \"round_edges_and_orange\". When you enter this branch, you sill see your files and folders as they were on your hard drive before you created the branch. So here, you will keep working on the file \"logo.jpg\", make your desired changes to it, and save them. But if you exit the round_edges_and_orange branch, return to the main branch, and open the same file \"logo.jpg\", you would see that it is still in the state that it was before you created the new branch and applied changes to it. Remember the example of Lily and the wizard of Git? Lily, or the \"logo.jpg\" file on the main branch, remains unchanged, whereas you keep changing and developing it further in a virtual reality. Just as in the main branch, it is also possible to *add* your file in the new branch to Git's stage and write a *commit* on it at each desired and meaningful stage of development, just as it was possible to document Lily's growth with the magical camera and add it to an album with a short note. "
   ]
  },
  {
   "cell_type": "markdown",
   "id": "66249f66",
   "metadata": {},
   "source": [
    "### Merging new branches with the main branch"
   ]
  },
  {
   "cell_type": "markdown",
   "id": "291df4ae",
   "metadata": {},
   "source": [
    "When you are finished with your adjustments, it is time to compare the resulting design in the \"round_edges_and_orange\" branch with the ones in the *main branch*. If you do not like the alternative design, you can simple delete the branch that you created this design in it and keep working in the main branch again, making the final adjustments to the logo. But if you *do* prefer the alternative design, you should *merge* it with the design that you already have on the *main* branch. Because, remember, the only *real* reality in the world of Git consists of files and folders that you have saved onto your hard drive. If you copy these files and folders onto a USB-stick or email them to somebody, they will be transfered in the stage that they are in within the main branch. In other words, the other branches created out the main branch do not convert into reality until they are *merged* with the reality. Before the merging, they are only *alternative* realities that exist in a magical world. \n",
    "\n",
    "Just as in Lily's example, conflicts may occur while trying to merge different branches with the main branch. In Lily's example, the conflict occurred because somebody else had also created their own branch, i.e. their own virtual reality, and had developed it differently from you. Conflicts such as these occur while collaborating with other people, using a remote repository hosting service such as Github. For now, we should handle merge conflict management between a new branch and the main branch, which is also likely to occur. \n",
    "\n",
    "Depending on which kind of file you are working on, resolving merge conflicts can be different. In case of image files, since it is very difficult to create a synthesis of the two images in the two branches, you should often choose between the two images. If you opt for the new logo that you have developed in the \"round_edges_and_orange\" branch while merging this branch with the main branch, this logo will replace the one you originally had on your hard drive, with sharp edges and the dominant color yellow. After merging the new branch with the main branch, you can delete the new branch, because you do not need the alternative reality that you had created in it any more. Alternatively, if you prefer your original logo design for now, but would like to keep the alternative one as well and maybe return to it later, you can still keep the branch containing the alternative logo, but keep working further on the one that you previously had on the main branch, without merging the two branches. \n",
    "\n",
    "Till now, you have learned the logic of Git when using it on your personal computer. But what happens when you are collaborating with a team on a project, with each team member working on the project from their own computers? This question will be answered in the next chapter, which teaches you how to use a remote *Git repository hosting service*, namely Github. "
   ]
  },
  {
   "cell_type": "markdown",
   "id": "7822a0c4",
   "metadata": {},
   "source": [
    "**TIP:** It is also possible to create branches from the new branch that you have created, and merge them with the new branch before merging the new branch with the main branch. We will not handle this in the current lesson, but since you now know the logic of Git and how branching implements this logic, it would not be difficult for you to implement this kind of *second order branching* (my own terminology that I have borrowed from George Spencer-Brown) whenever it is meaningful and necessary for your project. "
   ]
  },
  {
   "cell_type": "markdown",
   "id": "1079f463",
   "metadata": {},
   "source": [
    "<font color=red> Important question: how to return to the commits and revert the changes to a certain commit? </font>"
   ]
  },
  {
   "cell_type": "markdown",
   "id": "78ecd9e6",
   "metadata": {},
   "source": [
    "## Github: A Git repository hosting service"
   ]
  },
  {
   "cell_type": "markdown",
   "id": "d1f35a55",
   "metadata": {},
   "source": [
    "If you are collaborating with a team on the same project, your partners in the project should also gain access to the main repository that you have created on your computer and be able to <font color=red>*clone*</font> it on their own computers. So instead of copying the source folder of the project and the files that it contains on a USB stick and handing it personally to your partners, or sending the entire content of the source folder to your partners by email, you can synchronize your local world of Git with a remote world of Git and share the remote repository with other collaborators of the project. There are many different *Git repository hosting services* online, such as Github, Gitlab, Bitbucket, Azure DevOps Server, etc. Here, we are going to learn to use Github.\n",
    "\n",
    "After you *push* your local Git repository to Github, your teammates can download or *pull* it onto their own computers. So now you all have the same source folder of the project, together with all the files that it contains, on your computers. All of you also have the world of Git projected on your folder and files locally, which means that the wizard of Git is following your main repositories and its contents and it can do things with them. Now you can start collaborating with your teammates on the project. \n",
    "\n",
    "**<font color=orange>\n",
    "we are here\n",
    "</font>**\n",
    "\n",
    "\n",
    "pushing\n",
    "\n",
    "creating pull requests"
   ]
  },
  {
   "cell_type": "markdown",
   "id": "b05725cd",
   "metadata": {},
   "source": [
    "# Installing Git and creating a Github account"
   ]
  },
  {
   "cell_type": "markdown",
   "id": "faf19c91",
   "metadata": {},
   "source": [
    "<A Href=\"https://swcarpentry.github.io/git-novice/#installing-git\">installing Git</A> (Credit: The Carpentries)\n",
    "\n",
    "<A Href=\"https://swcarpentry.github.io/git-novice/#creating-a-github-account\">creating a Github account</A> (Credit: The Carpentries)\n",
    "\n",
    "<A Href=\"https://swcarpentry.github.io/git-novice/index.html#preparing-your-working-directory\">preparing your working directory</A> (Credit: The Carpentries)\n",
    "\n",
    "<A Href=\"https://swcarpentry.github.io/git-novice/02-setup.html\">setting up Git</A> (Credit: The Carpentries) (Content needs to be modified)"
   ]
  },
  {
   "cell_type": "markdown",
   "id": "34e22d7f",
   "metadata": {},
   "source": [
    "# Start using Git"
   ]
  },
  {
   "cell_type": "markdown",
   "id": "202f0382",
   "metadata": {},
   "source": []
  },
  {
   "cell_type": "markdown",
   "id": "adbcfa77",
   "metadata": {},
   "source": []
  },
  {
   "cell_type": "markdown",
   "id": "f41413b0",
   "metadata": {},
   "source": []
  },
  {
   "cell_type": "markdown",
   "id": "889d75e2",
   "metadata": {},
   "source": []
  }
 ],
 "metadata": {
  "kernelspec": {
   "display_name": "Python 3 (ipykernel)",
   "language": "python",
   "name": "python3"
  },
  "language_info": {
   "codemirror_mode": {
    "name": "ipython",
    "version": 3
   },
   "file_extension": ".py",
   "mimetype": "text/x-python",
   "name": "python",
   "nbconvert_exporter": "python",
   "pygments_lexer": "ipython3",
   "version": "3.10.6"
  },
  "toc": {
   "base_numbering": 1,
   "nav_menu": {},
   "number_sections": true,
   "sideBar": true,
   "skip_h1_title": false,
   "title_cell": "Table of Contents",
   "title_sidebar": "Contents",
   "toc_cell": false,
   "toc_position": {},
   "toc_section_display": true,
   "toc_window_display": false
  }
 },
 "nbformat": 4,
 "nbformat_minor": 5
}
