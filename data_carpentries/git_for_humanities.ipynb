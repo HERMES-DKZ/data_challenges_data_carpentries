{
 "cells": [
  {
   "cell_type": "markdown",
   "id": "96774403",
   "metadata": {},
   "source": [
    "<font color=green>\n",
    "This is to save how links can be embedded in markdown cells. The link to the workbench tutorial can be found\n",
    "</font> \n",
    "<A Href=\"https://carpentries.github.io/lesson-development-training/infrastructure.html\">here</A>."
   ]
  },
  {
   "cell_type": "markdown",
   "id": "be106d6c",
   "metadata": {},
   "source": [
    "**<font size=\"4\">Episodes</font>**\n",
    "\n",
    "1. Why to use Git as a (digital) humanities scholar\n",
    "2. How does Git work?\n",
    "3. Different ways of using Git\n",
    "4. Let's get a bit more technical: what are Git and Github?\n",
    "5. GitHub: Desktop app\n",
    "6. GitHub: linking the desktop app with the remote server\n",
    "7. Git best practice (There are important rules and methods of collaboration as a team on a certain project. )\n",
    "\n",
    "**<font size=\"4\">Objectives</font>**\n",
    "\n",
    "This course addresses learners from the humanities with zero or little git and programming skills (try to be even more specific about the target audience and their background knowledge), who wish to integrate big data and digital methods of data analysis into their research. It walks the learners through learning the concept of git and the best practice of implementing it in their solo or collaborative projects. \n",
    "\n",
    "**<font size=\"4\">Desired Outcome</font>**\n",
    "\n",
    "At the end of this course, the learners will have gained a solid understanding of what git is and how it can be used through github and its desktop app to collaborate with other team members on the development of a digital humanities project that incorporates any filetype and folder structure. \n",
    "\n",
    "**<font size=\"4\">Motivation of the Audience</font>**\n",
    "\n",
    "Address the concrete needs and desires of people already working in the area of digital humanities: \n",
    "\n",
    "- What challenges have they been facing?\n",
    "- How would learning git help them progress in their collaborative projects?\n",
    "\n",
    "**<font size=\"4\">Prerequisite Knowledge</font>**\n",
    "\n",
    "- Knowing how to work with an internet browser;\n",
    "- basic knowledge of one of the operating systems Windows or macOS"
   ]
  },
  {
   "cell_type": "markdown",
   "id": "8771d5f8",
   "metadata": {},
   "source": [
    "# Why to use Git as a (digital) humanities scholar"
   ]
  },
  {
   "cell_type": "markdown",
   "id": "7b89e5bd",
   "metadata": {},
   "source": [
    "No matter in which area of the humanities you are working and whether you are implementing digital methods and tools or not, learning to use Git can be very beneficial for you. This episode explores the reasons why it is useful to learn git and how it can contribute to your research, no matter if you are carrying out individually or in collaboration with a team.\n",
    "\n",
    "In this episode, I am going to briefly touch upon concrete problems that most humanities scholars have come across in their research projects. For now, I will only introduce the problems and will not address the solution, which is Git. So the purpose of this episode is to first make sense of the use cases of Git, before actually learning about how to implement it. "
   ]
  },
  {
   "cell_type": "markdown",
   "id": "3a4d1692",
   "metadata": {},
   "source": [
    "Working on book projects or writing articles, all humanities scholars know how file titles such as **final_article.docx**, **final_final_article.docx**, **final_final_article_reviewed_by_gs.docx** and **final_final_article_reviewed_by_gs_commented_by_dh.docx** are developed. The creation of files with ever larger titles, each addressing a certain development phase of the original article, can go on for a long time and it results in multiple versions of the original article file. As long as there is only one person working on the article file and deciding what changes to make to it and which comments or review points to ignore, this **<font color=red>version control</font>** system can work alright. Although after some time passes, the owner of the file might not remember any more exactly which stage of the development of the original article is stored in which file and what exactly is the difference between the contents of **final_article.docx** and **final_final_article**, unless they read both versions entirely again. In other words, the file title does not offer us enough space for an extensive **<font color=red>documentation</font>** of the work in progress. \n",
    "\n",
    "But what if multiple people are working on the same file at the same time? One method for collaboratively developing any kind of document is using cloud services that enable synchronous and collaborative writing, such as Google Docs or Google Sheets. However, if people you are collaborating with on a certain Google Docs document delete or change parts of the text that others had written previously, it would be very difficult and confusing to compare the current version of the text with the previous versions and decide whether or not there have been conflicts between these versions or how it would be possible to synthesize and merge two different versions of the same paragraph by two different collaborators, without completely eliminating one and replacing it with the other. In other words, **<font color=red>collaboration</font>** on developing the same file or files can become confusing, if you do not want to replace content that has been developed by other people with your own, but you rather prefer to merge the contributions of everybody involved in the project.\n",
    "\n",
    "If you are writing code, the problems of **<font color=red>version control</font>**, **<font color=red>documentation</font>** and **<font color=red>collaboration</font>** can become even more predominant, because different people will be working on different project files and folders simultaneously. This is when Git can come to your rescue. "
   ]
  },
  {
   "cell_type": "markdown",
   "id": "fc9241cd",
   "metadata": {},
   "source": [
    "# How does Git work?"
   ]
  },
  {
   "cell_type": "markdown",
   "id": "5eec73fa",
   "metadata": {},
   "source": [
    "To develop a deep understanding of what Git is and how it works, it would be helpful to use your powers of imagination. Imagine your partner and you get to raise a child. Let us name this child Lily. As soon as Lily enters your lives, each one of you develops their own plans and wishes for her future: you want Lily to become an internationally known sports athlete, whereas your partner wants her to grow up to become a prominent scientist. Since you both want the best for Lily's future, but each have your own methods of raising and educating her, you realize you cannot have her go both life paths at once. This is when the wizard 🧙🏻 of Git comes to assist you by suggesting an experiment.\n",
    "\n",
    "The wizard of Git makes you an offer: he keeps the real infant Lily by himself and gives you and your partner each a cloned Lily instead. He also hands each one of you a magical polaroid camera and a photo album. From here on, each one of you enters an alternative reality, taking their cloned Lily, their camera and album with them. Each parent raises their cloned Lily in their own alternative reality exactly the way they want to, and documents important moments of her life using the camera. For example, the first photo in your album would be one of your cloned Lily at the age of 3 with a swimsuit, standing near a swimming pool. You put this photo in the album and write a note next to it: \"Lily at the age of 3, just after having taken her first swimming lesson.\" You and your partner each keep raising their cloned Lily up to the age of 18 and each of you documents the key moments of her growth in their own alternative world, using the magical camera and the album. As soon as Lily turns 18 in each alternative reality, the magic ends: your cloned Lilies disappear and you and your partner both return to the real world, only carrying your photo albums with you. \n",
    "\n",
    "In the real world, nothing has changed since you entered the two alternative realities. Lily is still an infant and now you want her to grow up to the age of 18 at the blink of an eye, going through every single stage that both you and your partner have documented with your cameras. The wizard of Git is here to help you do that. He looks at the photos and sees if it is possible to merge both parallel realities with each other and have Lily go through every single life stage that was documented on both sides. Sometimes it is possible to merge these realities. For example, Lily has lived in Johannesburg in your alternative reality at the age of 10, going to school and taking swim lessons in her free time. You have a photo in your album that shows her during practice, with a note that delivers exactly this information. In your partner's alternative reality, Lily has also lived in Johannesburg and gone to the same school at the age of 10, but she has spent her spare time focusing more deeply on her mathematics lessons. Your partner's photo of the ten-year-old Lily depicts her smiling proudly in the camera, holding the solution of a maths problem in her hand. These two events in the lives of the two cloned Lilies can be merged, so that the real Lily can have gone to school in Johannesburg at the age of 10 and divided her spare time between solving mathematics problems and excelling in swimming. \n",
    "\n",
    "But sometimes conflicts between the two alternative realities can make the merging process difficult. If your cloned Lily has been in Brazil at the age of 17 taking full-time professional swimming training, whereas your partner's cloned Lily has lived in South Korea at that age while she was taking full-time professional math courses, then it is not clear what the real Lily's life experience should be. Here, you and your partner should engage in conversation and each manipulate your alternative realities in a way so that they can be merged into the *real* reality by the Git wizard. Going through the entire albums, solving the conflicts and merging the two alternative realities up until Lily's 18th birthday can finally result in a real Lily who is now suddenly grown from infancy to being 18 years old and who has a memory of the merged life experiences resulting from both alternative realities. \n",
    "\n",
    "This imaginary anecdote can clearly explain how Git works. Just replace Lily with any project that you are developing collaboratively with a team, the photos and their notes with *commits*, the alternative realities with the *branches* and the final merging of the two realities with the *pull and merge request*. The real Lily stands for the final product of your project. \n",
    "\n",
    "Now that you know how Git functions and what the logic behind it is, you can go through the next episode to learn about the technical aspects of Git. "
   ]
  },
  {
   "cell_type": "markdown",
   "id": "1ff854a2",
   "metadata": {},
   "source": [
    "# Different ways of using Git"
   ]
  },
  {
   "cell_type": "markdown",
   "id": "cdf29f82",
   "metadata": {},
   "source": [
    "You can use Git locally on your computer, in order to keep track of the development of your solo projects. You can also use a remote Git server, such as GitHub or GitLab, to work with a team collaboratively on a project.\n",
    "\n",
    "In both cases, you can use the *Command Line Interface (CLI)* or the *terminal* of your operating system to work with Git. This is what most professional programmers do. But in this lesson, we assume that you have not learned, or do not plan to learn, how to use the terminal yet. So we are going to introduce a different way of using Git, namely through a *Graphical User Interface (GUI)*. A Graphical User Interface is a way to interact with your computer that uses pictures and symbols instead of just words. It is what you see on your screen when you are using programs with buttons, menus, and icons that you can click on to do things. So, instead of typing commands like you might with a command line, you can use your mouse or touchscreen to navigate and control your computer in a more visual way.\n",
    "\n",
    "In this lesson, you are going to learn how to use GitHub's desktop app together with its online server to collaborate with your team members on the projects you are developing together. "
   ]
  },
  {
   "cell_type": "markdown",
   "id": "d60bb81f",
   "metadata": {},
   "source": [
    "# Let's get a bit more technical: what are Git and Github?"
   ]
  },
  {
   "cell_type": "markdown",
   "id": "d02d3731",
   "metadata": {},
   "source": [
    "In this episode, we can finally bring the contents of the previous episodes together and explain what Git is in more technical terms. Just like other software that you use on your PC on a daily basis, Git is also a software with a logic and a functionality of its own. So in order to use it, you should first install it on your computer. If you are not using the command line for Git, but want to use a graphical interface instead, which is what we are going to do here, Git will automatically be installed on your computer together with the graphical interface. So you do not need to install it separately. \n",
    "\n",
    "If you want to make sense of Git and its different graphical interfaces in the context of the story told in episode 2, you can imagine that Git is the wizard and the graphical interfaces are the different appearances that the wizard can have. The wizard will always be the same person and he will always do the same things as explained in episode 2, but depending on which graphical interface you are using, he can take on different looks 🧙🏻 🧙🏼‍♂️ 🧙🏽‍♀️ 🧞. \n",
    "\n",
    "Git's use cases include the ones mentioned in episode one: \n",
    "\n",
    "1. version control\n",
    "2. documentation of the development phases\n",
    "3. collaborative project development\n",
    "\n",
    "Usually, the projects that you start developing are composed of files, stored in folders on your personal computer. But remember, in the world of Git, objects and relationships between them have different names than in the worlds of common operating systems such as Windows or macOS. When you project the magical world of Git on the folder structure that you have already created locally on your computer, the main folder containing your files is not called a *folder* any more, but rather a *repository* in the world of Git. When you first introduce your local project to the wizard of Git, the contents of the main folder containing your project are the same as the contents of the *main* repository in the world of Git. \n",
    "\n",
    "If you are collaborating with a team on the same project, your partners in the project should also gain access to the main repository that you have created on your computer and be able to *clone* it on their own computers. So instead of copying the source folder of the project and the files that it contains on a USB stick and handing it personally to your partners, or sending the entire content of the source folder to your partners by email, you can synchronize your local world of Git with a remote world of Git and share the remote repository with other collaborators of the project. There are many different *Git repository hosting services* online, such as Github, Gitlab, Bitbucket, Azure DevOps Server, etc. Here, we are going to learn how to use the desktop app of Github together with its remote server. \n",
    "\n",
    "After you *push* your local Git repository to Github, your teammates can download it to their own computers. So now, you all have the same source folder of the project, together with all the files that it contains, on your computers. All of you also have the world of Git projected on your folder and files locally, which means that the wizard of Git is following your main repository and its contents and it can do things with them. Now you can start collaborating with your teammates on the project. \n",
    "\n",
    "\n",
    "\n",
    "**<font color=orange>\n",
    "we are here\n",
    "</font>**\n",
    "\n",
    "<font color=gray> There are two different ways of having the wizard of Git create alternative realities for you, in which you can develop your own version of the projects. These virtual realities allow you to take your cloned Lily, or cloned project, with you and develop it separately from other team members. Depending on whether you want to make changes to the entire structure and content of a project or only to one part of it, you can either branch </font>"
   ]
  },
  {
   "cell_type": "markdown",
   "id": "a33e62b6",
   "metadata": {},
   "source": []
  },
  {
   "cell_type": "markdown",
   "id": "ee4825ff",
   "metadata": {},
   "source": []
  },
  {
   "cell_type": "markdown",
   "id": "1d0db2d8",
   "metadata": {},
   "source": []
  }
 ],
 "metadata": {
  "kernelspec": {
   "display_name": "Python 3 (ipykernel)",
   "language": "python",
   "name": "python3"
  },
  "language_info": {
   "codemirror_mode": {
    "name": "ipython",
    "version": 3
   },
   "file_extension": ".py",
   "mimetype": "text/x-python",
   "name": "python",
   "nbconvert_exporter": "python",
   "pygments_lexer": "ipython3",
   "version": "3.10.6"
  },
  "toc": {
   "base_numbering": 1,
   "nav_menu": {},
   "number_sections": true,
   "sideBar": true,
   "skip_h1_title": false,
   "title_cell": "Table of Contents",
   "title_sidebar": "Contents",
   "toc_cell": false,
   "toc_position": {},
   "toc_section_display": true,
   "toc_window_display": false
  }
 },
 "nbformat": 4,
 "nbformat_minor": 5
}
