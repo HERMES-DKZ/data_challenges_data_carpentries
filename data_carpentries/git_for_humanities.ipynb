{
 "cells": [
  {
   "cell_type": "markdown",
   "id": "be106d6c",
   "metadata": {},
   "source": [
    "**<font size=\"4\">Episodes</font>**\n",
    "\n",
    "1. Why to use Git as a (digital) humanities scholar\n",
    "2. What is Git?\n",
    "3. Different ways of using git\n",
    "4. Git without the command line\n",
    "\n",
    "**<font size=\"4\">Objectives</font>**\n",
    "\n",
    "This course addresses learners from the humanities with zero or little git and programming skills (try to be even more specific about the target audience and their background knowledge), who wish to integrate big data and digital methods of data analysis into their research. It walks the learners through learning the concept of git and the best practice of implementing it in their solo or collaborative projects. \n",
    "\n",
    "**<font size=\"4\">Desired Outcome</font>**\n",
    "\n",
    "At the end of this course, the learners will have gained a solid understanding of what git is and how it can be used through github and its desktop app to collaborate with other team members on the development of a digital humanities project that incorporates any filetype. \n",
    "\n",
    "**<font size=\"4\">Motivation of the Audience</font>**\n",
    "\n",
    "Address the concrete needs and desires of people already working in the area of digital humanities: \n",
    "\n",
    "- What challenges have they been facing?\n",
    "- How would learning git help them progress in their collaborative projects?\n",
    "\n",
    "**<font size=\"4\">Prerequisite Knowledge</font>**\n",
    "\n",
    "- Knowing how to work with an internet browser;\n",
    "- basic knowledge of one of the operating systems Windows or macOS"
   ]
  },
  {
   "cell_type": "markdown",
   "id": "96774403",
   "metadata": {},
   "source": [
    "<font color=green>\n",
    "This is to save how links can be embedded in markdown cells: we are\n",
    "</font> \n",
    "<A Href=\"https://carpentries.github.io/lesson-development-training/infrastructure.html\">here</A>."
   ]
  },
  {
   "cell_type": "markdown",
   "id": "8771d5f8",
   "metadata": {},
   "source": [
    "# Why to use Git as a (digital) humanities scholar"
   ]
  },
  {
   "cell_type": "markdown",
   "id": "7b89e5bd",
   "metadata": {},
   "source": [
    "No matter in which area of the humanities you are working, whether or not implementing digital methods and tools, learning to use Git can be very beneficial for you. This episode explores the reasons why it is useful to learn git and how it can contribute to your research, no matter if you are carrying out individually or in collaboration with a team.\n",
    "\n",
    "In this episode, I am going to briefly touch upon concrete problems that most humanities scholars have come across in their research projects. For now, I will only introduce the problems and will not address the solution, which is Git. So the purpose of this episode is to first make sense of the use cases of Git, before actually learning about how to implement it. "
   ]
  },
  {
   "cell_type": "markdown",
   "id": "0b7ab4a3",
   "metadata": {},
   "source": [
    "## Version Control"
   ]
  },
  {
   "cell_type": "markdown",
   "id": "3a4d1692",
   "metadata": {},
   "source": [
    "**<font color=red>\n",
    "we are here\n",
    "</font>**\n",
    "\n",
    "Git allows scholars to track changes in their digital humanities projects over time. This is crucial for collaborative projects or for individual researchers who want to keep track of their work, revert to previous versions if necessary, or compare different iterations."
   ]
  },
  {
   "cell_type": "markdown",
   "id": "611b53c0",
   "metadata": {},
   "source": [
    "## Collaboration"
   ]
  },
  {
   "cell_type": "markdown",
   "id": "94255dd2",
   "metadata": {},
   "source": [
    "Digital humanities projects often involve collaboration among multiple scholars, researchers, or developers. Git provides a platform for seamless collaboration by enabling multiple people to work on the same project simultaneously, merge their changes, and resolve conflicts efficiently."
   ]
  },
  {
   "cell_type": "markdown",
   "id": "6eb65c64",
   "metadata": {},
   "source": [
    "## Branching and Experimentation"
   ]
  },
  {
   "cell_type": "markdown",
   "id": "0ccee127",
   "metadata": {},
   "source": [
    "Git allows scholars to create branches to experiment with new ideas or features without affecting the main project. This branching feature is particularly useful in digital humanities projects where scholars may want to explore alternative interpretations or methodologies."
   ]
  },
  {
   "cell_type": "markdown",
   "id": "f0a50ea4",
   "metadata": {},
   "source": [
    "## Documentation and Project Management"
   ]
  },
  {
   "cell_type": "markdown",
   "id": "ea8c6953",
   "metadata": {},
   "source": [
    "Git encourages good documentation practices through commit messages, which describe the changes made in each commit. This documentation helps scholars keep track of the project's evolution and provides insights into the rationale behind specific decisions or modifications."
   ]
  },
  {
   "cell_type": "markdown",
   "id": "fc9241cd",
   "metadata": {},
   "source": [
    "# What is Git?"
   ]
  }
 ],
 "metadata": {
  "kernelspec": {
   "display_name": "Python 3 (ipykernel)",
   "language": "python",
   "name": "python3"
  },
  "language_info": {
   "codemirror_mode": {
    "name": "ipython",
    "version": 3
   },
   "file_extension": ".py",
   "mimetype": "text/x-python",
   "name": "python",
   "nbconvert_exporter": "python",
   "pygments_lexer": "ipython3",
   "version": "3.10.6"
  },
  "toc": {
   "base_numbering": 1,
   "nav_menu": {},
   "number_sections": true,
   "sideBar": true,
   "skip_h1_title": false,
   "title_cell": "Table of Contents",
   "title_sidebar": "Contents",
   "toc_cell": false,
   "toc_position": {},
   "toc_section_display": true,
   "toc_window_display": false
  }
 },
 "nbformat": 4,
 "nbformat_minor": 5
}
