{
 "cells": [
  {
   "cell_type": "markdown",
   "id": "f6f7cc8e",
   "metadata": {},
   "source": [
    "# Epoisodes\n",
    "\n",
    "1. Why to use git as a digital humanities scholar\n",
    "2. What is git?\n",
    "3. Different ways of using git\n",
    "4. Git without the command line"
   ]
  },
  {
   "cell_type": "markdown",
   "id": "c0fb689a",
   "metadata": {},
   "source": [
    "# Objective\n",
    "\n",
    "This course addresses learners from the humanities with zero or little git and programming skills (try to be even more specific about the target audience and their background knowledge), who wish to integrate big data and digital methods of data analysis into their research. It walks the learners through learning the concept of git and the best practice of implementing it in their solo or collaborative projects. "
   ]
  },
  {
   "cell_type": "markdown",
   "id": "82e8a176",
   "metadata": {},
   "source": [
    "# Desired outcome\n",
    "\n",
    "At the end of this course, the learners will have gained a solid understanding of what git is and how it can be used through github and its desktop app to collaborate with other team members on the development of a digital humanities project that incorporates any filetype. "
   ]
  },
  {
   "cell_type": "markdown",
   "id": "2b3b7392",
   "metadata": {},
   "source": [
    "# Motivation of the audience\n",
    "\n",
    "Address the concrete needs and desires of people already working in the area of digital humanities: \n",
    "\n",
    "- What challenges have they been facing?\n",
    "- How would learning git help them progress in their collaborative projects?"
   ]
  },
  {
   "cell_type": "markdown",
   "id": "6e4e49b4",
   "metadata": {},
   "source": [
    "# Prerequisite Knowledge\n",
    "\n",
    "- Knowing how to work with an internet browser;\n",
    "- basic knowledge of one of the operating systems Windows or macOS"
   ]
  },
  {
   "cell_type": "markdown",
   "id": "ed148025",
   "metadata": {},
   "source": [
    "<font color=red>we are</font> <A Href=\"https://carpentries.github.io/lesson-development-training/infrastructure.html\">here</A>."
   ]
  }
 ],
 "metadata": {
  "kernelspec": {
   "display_name": "Python 3 (ipykernel)",
   "language": "python",
   "name": "python3"
  },
  "language_info": {
   "codemirror_mode": {
    "name": "ipython",
    "version": 3
   },
   "file_extension": ".py",
   "mimetype": "text/x-python",
   "name": "python",
   "nbconvert_exporter": "python",
   "pygments_lexer": "ipython3",
   "version": "3.10.6"
  },
  "toc": {
   "base_numbering": 1,
   "nav_menu": {},
   "number_sections": true,
   "sideBar": true,
   "skip_h1_title": false,
   "title_cell": "Table of Contents",
   "title_sidebar": "Contents",
   "toc_cell": false,
   "toc_position": {},
   "toc_section_display": true,
   "toc_window_display": false
  }
 },
 "nbformat": 4,
 "nbformat_minor": 5
}
