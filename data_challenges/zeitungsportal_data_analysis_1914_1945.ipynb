{
 "cells": [
  {
   "cell_type": "code",
   "execution_count": 1,
   "id": "3aebfe31",
   "metadata": {},
   "outputs": [],
   "source": [
    "import pandas as pd"
   ]
  },
  {
   "cell_type": "code",
   "execution_count": 2,
   "id": "59d90985",
   "metadata": {},
   "outputs": [],
   "source": [
    "def pickled_df_loader (year, columns):\n",
    "    \"\"\"\n",
    "    loads dataframes from the pickled dfs. \n",
    "    \"\"\"\n",
    "\n",
    "    df= pd.read_pickle(f\"./data_deutsches_zeitungsportal_1914_1945/newspapers_ger_{year}\")[columns]\n",
    "    return df"
   ]
  },
  {
   "cell_type": "code",
   "execution_count": 5,
   "id": "c9a91b57",
   "metadata": {},
   "outputs": [],
   "source": [
    "# def challenge_df_generator (begin, end):\n",
    "#     \"\"\"\n",
    "#     loads all pickled dataframes belonging to the years in the year range and returns their concatenation as a single df. \n",
    "#     \"\"\" \n",
    "    \n",
    "#     columns= ['paper_title', 'publication_date', 'place_of_distribution']\n",
    "    \n",
    "#     df= pickled_df_loader (begin, columns)\n",
    "    \n",
    "#     for year in range (begin+1, end+1):\n",
    "#         df= pd.concat([df, pickled_df_loader(year, columns)], axis=0)\n",
    "        \n",
    "#     return df"
   ]
  },
  {
   "cell_type": "code",
   "execution_count": 6,
   "id": "2b50fe3a",
   "metadata": {},
   "outputs": [],
   "source": [
    "#newspapers_1914_1945_df = challenge_df_generator (1914, 1946)\n",
    "#newspapers_1914_1945_df.to_pickle(\"./data_deutsches_zeitungsportal_1914_1945/newspapers_1914_1945_df\")"
   ]
  },
  {
   "cell_type": "markdown",
   "id": "7c34140a",
   "metadata": {},
   "source": [
    "Extracting names of cities from the newspaper_df:"
   ]
  },
  {
   "cell_type": "code",
   "execution_count": null,
   "id": "e500a86d",
   "metadata": {},
   "outputs": [],
   "source": [
    "# def city_extractor(newspaper_df):\n",
    "# #extracts names of cities from the dataframe containing the full texts.\n",
    "\n",
    "#     city_list=[]\n",
    "\n",
    "#     for place in newspaper_df['place_of_distribution']:\n",
    "#         if isinstance (place, list):\n",
    "#             if place[0] not in city_list:\n",
    "#                 city_list.append(place[0])\n",
    "#         else: \n",
    "#             if place not in city_list:\n",
    "#                 city_list.append(place)\n",
    "\n",
    "#     return city_list"
   ]
  },
  {
   "cell_type": "code",
   "execution_count": null,
   "id": "315fc4a5",
   "metadata": {
    "scrolled": true
   },
   "outputs": [],
   "source": [
    "# cities= city_extractor(df)\n",
    "# cities"
   ]
  },
  {
   "cell_type": "markdown",
   "id": "4300f1c8",
   "metadata": {},
   "source": [
    "Pinning the cities from a city list on the world map:"
   ]
  },
  {
   "cell_type": "code",
   "execution_count": null,
   "id": "a88ae075",
   "metadata": {},
   "outputs": [],
   "source": [
    "# def map_maker(city_list):\n",
    "# #plots the cities in the city list on a map.\n",
    "    \n",
    "#     city_dict= {}\n",
    "#     gn= geocoders.GeoNames(username=\"golisf\")\n",
    "    \n",
    "#     for city in city_list:\n",
    "#         if not pd.isna(city):\n",
    "#             city_dict[city]= gn.geocode(city)\n",
    "            \n",
    "#     # Create a map centered at a location, you can adjust the coordinates and zoom level as needed\n",
    "#     map_center= [51.1657, 10.4515]  # Germany's approximate center\n",
    "#     my_map= folium.Map(location=map_center, zoom_start=6)\n",
    " \n",
    "#     # Add markers for each city\n",
    "#     for city in list(city_dict.keys()):\n",
    "#         folium.Marker(location=city_dict[city], popup=city).add_to(my_map)\n",
    "        \n",
    "#     return my_map"
   ]
  },
  {
   "cell_type": "code",
   "execution_count": null,
   "id": "b0357122",
   "metadata": {},
   "outputs": [],
   "source": [
    "#map_maker(cities)"
   ]
  },
  {
   "cell_type": "code",
   "execution_count": null,
   "id": "5141b3b7",
   "metadata": {},
   "outputs": [],
   "source": []
  }
 ],
 "metadata": {
  "kernelspec": {
   "display_name": "Python 3 (ipykernel)",
   "language": "python",
   "name": "python3"
  },
  "language_info": {
   "codemirror_mode": {
    "name": "ipython",
    "version": 3
   },
   "file_extension": ".py",
   "mimetype": "text/x-python",
   "name": "python",
   "nbconvert_exporter": "python",
   "pygments_lexer": "ipython3",
   "version": "3.10.6"
  },
  "toc": {
   "base_numbering": 1,
   "nav_menu": {},
   "number_sections": true,
   "sideBar": true,
   "skip_h1_title": false,
   "title_cell": "Table of Contents",
   "title_sidebar": "Contents",
   "toc_cell": false,
   "toc_position": {},
   "toc_section_display": true,
   "toc_window_display": false
  }
 },
 "nbformat": 4,
 "nbformat_minor": 5
}
