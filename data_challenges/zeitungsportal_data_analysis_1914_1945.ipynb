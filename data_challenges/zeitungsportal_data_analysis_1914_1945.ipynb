{
 "cells": [
  {
   "cell_type": "code",
   "execution_count": 3,
   "id": "3aebfe31",
   "metadata": {},
   "outputs": [],
   "source": [
    "import pandas as pd\n",
    "import numpy as np\n",
    "from geopy import geocoders\n",
    "import folium"
   ]
  },
  {
   "cell_type": "markdown",
   "id": "de810239",
   "metadata": {},
   "source": [
    "### Doing some entitiy recognition on the first article of the first newspaper in the first df, using spacy: "
   ]
  },
  {
   "cell_type": "code",
   "execution_count": 2,
   "id": "8231adb3",
   "metadata": {
    "scrolled": true
   },
   "outputs": [],
   "source": [
    "# import spacy\n",
    "# ! python -m spacy download de_core_news_sm\n",
    "\n",
    "# nlp = spacy.load(\"de_core_news_sm\")\n",
    "# doc = nlp(df.iloc[0,13])\n",
    "\n",
    "# for ent in doc.ents: \n",
    "#     \"\"\"\n",
    "#     Getting the names of all locations within the loaded newspaper article:\n",
    "#     \"\"\"\n",
    "#     if ent.label_== 'LOC':\n",
    "#         print(ent.text)"
   ]
  },
  {
   "cell_type": "markdown",
   "id": "25a0e1d6",
   "metadata": {},
   "source": [
    "Let's see whether \"Widdig\" from the above list is really a location:"
   ]
  },
  {
   "cell_type": "code",
   "execution_count": 3,
   "id": "f9479412",
   "metadata": {},
   "outputs": [],
   "source": [
    "# import wikipedia as wiki\n",
    "# wiki.set_lang(\"de\")\n",
    "\n",
    "# search_string = 'Widdig'\n",
    "# page = wiki.page(search_string)\n",
    "# content = page.content\n",
    "# content[0:680]"
   ]
  },
  {
   "cell_type": "markdown",
   "id": "f5621065",
   "metadata": {},
   "source": [
    "### loading pickled dataframes, making new dataframes out of them and saving them to the local drive:"
   ]
  },
  {
   "cell_type": "code",
   "execution_count": 4,
   "id": "59d90985",
   "metadata": {},
   "outputs": [],
   "source": [
    "# def pickled_df_loader (year, columns):\n",
    "#     \"\"\"\n",
    "#     loads dataframes from the pickled dfs. \n",
    "#     \"\"\"\n",
    "#     df= pd.read_pickle(f\"./data_deutsches_zeitungsportal_1914_1945/newspapers_ger_{year}_part_1\")[columns]\n",
    "#     df= pd.concat ([df, pd.read_pickle(f\"./data_deutsches_zeitungsportal_1914_1945/newspapers_ger_{year}_part_2\")[columns]]\\\n",
    "#                    , axis=0)\n",
    "#     df= pd.concat ([df, pd.read_pickle(f\"./data_deutsches_zeitungsportal_1914_1945/newspapers_ger_{year}_part_3\")[columns]]\\\n",
    "#                    , axis=0)\n",
    "    \n",
    "#     df['publication_date']= df['publication_date'].apply(lambda x: x.strftime(\"%Y-%m-%d\"))\n",
    "#     df['publication_date'] = pd.to_datetime(df['publication_date'], format='%Y-%m-%d')\n",
    "    \n",
    "#     return df"
   ]
  },
  {
   "cell_type": "code",
   "execution_count": 5,
   "id": "c9a91b57",
   "metadata": {},
   "outputs": [],
   "source": [
    "# def challenge_df_generator (begin, end):\n",
    "#     \"\"\"\n",
    "#     loads all pickled dataframes belonging to the years in the year range and returns their concatenation as a single df. \n",
    "#     \"\"\" \n",
    "    \n",
    "#     columns= ['paper_title', 'publication_date', 'place_of_distribution']\n",
    "    \n",
    "#     df= pickled_df_loader (begin, columns)\n",
    "    \n",
    "#     for year in range (begin+1, end+1):\n",
    "#         df= pd.concat([df, pickled_df_loader(year, columns)], axis=0)\n",
    "        \n",
    "#     return df"
   ]
  },
  {
   "cell_type": "code",
   "execution_count": 6,
   "id": "2b50fe3a",
   "metadata": {},
   "outputs": [],
   "source": [
    "# newspapers_1914_1945_df = challenge_df_generator (1914, 1945)\n",
    "# newspapers_1914_1945_df.to_pickle(\"./data_deutsches_zeitungsportal_1914_1945/newspapers_no_article_1914_1945\")"
   ]
  },
  {
   "cell_type": "markdown",
   "id": "fe922d6c",
   "metadata": {},
   "source": [
    "### Analyzing the dataframe containing all the data between 1914 and 1945:"
   ]
  },
  {
   "cell_type": "code",
   "execution_count": 40,
   "id": "f4c4a1ee",
   "metadata": {},
   "outputs": [],
   "source": [
    "newspapers_1914_1945_df= pd.read_pickle(f\"./data_deutsches_zeitungsportal_1914_1945/newspapers_no_article_14_45\")"
   ]
  },
  {
   "cell_type": "code",
   "execution_count": 41,
   "id": "86e3fb4c",
   "metadata": {
    "scrolled": true
   },
   "outputs": [
    {
     "data": {
      "text/html": [
       "<div>\n",
       "<style scoped>\n",
       "    .dataframe tbody tr th:only-of-type {\n",
       "        vertical-align: middle;\n",
       "    }\n",
       "\n",
       "    .dataframe tbody tr th {\n",
       "        vertical-align: top;\n",
       "    }\n",
       "\n",
       "    .dataframe thead th {\n",
       "        text-align: right;\n",
       "    }\n",
       "</style>\n",
       "<table border=\"1\" class=\"dataframe\">\n",
       "  <thead>\n",
       "    <tr style=\"text-align: right;\">\n",
       "      <th></th>\n",
       "      <th>paper_title</th>\n",
       "      <th>publication_date</th>\n",
       "      <th>place_of_distribution</th>\n",
       "    </tr>\n",
       "  </thead>\n",
       "  <tbody>\n",
       "    <tr>\n",
       "      <th>0</th>\n",
       "      <td>Bensberger Volkszeitung. 1907-1929</td>\n",
       "      <td>1914-02-07</td>\n",
       "      <td>[Bensberg, Bergisch Gladbach, Bergisch Gladbac...</td>\n",
       "    </tr>\n",
       "    <tr>\n",
       "      <th>1</th>\n",
       "      <td>Bensberger Volkszeitung. 1907-1929</td>\n",
       "      <td>1914-02-07</td>\n",
       "      <td>[Bensberg, Bergisch Gladbach, Bergisch Gladbac...</td>\n",
       "    </tr>\n",
       "    <tr>\n",
       "      <th>2</th>\n",
       "      <td>Bensberger Volkszeitung. 1907-1929</td>\n",
       "      <td>1914-02-07</td>\n",
       "      <td>[Bensberg, Bergisch Gladbach, Bergisch Gladbac...</td>\n",
       "    </tr>\n",
       "    <tr>\n",
       "      <th>3</th>\n",
       "      <td>Bensberger Volkszeitung. 1907-1929</td>\n",
       "      <td>1914-02-07</td>\n",
       "      <td>[Bensberg, Bergisch Gladbach, Bergisch Gladbac...</td>\n",
       "    </tr>\n",
       "    <tr>\n",
       "      <th>4</th>\n",
       "      <td>Der Volksfreund : Tageszeitung für das werktät...</td>\n",
       "      <td>1914-03-04</td>\n",
       "      <td>[Karlsruhe, Offenburg]</td>\n",
       "    </tr>\n",
       "  </tbody>\n",
       "</table>\n",
       "</div>"
      ],
      "text/plain": [
       "                                         paper_title publication_date  \\\n",
       "0                 Bensberger Volkszeitung. 1907-1929       1914-02-07   \n",
       "1                 Bensberger Volkszeitung. 1907-1929       1914-02-07   \n",
       "2                 Bensberger Volkszeitung. 1907-1929       1914-02-07   \n",
       "3                 Bensberger Volkszeitung. 1907-1929       1914-02-07   \n",
       "4  Der Volksfreund : Tageszeitung für das werktät...       1914-03-04   \n",
       "\n",
       "                               place_of_distribution  \n",
       "0  [Bensberg, Bergisch Gladbach, Bergisch Gladbac...  \n",
       "1  [Bensberg, Bergisch Gladbach, Bergisch Gladbac...  \n",
       "2  [Bensberg, Bergisch Gladbach, Bergisch Gladbac...  \n",
       "3  [Bensberg, Bergisch Gladbach, Bergisch Gladbac...  \n",
       "4                             [Karlsruhe, Offenburg]  "
      ]
     },
     "execution_count": 41,
     "metadata": {},
     "output_type": "execute_result"
    }
   ],
   "source": [
    "newspapers_1914_1945_df.head()"
   ]
  },
  {
   "cell_type": "code",
   "execution_count": 42,
   "id": "3b06ca92",
   "metadata": {
    "scrolled": true
   },
   "outputs": [
    {
     "data": {
      "text/html": [
       "<div>\n",
       "<style scoped>\n",
       "    .dataframe tbody tr th:only-of-type {\n",
       "        vertical-align: middle;\n",
       "    }\n",
       "\n",
       "    .dataframe tbody tr th {\n",
       "        vertical-align: top;\n",
       "    }\n",
       "\n",
       "    .dataframe thead th {\n",
       "        text-align: right;\n",
       "    }\n",
       "</style>\n",
       "<table border=\"1\" class=\"dataframe\">\n",
       "  <thead>\n",
       "    <tr style=\"text-align: right;\">\n",
       "      <th></th>\n",
       "      <th>paper_title</th>\n",
       "      <th>publication_date</th>\n",
       "      <th>place_of_distribution</th>\n",
       "    </tr>\n",
       "  </thead>\n",
       "  <tbody>\n",
       "    <tr>\n",
       "      <th>2056</th>\n",
       "      <td>Neuer hannoverscher Kurier : Nachrichtenblatt ...</td>\n",
       "      <td>1945-10-12</td>\n",
       "      <td>[Hannover]</td>\n",
       "    </tr>\n",
       "    <tr>\n",
       "      <th>2057</th>\n",
       "      <td>Neuer hannoverscher Kurier : Nachrichtenblatt ...</td>\n",
       "      <td>1945-10-12</td>\n",
       "      <td>[Hannover]</td>\n",
       "    </tr>\n",
       "    <tr>\n",
       "      <th>2058</th>\n",
       "      <td>Neuer hannoverscher Kurier : Nachrichtenblatt ...</td>\n",
       "      <td>1945-10-12</td>\n",
       "      <td>[Hannover]</td>\n",
       "    </tr>\n",
       "    <tr>\n",
       "      <th>2059</th>\n",
       "      <td>Olper Kreisblatt : amtliches Mitteilungsblatt ...</td>\n",
       "      <td>1945-12-29</td>\n",
       "      <td>[Olpe]</td>\n",
       "    </tr>\n",
       "    <tr>\n",
       "      <th>2060</th>\n",
       "      <td>Olper Kreisblatt : amtliches Mitteilungsblatt ...</td>\n",
       "      <td>1945-12-29</td>\n",
       "      <td>[Olpe]</td>\n",
       "    </tr>\n",
       "  </tbody>\n",
       "</table>\n",
       "</div>"
      ],
      "text/plain": [
       "                                            paper_title publication_date  \\\n",
       "2056  Neuer hannoverscher Kurier : Nachrichtenblatt ...       1945-10-12   \n",
       "2057  Neuer hannoverscher Kurier : Nachrichtenblatt ...       1945-10-12   \n",
       "2058  Neuer hannoverscher Kurier : Nachrichtenblatt ...       1945-10-12   \n",
       "2059  Olper Kreisblatt : amtliches Mitteilungsblatt ...       1945-12-29   \n",
       "2060  Olper Kreisblatt : amtliches Mitteilungsblatt ...       1945-12-29   \n",
       "\n",
       "     place_of_distribution  \n",
       "2056            [Hannover]  \n",
       "2057            [Hannover]  \n",
       "2058            [Hannover]  \n",
       "2059                [Olpe]  \n",
       "2060                [Olpe]  "
      ]
     },
     "execution_count": 42,
     "metadata": {},
     "output_type": "execute_result"
    }
   ],
   "source": [
    "newspapers_1914_1945_df.tail()"
   ]
  },
  {
   "cell_type": "code",
   "execution_count": 43,
   "id": "5a636124",
   "metadata": {},
   "outputs": [
    {
     "name": "stdout",
     "output_type": "stream",
     "text": [
      "<class 'pandas.core.frame.DataFrame'>\n",
      "Int64Index: 9204699 entries, 0 to 2060\n",
      "Data columns (total 3 columns):\n",
      " #   Column                 Dtype         \n",
      "---  ------                 -----         \n",
      " 0   paper_title            object        \n",
      " 1   publication_date       datetime64[ns]\n",
      " 2   place_of_distribution  object        \n",
      "dtypes: datetime64[ns](1), object(2)\n",
      "memory usage: 280.9+ MB\n"
     ]
    }
   ],
   "source": [
    "newspapers_1914_1945_df.info()"
   ]
  },
  {
   "cell_type": "markdown",
   "id": "f2b85348",
   "metadata": {},
   "source": [
    "#### Let's see what we can do with the lists of the cities: "
   ]
  },
  {
   "cell_type": "markdown",
   "id": "18ab3208",
   "metadata": {},
   "source": [
    "Extracting all places of distribution and storing them in a pickled python list:"
   ]
  },
  {
   "cell_type": "code",
   "execution_count": 11,
   "id": "352e0bd5",
   "metadata": {},
   "outputs": [],
   "source": [
    "# unique_cities=[]\n",
    "# for city in newspapers_1914_1945_df['place_of_distribution']:\n",
    "#     if city not in unique_cities: \n",
    "#         unique_cities.append(city)\n",
    "        \n",
    "# import pickle\n",
    "# with open(f\"./data_deutsches_zeitungsportal_1914_1945/unique_cities.pkl\", \"wb\") as f:\n",
    "#     pickle.dump(unique_cities, f)"
   ]
  },
  {
   "cell_type": "code",
   "execution_count": 13,
   "id": "e84dc992",
   "metadata": {},
   "outputs": [],
   "source": [
    "# city_list= pd.read_pickle(f\"./data_deutsches_zeitungsportal_1914_1945/unique_cities.pkl\")\n",
    "# city_list"
   ]
  },
  {
   "cell_type": "markdown",
   "id": "f9fa8690",
   "metadata": {},
   "source": [
    "Extracting names of single cities from the pickled city list: "
   ]
  },
  {
   "cell_type": "code",
   "execution_count": 16,
   "id": "e9722b07",
   "metadata": {
    "scrolled": true
   },
   "outputs": [],
   "source": [
    "# single_city_list= []\n",
    "\n",
    "# for place in city_list:\n",
    "#     if isinstance (place, list):\n",
    "#         for i in range(0, len(place)):\n",
    "#             if place[i] not in single_city_list:\n",
    "#                 single_city_list.append(place[i])\n",
    "#     else: \n",
    "#         if place not in city_list:\n",
    "#             city_list.append(place)\n",
    "\n",
    "# import pickle\n",
    "# with open(f\"./data_deutsches_zeitungsportal_1914_1945/single_cities.pkl\", \"wb\") as f:\n",
    "#     pickle.dump(single_city_list, f)"
   ]
  },
  {
   "cell_type": "code",
   "execution_count": null,
   "id": "43c2bcfc",
   "metadata": {},
   "outputs": [],
   "source": [
    "# cities_1914_1945= pd.read_pickle(f\"./data_deutsches_zeitungsportal_1914_1945/single_cities.pkl\")\n",
    "# cities_1914_1945"
   ]
  },
  {
   "cell_type": "markdown",
   "id": "4300f1c8",
   "metadata": {},
   "source": [
    "Pinning the cities from a city list on the world map:"
   ]
  },
  {
   "cell_type": "code",
   "execution_count": 6,
   "id": "a88ae075",
   "metadata": {},
   "outputs": [],
   "source": [
    "# def map_maker(city_list):\n",
    "# #plots the cities in the city list on a map.\n",
    "    \n",
    "#     city_dict= {}\n",
    "#     gn= geocoders.GeoNames(username=\"golisf\")\n",
    "    \n",
    "#     for city in city_list:\n",
    "#         if not pd.isna(city):\n",
    "#             city_dict[city]= gn.geocode(city)\n",
    "            \n",
    "#     # Create a map centered at a location, you can adjust the coordinates and zoom level as needed\n",
    "#     map_center= [51.1657, 10.4515]  # Germany's approximate center\n",
    "#     my_map= folium.Map(location=map_center, zoom_start=6)\n",
    " \n",
    "#     # Add markers for each city\n",
    "#     for city in list(city_dict.keys()):\n",
    "#         folium.Marker(location=city_dict[city], popup=city).add_to(my_map)\n",
    "        \n",
    "#     return my_map"
   ]
  },
  {
   "cell_type": "code",
   "execution_count": null,
   "id": "b0357122",
   "metadata": {},
   "outputs": [],
   "source": [
    "# cities_1914_1945= pd.read_pickle(f\"./data_deutsches_zeitungsportal_1914_1945/single_cities.pkl\")\n",
    "# map_maker(cities_1914_1945)"
   ]
  },
  {
   "cell_type": "markdown",
   "id": "d684c66c",
   "metadata": {},
   "source": [
    "#### Let's see what we can do with the paper titles: "
   ]
  },
  {
   "cell_type": "markdown",
   "id": "e34607b1",
   "metadata": {},
   "source": [
    "Extracting the titles of available newspapers and storing them in a pickled python list: "
   ]
  },
  {
   "cell_type": "code",
   "execution_count": 30,
   "id": "6235259e",
   "metadata": {},
   "outputs": [],
   "source": [
    "# unique_papers=[]\n",
    "# for paper in newspapers_1914_1945_df['paper_title']:\n",
    "#     if paper not in unique_papers: \n",
    "#         unique_papers.append(paper)\n",
    "        \n",
    "# import pickle\n",
    "# with open(f\"./data_deutsches_zeitungsportal_1914_1945/unique_papers.pkl\", \"wb\") as f:\n",
    "#     pickle.dump(unique_papers, f)"
   ]
  },
  {
   "cell_type": "code",
   "execution_count": null,
   "id": "74af3a1c",
   "metadata": {},
   "outputs": [],
   "source": []
  },
  {
   "cell_type": "code",
   "execution_count": null,
   "id": "2cf6b94b",
   "metadata": {},
   "outputs": [],
   "source": []
  },
  {
   "cell_type": "code",
   "execution_count": null,
   "id": "d1cda6c7",
   "metadata": {},
   "outputs": [],
   "source": []
  },
  {
   "cell_type": "code",
   "execution_count": null,
   "id": "580b7f1a",
   "metadata": {},
   "outputs": [],
   "source": []
  },
  {
   "cell_type": "code",
   "execution_count": null,
   "id": "7c7d3f16",
   "metadata": {},
   "outputs": [],
   "source": []
  },
  {
   "cell_type": "code",
   "execution_count": null,
   "id": "e56bcd53",
   "metadata": {},
   "outputs": [],
   "source": []
  },
  {
   "cell_type": "code",
   "execution_count": null,
   "id": "2babcc0d",
   "metadata": {},
   "outputs": [],
   "source": []
  },
  {
   "cell_type": "code",
   "execution_count": null,
   "id": "bd2f45e0",
   "metadata": {},
   "outputs": [],
   "source": []
  }
 ],
 "metadata": {
  "kernelspec": {
   "display_name": "Python 3 (ipykernel)",
   "language": "python",
   "name": "python3"
  },
  "language_info": {
   "codemirror_mode": {
    "name": "ipython",
    "version": 3
   },
   "file_extension": ".py",
   "mimetype": "text/x-python",
   "name": "python",
   "nbconvert_exporter": "python",
   "pygments_lexer": "ipython3",
   "version": "3.10.6"
  },
  "toc": {
   "base_numbering": 1,
   "nav_menu": {},
   "number_sections": true,
   "sideBar": true,
   "skip_h1_title": false,
   "title_cell": "Table of Contents",
   "title_sidebar": "Contents",
   "toc_cell": false,
   "toc_position": {},
   "toc_section_display": true,
   "toc_window_display": false
  }
 },
 "nbformat": 4,
 "nbformat_minor": 5
}
