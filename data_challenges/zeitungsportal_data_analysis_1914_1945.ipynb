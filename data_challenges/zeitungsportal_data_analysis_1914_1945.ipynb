{
 "cells": [
  {
   "cell_type": "code",
   "execution_count": 1,
   "id": "3aebfe31",
   "metadata": {},
   "outputs": [],
   "source": [
    "import pandas as pd"
   ]
  },
  {
   "cell_type": "code",
   "execution_count": 2,
   "id": "59d90985",
   "metadata": {},
   "outputs": [],
   "source": [
    "def pickled_df_loader (year, columns):\n",
    "    \"\"\"\n",
    "    loads dataframes from the pickled dfs. \n",
    "    \"\"\"\n",
    "\n",
    "    df= pd.read_pickle(f\"./data_deutsches_zeitungsportal_1914_1945/newspapers_ger_{year}\")[columns]\n",
    "    return df"
   ]
  },
  {
   "cell_type": "code",
   "execution_count": 3,
   "id": "b1c493e8",
   "metadata": {},
   "outputs": [],
   "source": [
    "# def error_finder (begin, end):\n",
    "    \n",
    "    \n",
    "#     for year in range (begin, end):\n",
    "#         try:\n",
    "#             print (year, ':', len(pd.read_pickle(f\"./data_deutsches_zeitungsportal_1914_1945/newspapers_ger_{year}\")[columns]))\n",
    "                  \n",
    "#         except EOFError:\n",
    "#             print(f\"Error: EOFError occurred while loading data for year {year}.\")"
   ]
  },
  {
   "cell_type": "code",
   "execution_count": 5,
   "id": "86617675",
   "metadata": {},
   "outputs": [
    {
     "name": "stdout",
     "output_type": "stream",
     "text": [
      "1927 : 136617\n"
     ]
    }
   ],
   "source": [
    "columns= ['paper_title', 'publication_date', 'place_of_distribution']\n",
    "\n",
    "try:\n",
    "    print ('1927', ':', len(pd.read_pickle(f\"./data_deutsches_zeitungsportal_1914_1945/newspapers_ger_1927_part_2\")[columns]))\n",
    "                  \n",
    "except EOFError:\n",
    "    print(f\"Error: EOFError occurred while loading data for year 1926.\")"
   ]
  },
  {
   "cell_type": "code",
   "execution_count": null,
   "id": "c9a91b57",
   "metadata": {},
   "outputs": [],
   "source": [
    "# def challenge_df_generator (begin, end):\n",
    "#     \"\"\"\n",
    "#     loads all pickled dataframes belonging to the years in the year range and returns their concatenation as a single df. \n",
    "#     \"\"\" \n",
    "    \n",
    "#     columns= ['paper_title', 'publication_date', 'place_of_distribution']\n",
    "    \n",
    "#     df= pickled_df_loader (begin, columns)\n",
    "    \n",
    "#     for year in range (begin+1, end+1):\n",
    "#         df= pd.concat([df, pickled_df_loader(year, columns)], axis=0)\n",
    "        \n",
    "#     return df"
   ]
  },
  {
   "cell_type": "code",
   "execution_count": null,
   "id": "2b50fe3a",
   "metadata": {},
   "outputs": [],
   "source": [
    "#newspapers_1914_1945_df = challenge_df_generator (1914, 1946)\n",
    "#newspapers_1914_1945_df.to_pickle(\"./data_deutsches_zeitungsportal_1914_1945/newspapers_1914_1945_df\")"
   ]
  }
 ],
 "metadata": {
  "kernelspec": {
   "display_name": "Python 3 (ipykernel)",
   "language": "python",
   "name": "python3"
  },
  "language_info": {
   "codemirror_mode": {
    "name": "ipython",
    "version": 3
   },
   "file_extension": ".py",
   "mimetype": "text/x-python",
   "name": "python",
   "nbconvert_exporter": "python",
   "pygments_lexer": "ipython3",
   "version": "3.10.6"
  },
  "toc": {
   "base_numbering": 1,
   "nav_menu": {},
   "number_sections": true,
   "sideBar": true,
   "skip_h1_title": false,
   "title_cell": "Table of Contents",
   "title_sidebar": "Contents",
   "toc_cell": false,
   "toc_position": {},
   "toc_section_display": true,
   "toc_window_display": false
  }
 },
 "nbformat": 4,
 "nbformat_minor": 5
}
