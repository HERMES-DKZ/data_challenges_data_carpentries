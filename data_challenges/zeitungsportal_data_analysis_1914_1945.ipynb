{
 "cells": [
  {
   "cell_type": "code",
   "execution_count": 1,
   "id": "3aebfe31",
   "metadata": {},
   "outputs": [],
   "source": [
    "import pandas as pd"
   ]
  },
  {
   "cell_type": "code",
   "execution_count": 2,
   "id": "59d90985",
   "metadata": {},
   "outputs": [],
   "source": [
    "def pickled_df_loader (year, columns):\n",
    "    \"\"\"\n",
    "    loads dataframes from the pickled dfs. \n",
    "    \"\"\"\n",
    "\n",
    "    df= pd.read_pickle(f\"./data_deutsches_zeitungsportal_1914_1945/newspapers_ger_{year}\")[columns]\n",
    "    return df"
   ]
  },
  {
   "cell_type": "code",
   "execution_count": 3,
   "id": "c9a91b57",
   "metadata": {},
   "outputs": [],
   "source": [
    "# def challenge_df_generator (begin, end):\n",
    "#     \"\"\"\n",
    "#     loads all pickled dataframes belonging to the years in the year range and returns their concatenation as a single df. \n",
    "#     \"\"\" \n",
    "    \n",
    "#     columns= ['paper_title', 'publication_date', 'place_of_distribution']\n",
    "    \n",
    "#     df= pickled_df_loader (begin, columns)\n",
    "    \n",
    "#     for year in range (begin+1, end+1):\n",
    "#         df= pd.concat([df, pickled_df_loader(year, columns)], axis=0)\n",
    "        \n",
    "#     return df"
   ]
  },
  {
   "cell_type": "code",
   "execution_count": 4,
   "id": "2b50fe3a",
   "metadata": {},
   "outputs": [],
   "source": [
    "#newspapers_1914_1945_df = challenge_df_generator (1914, 1946)\n",
    "#newspapers_1914_1945_df.to_pickle(\"./data_deutsches_zeitungsportal_1914_1945/newspapers_1914_1945_df\")"
   ]
  },
  {
   "cell_type": "markdown",
   "id": "e9c21280",
   "metadata": {},
   "source": [
    "Doing some entitiy recognition on the first article of the first newspaper in the first df, using spacy: "
   ]
  },
  {
   "cell_type": "code",
   "execution_count": 5,
   "id": "bf26406b",
   "metadata": {},
   "outputs": [],
   "source": [
    "df= pd.read_pickle (\"./data_deutsches_zeitungsportal_1914_1945/newspapers_ger_1914_part_1\")"
   ]
  },
  {
   "cell_type": "code",
   "execution_count": 19,
   "id": "da1fd9d7",
   "metadata": {
    "scrolled": true
   },
   "outputs": [
    {
     "name": "stdout",
     "output_type": "stream",
     "text": [
      "Collecting de-core-news-sm==3.7.0\n",
      "  Downloading https://github.com/explosion/spacy-models/releases/download/de_core_news_sm-3.7.0/de_core_news_sm-3.7.0-py3-none-any.whl (14.6 MB)\n",
      "\u001b[2K     \u001b[90m━━━━━━━━━━━━━━━━━━━━━━━━━━━━━━━━━━━━━━━\u001b[0m \u001b[32m14.6/14.6 MB\u001b[0m \u001b[31m310.6 kB/s\u001b[0m eta \u001b[36m0:00:00\u001b[0m00:01\u001b[0m00:02\u001b[0m\n",
      "\u001b[?25hRequirement already satisfied: spacy<3.8.0,>=3.7.0 in /home/rallypal/.pyenv/versions/3.10.6/envs/lewagon/lib/python3.10/site-packages (from de-core-news-sm==3.7.0) (3.7.4)\n",
      "Requirement already satisfied: spacy-legacy<3.1.0,>=3.0.11 in /home/rallypal/.pyenv/versions/3.10.6/envs/lewagon/lib/python3.10/site-packages (from spacy<3.8.0,>=3.7.0->de-core-news-sm==3.7.0) (3.0.12)\n",
      "Requirement already satisfied: spacy-loggers<2.0.0,>=1.0.0 in /home/rallypal/.pyenv/versions/3.10.6/envs/lewagon/lib/python3.10/site-packages (from spacy<3.8.0,>=3.7.0->de-core-news-sm==3.7.0) (1.0.5)\n",
      "Requirement already satisfied: murmurhash<1.1.0,>=0.28.0 in /home/rallypal/.pyenv/versions/3.10.6/envs/lewagon/lib/python3.10/site-packages (from spacy<3.8.0,>=3.7.0->de-core-news-sm==3.7.0) (1.0.10)\n",
      "Requirement already satisfied: cymem<2.1.0,>=2.0.2 in /home/rallypal/.pyenv/versions/3.10.6/envs/lewagon/lib/python3.10/site-packages (from spacy<3.8.0,>=3.7.0->de-core-news-sm==3.7.0) (2.0.8)\n",
      "Requirement already satisfied: preshed<3.1.0,>=3.0.2 in /home/rallypal/.pyenv/versions/3.10.6/envs/lewagon/lib/python3.10/site-packages (from spacy<3.8.0,>=3.7.0->de-core-news-sm==3.7.0) (3.0.9)\n",
      "Requirement already satisfied: thinc<8.3.0,>=8.2.2 in /home/rallypal/.pyenv/versions/3.10.6/envs/lewagon/lib/python3.10/site-packages (from spacy<3.8.0,>=3.7.0->de-core-news-sm==3.7.0) (8.2.3)\n",
      "Requirement already satisfied: wasabi<1.2.0,>=0.9.1 in /home/rallypal/.pyenv/versions/3.10.6/envs/lewagon/lib/python3.10/site-packages (from spacy<3.8.0,>=3.7.0->de-core-news-sm==3.7.0) (1.1.2)\n",
      "Requirement already satisfied: srsly<3.0.0,>=2.4.3 in /home/rallypal/.pyenv/versions/3.10.6/envs/lewagon/lib/python3.10/site-packages (from spacy<3.8.0,>=3.7.0->de-core-news-sm==3.7.0) (2.4.8)\n",
      "Requirement already satisfied: catalogue<2.1.0,>=2.0.6 in /home/rallypal/.pyenv/versions/3.10.6/envs/lewagon/lib/python3.10/site-packages (from spacy<3.8.0,>=3.7.0->de-core-news-sm==3.7.0) (2.0.10)\n",
      "Requirement already satisfied: weasel<0.4.0,>=0.1.0 in /home/rallypal/.pyenv/versions/3.10.6/envs/lewagon/lib/python3.10/site-packages (from spacy<3.8.0,>=3.7.0->de-core-news-sm==3.7.0) (0.3.4)\n",
      "Requirement already satisfied: typer<0.10.0,>=0.3.0 in /home/rallypal/.pyenv/versions/3.10.6/envs/lewagon/lib/python3.10/site-packages (from spacy<3.8.0,>=3.7.0->de-core-news-sm==3.7.0) (0.9.0)\n",
      "Requirement already satisfied: smart-open<7.0.0,>=5.2.1 in /home/rallypal/.pyenv/versions/3.10.6/envs/lewagon/lib/python3.10/site-packages (from spacy<3.8.0,>=3.7.0->de-core-news-sm==3.7.0) (6.2.0)\n",
      "Requirement already satisfied: tqdm<5.0.0,>=4.38.0 in /home/rallypal/.pyenv/versions/3.10.6/envs/lewagon/lib/python3.10/site-packages (from spacy<3.8.0,>=3.7.0->de-core-news-sm==3.7.0) (4.64.1)\n",
      "Requirement already satisfied: requests<3.0.0,>=2.13.0 in /home/rallypal/.pyenv/versions/3.10.6/envs/lewagon/lib/python3.10/site-packages (from spacy<3.8.0,>=3.7.0->de-core-news-sm==3.7.0) (2.28.1)\n",
      "Requirement already satisfied: pydantic!=1.8,!=1.8.1,<3.0.0,>=1.7.4 in /home/rallypal/.pyenv/versions/3.10.6/envs/lewagon/lib/python3.10/site-packages (from spacy<3.8.0,>=3.7.0->de-core-news-sm==3.7.0) (1.9.2)\n",
      "Requirement already satisfied: jinja2 in /home/rallypal/.pyenv/versions/3.10.6/envs/lewagon/lib/python3.10/site-packages (from spacy<3.8.0,>=3.7.0->de-core-news-sm==3.7.0) (3.1.2)\n",
      "Requirement already satisfied: setuptools in /home/rallypal/.pyenv/versions/3.10.6/envs/lewagon/lib/python3.10/site-packages (from spacy<3.8.0,>=3.7.0->de-core-news-sm==3.7.0) (63.2.0)\n",
      "Requirement already satisfied: packaging>=20.0 in /home/rallypal/.pyenv/versions/3.10.6/envs/lewagon/lib/python3.10/site-packages (from spacy<3.8.0,>=3.7.0->de-core-news-sm==3.7.0) (21.3)\n",
      "Requirement already satisfied: langcodes<4.0.0,>=3.2.0 in /home/rallypal/.pyenv/versions/3.10.6/envs/lewagon/lib/python3.10/site-packages (from spacy<3.8.0,>=3.7.0->de-core-news-sm==3.7.0) (3.3.0)\n",
      "Requirement already satisfied: numpy>=1.19.0 in /home/rallypal/.pyenv/versions/3.10.6/envs/lewagon/lib/python3.10/site-packages (from spacy<3.8.0,>=3.7.0->de-core-news-sm==3.7.0) (1.22.4)\n",
      "Requirement already satisfied: pyparsing!=3.0.5,>=2.0.2 in /home/rallypal/.pyenv/versions/3.10.6/envs/lewagon/lib/python3.10/site-packages (from packaging>=20.0->spacy<3.8.0,>=3.7.0->de-core-news-sm==3.7.0) (3.0.9)\n",
      "Requirement already satisfied: typing-extensions>=3.7.4.3 in /home/rallypal/.pyenv/versions/3.10.6/envs/lewagon/lib/python3.10/site-packages (from pydantic!=1.8,!=1.8.1,<3.0.0,>=1.7.4->spacy<3.8.0,>=3.7.0->de-core-news-sm==3.7.0) (4.4.0)\n",
      "Requirement already satisfied: charset-normalizer<3,>=2 in /home/rallypal/.pyenv/versions/3.10.6/envs/lewagon/lib/python3.10/site-packages (from requests<3.0.0,>=2.13.0->spacy<3.8.0,>=3.7.0->de-core-news-sm==3.7.0) (2.1.1)\n",
      "Requirement already satisfied: idna<4,>=2.5 in /home/rallypal/.pyenv/versions/3.10.6/envs/lewagon/lib/python3.10/site-packages (from requests<3.0.0,>=2.13.0->spacy<3.8.0,>=3.7.0->de-core-news-sm==3.7.0) (3.4)\n",
      "Requirement already satisfied: urllib3<1.27,>=1.21.1 in /home/rallypal/.pyenv/versions/3.10.6/envs/lewagon/lib/python3.10/site-packages (from requests<3.0.0,>=2.13.0->spacy<3.8.0,>=3.7.0->de-core-news-sm==3.7.0) (1.26.12)\n",
      "Requirement already satisfied: certifi>=2017.4.17 in /home/rallypal/.pyenv/versions/3.10.6/envs/lewagon/lib/python3.10/site-packages (from requests<3.0.0,>=2.13.0->spacy<3.8.0,>=3.7.0->de-core-news-sm==3.7.0) (2022.9.24)\n",
      "Requirement already satisfied: blis<0.8.0,>=0.7.8 in /home/rallypal/.pyenv/versions/3.10.6/envs/lewagon/lib/python3.10/site-packages (from thinc<8.3.0,>=8.2.2->spacy<3.8.0,>=3.7.0->de-core-news-sm==3.7.0) (0.7.11)\n",
      "Requirement already satisfied: confection<1.0.0,>=0.0.1 in /home/rallypal/.pyenv/versions/3.10.6/envs/lewagon/lib/python3.10/site-packages (from thinc<8.3.0,>=8.2.2->spacy<3.8.0,>=3.7.0->de-core-news-sm==3.7.0) (0.1.4)\n",
      "Requirement already satisfied: click<9.0.0,>=7.1.1 in /home/rallypal/.pyenv/versions/3.10.6/envs/lewagon/lib/python3.10/site-packages (from typer<0.10.0,>=0.3.0->spacy<3.8.0,>=3.7.0->de-core-news-sm==3.7.0) (8.1.3)\n",
      "Requirement already satisfied: cloudpathlib<0.17.0,>=0.7.0 in /home/rallypal/.pyenv/versions/3.10.6/envs/lewagon/lib/python3.10/site-packages (from weasel<0.4.0,>=0.1.0->spacy<3.8.0,>=3.7.0->de-core-news-sm==3.7.0) (0.16.0)\n",
      "Requirement already satisfied: MarkupSafe>=2.0 in /home/rallypal/.pyenv/versions/3.10.6/envs/lewagon/lib/python3.10/site-packages (from jinja2->spacy<3.8.0,>=3.7.0->de-core-news-sm==3.7.0) (2.1.1)\n",
      "Installing collected packages: de-core-news-sm\n",
      "Successfully installed de-core-news-sm-3.7.0\n",
      "\u001b[38;5;2m✔ Download and installation successful\u001b[0m\n",
      "You can now load the package via spacy.load('de_core_news_sm')\n"
     ]
    }
   ],
   "source": [
    "! python -m spacy download de_core_news_sm"
   ]
  },
  {
   "cell_type": "code",
   "execution_count": 23,
   "id": "4ee8151b",
   "metadata": {
    "scrolled": true
   },
   "outputs": [
    {
     "name": "stdout",
     "output_type": "stream",
     "text": [
      "Haake\n",
      "H\n",
      "Widdig\n",
      "Bensberg\n",
      "Textbreite\n",
      "Herrn Kardinal Wege\n",
      "Paderborn\n",
      "Briefes\n",
      "Schle\n",
      "Anschuldigun\n",
      "Adres Teil\n",
      "Hedwigskirche\n",
      "Gedächtnisrede\n",
      "Rom\n",
      "“\n",
      "Fürstbistum Breslau\n",
      "Paderborn\n",
      "Regierungs\n",
      "goldene Straße\n",
      "Veröffentlichung\n",
      "Mittelwegs\n",
      "Elsaß\n",
      "Herrn Erzbischof von Köln\n",
      "Elsaß\n",
      "Pagen\n",
      "Schlechter Kamerad\n",
      "Damen\n",
      "Vorstellens\n",
      "Estelle\n",
      "Voss\n",
      "Berlin\n",
      "Bayern\n",
      "England\n",
      "Luftflottenfrage\n",
      "England\n",
      "England\n",
      "England\n",
      "Deutschland\n",
      "Staaten\n",
      "Deutschland\n",
      "England\n",
      "Frankreich\n",
      "Sozi\n",
      "Wintergartens\n",
      "Chinesen\n",
      "Weißt du\n",
      "Sylvies\n",
      "Lachen\n"
     ]
    }
   ],
   "source": [
    "import spacy\n",
    "nlp = spacy.load(\"de_core_news_sm\")\n",
    "doc = nlp(df.iloc[0,13])\n",
    "\n",
    "for ent in doc.ents: \n",
    "    \"\"\"\n",
    "    Getting the names of all locations within the loaded newspaper article:\n",
    "    \"\"\"\n",
    "    if ent.label_== 'LOC':\n",
    "        print(ent.text)"
   ]
  },
  {
   "cell_type": "markdown",
   "id": "ad9e4436",
   "metadata": {},
   "source": [
    "Let's see whether \"Widdig\" from the above list is really a location:"
   ]
  },
  {
   "cell_type": "code",
   "execution_count": 26,
   "id": "1306d549",
   "metadata": {},
   "outputs": [
    {
     "data": {
      "text/plain": [
       "'Widdig ist ein Stadtteil von Bornheim im Rhein-Sieg-Kreis von Nordrhein-Westfalen.\\n\\n\\n== Geographie ==\\nWiddig liegt im Zentrum der Kölner Bucht, zwischen den beiden Großstädten Köln und Bonn. Es grenzt im Osten unmittelbar ans linke Ufer des Rheins, im Norden an die Stadt Wesseling mit ihrem Stadtteil Urfeld, im Westen an den Bornheimer Stadtteil Sechtem sowie im Süden an den Bornheimer Stadtteil Uedorf. Auf dem gegenüberliegenden rechten Rheinufer liegt die Stadt Niederkassel mit ihrem Stadtteil Rheidt. Westlich des Ortskerns befinden sich die Landesstraße 300 (vormals Bundesstraße 9) und die Rheinuferbahn, noch weiter westlich die Bundesautobahn 555.\\n\\n\\n== Geschichte ==\\nD'"
      ]
     },
     "execution_count": 26,
     "metadata": {},
     "output_type": "execute_result"
    }
   ],
   "source": [
    "import wikipedia as wiki\n",
    "wiki.set_lang(\"de\")\n",
    "\n",
    "search_string = 'Widdig'\n",
    "page = wiki.page(search_string)\n",
    "content = page.content\n",
    "content[0:680]"
   ]
  },
  {
   "cell_type": "code",
   "execution_count": null,
   "id": "4a2fdb89",
   "metadata": {},
   "outputs": [],
   "source": []
  },
  {
   "cell_type": "markdown",
   "id": "7c34140a",
   "metadata": {},
   "source": [
    "Extracting names of cities from the newspaper_df:"
   ]
  },
  {
   "cell_type": "code",
   "execution_count": 7,
   "id": "e500a86d",
   "metadata": {},
   "outputs": [],
   "source": [
    "# def city_extractor(newspaper_df):\n",
    "# #extracts names of cities from the dataframe containing the full texts.\n",
    "\n",
    "#     city_list=[]\n",
    "\n",
    "#     for place in newspaper_df['place_of_distribution']:\n",
    "#         if isinstance (place, list):\n",
    "#             if place[0] not in city_list:\n",
    "#                 city_list.append(place[0])\n",
    "#         else: \n",
    "#             if place not in city_list:\n",
    "#                 city_list.append(place)\n",
    "\n",
    "#     return city_list"
   ]
  },
  {
   "cell_type": "code",
   "execution_count": 8,
   "id": "315fc4a5",
   "metadata": {
    "scrolled": true
   },
   "outputs": [],
   "source": [
    "# cities= city_extractor(df)\n",
    "# cities"
   ]
  },
  {
   "cell_type": "markdown",
   "id": "4300f1c8",
   "metadata": {},
   "source": [
    "Pinning the cities from a city list on the world map:"
   ]
  },
  {
   "cell_type": "code",
   "execution_count": 9,
   "id": "a88ae075",
   "metadata": {},
   "outputs": [],
   "source": [
    "# def map_maker(city_list):\n",
    "# #plots the cities in the city list on a map.\n",
    "    \n",
    "#     city_dict= {}\n",
    "#     gn= geocoders.GeoNames(username=\"golisf\")\n",
    "    \n",
    "#     for city in city_list:\n",
    "#         if not pd.isna(city):\n",
    "#             city_dict[city]= gn.geocode(city)\n",
    "            \n",
    "#     # Create a map centered at a location, you can adjust the coordinates and zoom level as needed\n",
    "#     map_center= [51.1657, 10.4515]  # Germany's approximate center\n",
    "#     my_map= folium.Map(location=map_center, zoom_start=6)\n",
    " \n",
    "#     # Add markers for each city\n",
    "#     for city in list(city_dict.keys()):\n",
    "#         folium.Marker(location=city_dict[city], popup=city).add_to(my_map)\n",
    "        \n",
    "#     return my_map"
   ]
  },
  {
   "cell_type": "code",
   "execution_count": 10,
   "id": "b0357122",
   "metadata": {},
   "outputs": [],
   "source": [
    "#map_maker(cities)"
   ]
  },
  {
   "cell_type": "code",
   "execution_count": null,
   "id": "5141b3b7",
   "metadata": {},
   "outputs": [],
   "source": []
  }
 ],
 "metadata": {
  "kernelspec": {
   "display_name": "Python 3 (ipykernel)",
   "language": "python",
   "name": "python3"
  },
  "language_info": {
   "codemirror_mode": {
    "name": "ipython",
    "version": 3
   },
   "file_extension": ".py",
   "mimetype": "text/x-python",
   "name": "python",
   "nbconvert_exporter": "python",
   "pygments_lexer": "ipython3",
   "version": "3.10.6"
  },
  "toc": {
   "base_numbering": 1,
   "nav_menu": {},
   "number_sections": true,
   "sideBar": true,
   "skip_h1_title": false,
   "title_cell": "Table of Contents",
   "title_sidebar": "Contents",
   "toc_cell": false,
   "toc_position": {},
   "toc_section_display": true,
   "toc_window_display": false
  }
 },
 "nbformat": 4,
 "nbformat_minor": 5
}
