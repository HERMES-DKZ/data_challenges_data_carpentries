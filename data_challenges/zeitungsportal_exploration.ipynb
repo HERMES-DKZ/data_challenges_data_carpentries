{
 "cells": [
  {
   "cell_type": "markdown",
   "id": "3b3e8ce6",
   "metadata": {},
   "source": [
    "Deutsche Digitale Bibliothek REST API: https://labs.deutsche-digitale-bibliothek.de/app/ddbapi/#/search/getSolrSearch\n",
    "\n",
    "Fragen & Antworten zum Deutschen Zeitungsportal: https://www.deutsche-digitale-bibliothek.de/content/newspaper/fragen-antworten\n",
    "\n",
    "Wrapper for the DDB API: https://pypi.org/project/ddbapi/"
   ]
  },
  {
   "cell_type": "code",
   "execution_count": 1,
   "id": "ed291ab0",
   "metadata": {},
   "outputs": [],
   "source": [
    "from ddbapi import zp_issues, zp_pages, list_column, filter"
   ]
  },
  {
   "cell_type": "code",
   "execution_count": 2,
   "id": "205e6b61",
   "metadata": {},
   "outputs": [
    {
     "name": "stdout",
     "output_type": "stream",
     "text": [
      "https://api.deutsche-digitale-bibliothek.de/search/index/newspaper-issues/select?rows=1000&sort=id+ASC&q=type%3Aissue+AND+language%3A%22ger%22+AND+publication_date%3A%22%5B1955-01-01T12%3A00%3A00Z%5C+TO%5C+1990-12-31T12%3A00%3A00Z%5D%22&cursorMark=%2A\n",
      "Getting 1000 of 13092\n",
      "Getting 2000 of 13092\n",
      "Getting 3000 of 13092\n",
      "Getting 4000 of 13092\n",
      "Getting 5000 of 13092\n",
      "Getting 6000 of 13092\n",
      "Getting 7000 of 13092\n",
      "Getting 8000 of 13092\n",
      "Getting 9000 of 13092\n",
      "Getting 10000 of 13092\n",
      "Getting 11000 of 13092\n",
      "Getting 12000 of 13092\n",
      "Getting 13000 of 13092\n",
      "Getting 13092 of 13092\n",
      "Got 13092 items.\n"
     ]
    }
   ],
   "source": [
    "#getting all the german-language newspapers between 1955 and 1990:\n",
    "\n",
    "df_1= zp_issues(language='ger', publication_date='[1955-01-01T12:00:00Z TO 1990-12-31T12:00:00Z]')"
   ]
  },
  {
   "cell_type": "code",
   "execution_count": 13,
   "id": "cf675205",
   "metadata": {},
   "outputs": [
    {
     "name": "stdout",
     "output_type": "stream",
     "text": [
      "<class 'pandas.core.frame.DataFrame'>\n",
      "RangeIndex: 13092 entries, 0 to 13091\n",
      "Data columns (total 10 columns):\n",
      " #   Column                  Non-Null Count  Dtype         \n",
      "---  ------                  --------------  -----         \n",
      " 0   ddb_item_id             13092 non-null  object        \n",
      " 1   paper_title             13092 non-null  object        \n",
      " 2   provider_ddb_id         13092 non-null  object        \n",
      " 3   provider                13092 non-null  object        \n",
      " 4   zdb_id                  13092 non-null  object        \n",
      " 5   ns_disclaimer_required  13092 non-null  bool          \n",
      " 6   publication_date        13092 non-null  datetime64[ns]\n",
      " 7   place_of_distribution   13092 non-null  object        \n",
      " 8   language                13092 non-null  object        \n",
      " 9   thumbnail               13092 non-null  object        \n",
      "dtypes: bool(1), datetime64[ns](1), object(8)\n",
      "memory usage: 933.4+ KB\n"
     ]
    }
   ],
   "source": [
    "df_1.info()"
   ]
  },
  {
   "cell_type": "code",
   "execution_count": 3,
   "id": "85e8cfb3",
   "metadata": {},
   "outputs": [
    {
     "data": {
      "text/html": [
       "<div>\n",
       "<style scoped>\n",
       "    .dataframe tbody tr th:only-of-type {\n",
       "        vertical-align: middle;\n",
       "    }\n",
       "\n",
       "    .dataframe tbody tr th {\n",
       "        vertical-align: top;\n",
       "    }\n",
       "\n",
       "    .dataframe thead th {\n",
       "        text-align: right;\n",
       "    }\n",
       "</style>\n",
       "<table border=\"1\" class=\"dataframe\">\n",
       "  <thead>\n",
       "    <tr style=\"text-align: right;\">\n",
       "      <th></th>\n",
       "      <th>ddb_item_id</th>\n",
       "      <th>paper_title</th>\n",
       "      <th>provider_ddb_id</th>\n",
       "      <th>provider</th>\n",
       "      <th>zdb_id</th>\n",
       "      <th>ns_disclaimer_required</th>\n",
       "      <th>publication_date</th>\n",
       "      <th>place_of_distribution</th>\n",
       "      <th>language</th>\n",
       "      <th>thumbnail</th>\n",
       "    </tr>\n",
       "  </thead>\n",
       "  <tbody>\n",
       "    <tr>\n",
       "      <th>0</th>\n",
       "      <td>22377K4DHFD4MEK5A2MPRT4KMVJPZBQM</td>\n",
       "      <td>Honnefer Volkszeitung. 1889-1978</td>\n",
       "      <td>VKNQFFAKOR4XZWJJKUX3NGYSZ3QZAXCW</td>\n",
       "      <td>Universitäts- und Landesbibliothek der Rheinis...</td>\n",
       "      <td>2835548-9</td>\n",
       "      <td>False</td>\n",
       "      <td>1977-10-16 12:00:00</td>\n",
       "      <td>[Bad Honnef]</td>\n",
       "      <td>[ger]</td>\n",
       "      <td>f72d0286-e69f-4a94-b5b3-0aba06d574fd</td>\n",
       "    </tr>\n",
       "    <tr>\n",
       "      <th>1</th>\n",
       "      <td>22454JBKTDMJCFGUJYDBUM7DQIAONDPK</td>\n",
       "      <td>Honnefer Volkszeitung. 1889-1978</td>\n",
       "      <td>VKNQFFAKOR4XZWJJKUX3NGYSZ3QZAXCW</td>\n",
       "      <td>Universitäts- und Landesbibliothek der Rheinis...</td>\n",
       "      <td>2835548-9</td>\n",
       "      <td>False</td>\n",
       "      <td>1977-03-23 12:00:00</td>\n",
       "      <td>[Bad Honnef]</td>\n",
       "      <td>[ger]</td>\n",
       "      <td>b8b68029-628b-49ad-89a4-430233a15d87</td>\n",
       "    </tr>\n",
       "    <tr>\n",
       "      <th>2</th>\n",
       "      <td>224JZKQJTZW4IQKML6GHKINAFHQ76OD4</td>\n",
       "      <td>Neckar-Bote : Heimatzeitung für Seckenheim und...</td>\n",
       "      <td>NWNEPSPSGSSYWU3IP75BYGGBRNQORN6A</td>\n",
       "      <td>MARCHIVUM Mannheim</td>\n",
       "      <td>3137970-9</td>\n",
       "      <td>False</td>\n",
       "      <td>1955-11-21 12:00:00</td>\n",
       "      <td>[Seckenheim, Mannheim, Mannheim-Seckenheim, Il...</td>\n",
       "      <td>[ger]</td>\n",
       "      <td>ee024c71-f8a3-4fe4-a4a9-8d8b70a58376</td>\n",
       "    </tr>\n",
       "    <tr>\n",
       "      <th>3</th>\n",
       "      <td>22622PL64IYGWWEHQFF6EF5MELTN4AH4</td>\n",
       "      <td>Der Motor : Zeitung der Dieselmotorenwerk Rost...</td>\n",
       "      <td>UPHR66ECKLOQBHTW23IVD2SE4UBEF2XY</td>\n",
       "      <td>Schifffahrtsmuseum Rostock</td>\n",
       "      <td>3139118-7</td>\n",
       "      <td>False</td>\n",
       "      <td>1957-12-20 12:00:00</td>\n",
       "      <td>[Rostock]</td>\n",
       "      <td>[ger]</td>\n",
       "      <td>f00caeaf-3380-45f4-a03a-d8057a176040</td>\n",
       "    </tr>\n",
       "    <tr>\n",
       "      <th>4</th>\n",
       "      <td>22B57JFQMKA27LHYU3JMRJAOYZ3IW3O7</td>\n",
       "      <td>Neckar-Bote : Heimatzeitung für Seckenheim und...</td>\n",
       "      <td>NWNEPSPSGSSYWU3IP75BYGGBRNQORN6A</td>\n",
       "      <td>MARCHIVUM Mannheim</td>\n",
       "      <td>3137970-9</td>\n",
       "      <td>False</td>\n",
       "      <td>1963-07-13 12:00:00</td>\n",
       "      <td>[Seckenheim, Mannheim, Mannheim-Seckenheim, Il...</td>\n",
       "      <td>[ger]</td>\n",
       "      <td>485a6ef7-85b8-4b94-97fe-bc639b69a7bb</td>\n",
       "    </tr>\n",
       "  </tbody>\n",
       "</table>\n",
       "</div>"
      ],
      "text/plain": [
       "                        ddb_item_id  \\\n",
       "0  22377K4DHFD4MEK5A2MPRT4KMVJPZBQM   \n",
       "1  22454JBKTDMJCFGUJYDBUM7DQIAONDPK   \n",
       "2  224JZKQJTZW4IQKML6GHKINAFHQ76OD4   \n",
       "3  22622PL64IYGWWEHQFF6EF5MELTN4AH4   \n",
       "4  22B57JFQMKA27LHYU3JMRJAOYZ3IW3O7   \n",
       "\n",
       "                                         paper_title  \\\n",
       "0                   Honnefer Volkszeitung. 1889-1978   \n",
       "1                   Honnefer Volkszeitung. 1889-1978   \n",
       "2  Neckar-Bote : Heimatzeitung für Seckenheim und...   \n",
       "3  Der Motor : Zeitung der Dieselmotorenwerk Rost...   \n",
       "4  Neckar-Bote : Heimatzeitung für Seckenheim und...   \n",
       "\n",
       "                    provider_ddb_id  \\\n",
       "0  VKNQFFAKOR4XZWJJKUX3NGYSZ3QZAXCW   \n",
       "1  VKNQFFAKOR4XZWJJKUX3NGYSZ3QZAXCW   \n",
       "2  NWNEPSPSGSSYWU3IP75BYGGBRNQORN6A   \n",
       "3  UPHR66ECKLOQBHTW23IVD2SE4UBEF2XY   \n",
       "4  NWNEPSPSGSSYWU3IP75BYGGBRNQORN6A   \n",
       "\n",
       "                                            provider     zdb_id  \\\n",
       "0  Universitäts- und Landesbibliothek der Rheinis...  2835548-9   \n",
       "1  Universitäts- und Landesbibliothek der Rheinis...  2835548-9   \n",
       "2                                 MARCHIVUM Mannheim  3137970-9   \n",
       "3                         Schifffahrtsmuseum Rostock  3139118-7   \n",
       "4                                 MARCHIVUM Mannheim  3137970-9   \n",
       "\n",
       "   ns_disclaimer_required    publication_date  \\\n",
       "0                   False 1977-10-16 12:00:00   \n",
       "1                   False 1977-03-23 12:00:00   \n",
       "2                   False 1955-11-21 12:00:00   \n",
       "3                   False 1957-12-20 12:00:00   \n",
       "4                   False 1963-07-13 12:00:00   \n",
       "\n",
       "                               place_of_distribution language  \\\n",
       "0                                       [Bad Honnef]    [ger]   \n",
       "1                                       [Bad Honnef]    [ger]   \n",
       "2  [Seckenheim, Mannheim, Mannheim-Seckenheim, Il...    [ger]   \n",
       "3                                          [Rostock]    [ger]   \n",
       "4  [Seckenheim, Mannheim, Mannheim-Seckenheim, Il...    [ger]   \n",
       "\n",
       "                              thumbnail  \n",
       "0  f72d0286-e69f-4a94-b5b3-0aba06d574fd  \n",
       "1  b8b68029-628b-49ad-89a4-430233a15d87  \n",
       "2  ee024c71-f8a3-4fe4-a4a9-8d8b70a58376  \n",
       "3  f00caeaf-3380-45f4-a03a-d8057a176040  \n",
       "4  485a6ef7-85b8-4b94-97fe-bc639b69a7bb  "
      ]
     },
     "execution_count": 3,
     "metadata": {},
     "output_type": "execute_result"
    }
   ],
   "source": [
    "df_1.head()"
   ]
  },
  {
   "cell_type": "code",
   "execution_count": 5,
   "id": "0eb64865",
   "metadata": {},
   "outputs": [
    {
     "data": {
      "text/plain": [
       "['Bad Honnef',\n",
       " 'Seckenheim',\n",
       " 'Rostock',\n",
       " 'Bonn-Oberkassel',\n",
       " 'Mannheim',\n",
       " 'Gummersbach',\n",
       " 'Wipperfürth']"
      ]
     },
     "execution_count": 5,
     "metadata": {},
     "output_type": "execute_result"
    }
   ],
   "source": [
    "#getting the places of distribution of all available newspapers in df:\n",
    "\n",
    "places_of_distribution_list=[]\n",
    "\n",
    "for place in df_1['place_of_distribution']:\n",
    "    if place[0] not in places_of_distribution_list:\n",
    "        places_of_distribution_list.append(place[0])\n",
    "        \n",
    "places_of_distribution_list"
   ]
  },
  {
   "cell_type": "code",
   "execution_count": 4,
   "id": "d7aeb85f",
   "metadata": {},
   "outputs": [
    {
     "data": {
      "text/plain": [
       "array(['Honnefer Volkszeitung. 1889-1978',\n",
       "       'Neckar-Bote : Heimatzeitung für Seckenheim und Umgebung',\n",
       "       'Der Motor : Zeitung der Dieselmotorenwerk Rostock GmbH',\n",
       "       'Neckar-Bote : Heimatzeitung für Seckenheim und Umgebung, Zweites Blatt',\n",
       "       'Oberkasseler Zeitung : Heimatzeitung für Oberkassel, Ober- und Niederdollendorf und Römlinghoven',\n",
       "       'Neckar-Bote für Seckenheim und Umgebung : im Verbund Mannheimer Wochenblatt',\n",
       "       'Neckar-Bote : Heimatzeitung für Seckenheim und Umgebung, Drittes Blatt',\n",
       "       'Gummersbacher Kreisblatt. 1851-1869',\n",
       "       'Wipperfürther Kreis-Intelligenzblatt : amtliches Organ des Kreises Wipperfürth',\n",
       "       'Honnefer Volkszeitung. 1889-1978, ()  (No. 265)',\n",
       "       'Honnefer Volkszeitung. 1889-1978, (Festausgabe zur 100-Jahr-Feier)'],\n",
       "      dtype=object)"
      ]
     },
     "execution_count": 4,
     "metadata": {},
     "output_type": "execute_result"
    }
   ],
   "source": [
    "#getting the titles of all available newspapers in df:\n",
    "\n",
    "df_1['paper_title'].unique()"
   ]
  },
  {
   "cell_type": "code",
   "execution_count": 15,
   "id": "3582440c",
   "metadata": {},
   "outputs": [
    {
     "data": {
      "text/plain": [
       "array(['2835548-9', '3137970-9', '3139118-7', '2830103-1', '3144124-5',\n",
       "       '3063605-X', '2581492-8'], dtype=object)"
      ]
     },
     "execution_count": 15,
     "metadata": {},
     "output_type": "execute_result"
    }
   ],
   "source": [
    "#question: does each zdb_id refer to a certain newspaper?!\n",
    "\n",
    "df_1['zdb_id'].unique()"
   ]
  },
  {
   "cell_type": "code",
   "execution_count": 25,
   "id": "5cdf7fa3",
   "metadata": {},
   "outputs": [
    {
     "name": "stdout",
     "output_type": "stream",
     "text": [
      "6908\n",
      "6910\n"
     ]
    }
   ],
   "source": [
    "\"\"\"\n",
    "this shows that the zdb_id '2835548-9' does not alwas correspond to \n",
    "the paper_title 'Honnefer Volkszeitung. 1889-1978'.\n",
    "\"\"\"\n",
    "\n",
    "df_honnefer= df_1[df_1['paper_title']== 'Honnefer Volkszeitung. 1889-1978']\n",
    "df_honnefer_2= df_1[df_1['zdb_id']== '2835548-9']\n",
    "\n",
    "print (len(df_honnefer))\n",
    "print (len(df_honnefer_2))"
   ]
  },
  {
   "cell_type": "code",
   "execution_count": 6,
   "id": "97248427",
   "metadata": {},
   "outputs": [],
   "source": [
    "#type(df['zdb_id'][0])"
   ]
  },
  {
   "cell_type": "code",
   "execution_count": 7,
   "id": "6670ac81",
   "metadata": {},
   "outputs": [
    {
     "name": "stdout",
     "output_type": "stream",
     "text": [
      "https://api.deutsche-digitale-bibliothek.de/search/index/newspaper-issues/select?rows=1000&sort=id+ASC&q=type%3Apage+AND+%28plainpagefulltext%3Aausl%C3%A4nder+AND+plainpagefulltext%3Apolitik%29+AND+publication_date%3A%22%5B1955-01-01T12%3A00%3A00Z%5C+TO%5C+1990-12-31T12%3A00%3A00Z%5D%22+AND+zdb_id%3A%222835548-9%22+AND+language%3A%22ger%22&cursorMark=%2A\n",
      "Got 278 items.\n"
     ]
    }
   ],
   "source": [
    "\"\"\"\n",
    "getting the list of all articles in Honnefer Volkszeitung. 1889-1978 (zdb_id='2835548-9') between 1955 and 1990, \n",
    "that contain the words 'ausländer' and 'politik' in their full-text. \n",
    "\"\"\"\n",
    "\n",
    "word_list= ['ausländer', 'politik']\n",
    "\n",
    "df_2= zp_pages(plainpagefulltext=word_list, publication_date='[1955-01-01T12:00:00Z TO 1990-12-31T12:00:00Z]', \n",
    "               zdb_id='2835548-9', language='ger')"
   ]
  },
  {
   "cell_type": "code",
   "execution_count": 9,
   "id": "6e45e8f0",
   "metadata": {},
   "outputs": [
    {
     "name": "stdout",
     "output_type": "stream",
     "text": [
      "<class 'pandas.core.frame.DataFrame'>\n",
      "RangeIndex: 278 entries, 0 to 277\n",
      "Data columns (total 14 columns):\n",
      " #   Column                 Non-Null Count  Dtype         \n",
      "---  ------                 --------------  -----         \n",
      " 0   page_id                278 non-null    object        \n",
      " 1   pagenumber             278 non-null    int64         \n",
      " 2   paper_title            278 non-null    object        \n",
      " 3   provider_ddb_id        278 non-null    object        \n",
      " 4   provider               278 non-null    object        \n",
      " 5   zdb_id                 278 non-null    object        \n",
      " 6   publication_date       278 non-null    datetime64[ns]\n",
      " 7   place_of_distribution  278 non-null    object        \n",
      " 8   language               278 non-null    object        \n",
      " 9   thumbnail              278 non-null    object        \n",
      " 10  pagefulltext           278 non-null    object        \n",
      " 11  pagename               278 non-null    object        \n",
      " 12  preview_reference      278 non-null    object        \n",
      " 13  plainpagefulltext      278 non-null    object        \n",
      "dtypes: datetime64[ns](1), int64(1), object(12)\n",
      "memory usage: 30.5+ KB\n"
     ]
    }
   ],
   "source": [
    "df_2.info()"
   ]
  },
  {
   "cell_type": "code",
   "execution_count": 8,
   "id": "3d5cbc4b",
   "metadata": {},
   "outputs": [
    {
     "data": {
      "text/html": [
       "<div>\n",
       "<style scoped>\n",
       "    .dataframe tbody tr th:only-of-type {\n",
       "        vertical-align: middle;\n",
       "    }\n",
       "\n",
       "    .dataframe tbody tr th {\n",
       "        vertical-align: top;\n",
       "    }\n",
       "\n",
       "    .dataframe thead th {\n",
       "        text-align: right;\n",
       "    }\n",
       "</style>\n",
       "<table border=\"1\" class=\"dataframe\">\n",
       "  <thead>\n",
       "    <tr style=\"text-align: right;\">\n",
       "      <th></th>\n",
       "      <th>page_id</th>\n",
       "      <th>pagenumber</th>\n",
       "      <th>paper_title</th>\n",
       "      <th>provider_ddb_id</th>\n",
       "      <th>provider</th>\n",
       "      <th>zdb_id</th>\n",
       "      <th>publication_date</th>\n",
       "      <th>place_of_distribution</th>\n",
       "      <th>language</th>\n",
       "      <th>thumbnail</th>\n",
       "      <th>pagefulltext</th>\n",
       "      <th>pagename</th>\n",
       "      <th>preview_reference</th>\n",
       "      <th>plainpagefulltext</th>\n",
       "    </tr>\n",
       "  </thead>\n",
       "  <tbody>\n",
       "    <tr>\n",
       "      <th>0</th>\n",
       "      <td>2GYQSLC56NJ6NWMH5KQNLABXTSFLM5L5-ALTO4362096_D...</td>\n",
       "      <td>4</td>\n",
       "      <td>Honnefer Volkszeitung. 1889-1978</td>\n",
       "      <td>VKNQFFAKOR4XZWJJKUX3NGYSZ3QZAXCW</td>\n",
       "      <td>Universitäts- und Landesbibliothek der Rheinis...</td>\n",
       "      <td>2835548-9</td>\n",
       "      <td>1976-09-30 12:00:00</td>\n",
       "      <td>[Bad Honnef]</td>\n",
       "      <td>[ger]</td>\n",
       "      <td>59190374-591d-4132-b8bc-f0488d6c7c46</td>\n",
       "      <td>[/data/altos/2G/YQ/2GYQSLC56NJ6NWMH5KQNLABXTSF...</td>\n",
       "      <td>ALTO4362096_DDB_FULLTEXT</td>\n",
       "      <td>https://api.deutsche-digitale-bibliothek.de/bi...</td>\n",
       "      <td>Oberkreisdirektor Kieras legte neue Pläne vor ...</td>\n",
       "    </tr>\n",
       "    <tr>\n",
       "      <th>1</th>\n",
       "      <td>2NMMSUECS7KDOLVYU2IZXJJ44HHJQ5EG-ALTO4337345_D...</td>\n",
       "      <td>4</td>\n",
       "      <td>Honnefer Volkszeitung. 1889-1978</td>\n",
       "      <td>VKNQFFAKOR4XZWJJKUX3NGYSZ3QZAXCW</td>\n",
       "      <td>Universitäts- und Landesbibliothek der Rheinis...</td>\n",
       "      <td>2835548-9</td>\n",
       "      <td>1964-08-18 12:00:00</td>\n",
       "      <td>[Bad Honnef]</td>\n",
       "      <td>[ger]</td>\n",
       "      <td>2e3cb021-c5d8-4777-a8af-19fb04255cbc</td>\n",
       "      <td>[/data/altos/2N/MM/2NMMSUECS7KDOLVYU2IZXJJ44HH...</td>\n",
       "      <td>ALTO4337345_DDB_FULLTEXT</td>\n",
       "      <td>https://api.deutsche-digitale-bibliothek.de/bi...</td>\n",
       "      <td>9 8 — K Schäheh OberVohlezscha Ven Kubn droht ...</td>\n",
       "    </tr>\n",
       "    <tr>\n",
       "      <th>2</th>\n",
       "      <td>2PQSMQI3P47SB7AMGITAQI76ZIA2UBJW-ALTO4331344_D...</td>\n",
       "      <td>1</td>\n",
       "      <td>Honnefer Volkszeitung. 1889-1978</td>\n",
       "      <td>VKNQFFAKOR4XZWJJKUX3NGYSZ3QZAXCW</td>\n",
       "      <td>Universitäts- und Landesbibliothek der Rheinis...</td>\n",
       "      <td>2835548-9</td>\n",
       "      <td>1961-07-06 12:00:00</td>\n",
       "      <td>[Bad Honnef]</td>\n",
       "      <td>[ger]</td>\n",
       "      <td>9d0b3dd3-b673-40fe-8eee-365da5637f6b</td>\n",
       "      <td>[/data/altos/2P/QS/2PQSMQI3P47SB7AMGITAQI76ZIA...</td>\n",
       "      <td>ALTO4331344_DDB_FULLTEXT</td>\n",
       "      <td>https://api.deutsche-digitale-bibliothek.de/bi...</td>\n",
       "      <td>„ Gng * verbunden mit der urktäglich . Bezugsp...</td>\n",
       "    </tr>\n",
       "    <tr>\n",
       "      <th>3</th>\n",
       "      <td>2PQSMQI3P47SB7AMGITAQI76ZIA2UBJW-ALTO4331347_D...</td>\n",
       "      <td>4</td>\n",
       "      <td>Honnefer Volkszeitung. 1889-1978</td>\n",
       "      <td>VKNQFFAKOR4XZWJJKUX3NGYSZ3QZAXCW</td>\n",
       "      <td>Universitäts- und Landesbibliothek der Rheinis...</td>\n",
       "      <td>2835548-9</td>\n",
       "      <td>1961-07-06 12:00:00</td>\n",
       "      <td>[Bad Honnef]</td>\n",
       "      <td>[ger]</td>\n",
       "      <td>9d0b3dd3-b673-40fe-8eee-365da5637f6b</td>\n",
       "      <td>[/data/altos/2P/QS/2PQSMQI3P47SB7AMGITAQI76ZIA...</td>\n",
       "      <td>ALTO4331347_DDB_FULLTEXT</td>\n",
       "      <td>https://api.deutsche-digitale-bibliothek.de/bi...</td>\n",
       "      <td>Menschen leben . Interessant und bei uns viel ...</td>\n",
       "    </tr>\n",
       "    <tr>\n",
       "      <th>4</th>\n",
       "      <td>2TC47IIAY2NNDE22VEMW6TUEG5RDCOR6-ALTO4346464_D...</td>\n",
       "      <td>3</td>\n",
       "      <td>Honnefer Volkszeitung. 1889-1978</td>\n",
       "      <td>VKNQFFAKOR4XZWJJKUX3NGYSZ3QZAXCW</td>\n",
       "      <td>Universitäts- und Landesbibliothek der Rheinis...</td>\n",
       "      <td>2835548-9</td>\n",
       "      <td>1969-03-26 12:00:00</td>\n",
       "      <td>[Bad Honnef]</td>\n",
       "      <td>[ger]</td>\n",
       "      <td>eade915c-2b1b-433f-b852-02dfa0e7d630</td>\n",
       "      <td>[/data/altos/2T/C4/2TC47IIAY2NNDE22VEMW6TUEG5R...</td>\n",
       "      <td>ALTO4346464_DDB_FULLTEXT</td>\n",
       "      <td>https://api.deutsche-digitale-bibliothek.de/bi...</td>\n",
       "      <td>HIONNEFER VOLKSZEITUNG 26 . März 1969 S Ein Be...</td>\n",
       "    </tr>\n",
       "  </tbody>\n",
       "</table>\n",
       "</div>"
      ],
      "text/plain": [
       "                                             page_id  pagenumber  \\\n",
       "0  2GYQSLC56NJ6NWMH5KQNLABXTSFLM5L5-ALTO4362096_D...           4   \n",
       "1  2NMMSUECS7KDOLVYU2IZXJJ44HHJQ5EG-ALTO4337345_D...           4   \n",
       "2  2PQSMQI3P47SB7AMGITAQI76ZIA2UBJW-ALTO4331344_D...           1   \n",
       "3  2PQSMQI3P47SB7AMGITAQI76ZIA2UBJW-ALTO4331347_D...           4   \n",
       "4  2TC47IIAY2NNDE22VEMW6TUEG5RDCOR6-ALTO4346464_D...           3   \n",
       "\n",
       "                        paper_title                   provider_ddb_id  \\\n",
       "0  Honnefer Volkszeitung. 1889-1978  VKNQFFAKOR4XZWJJKUX3NGYSZ3QZAXCW   \n",
       "1  Honnefer Volkszeitung. 1889-1978  VKNQFFAKOR4XZWJJKUX3NGYSZ3QZAXCW   \n",
       "2  Honnefer Volkszeitung. 1889-1978  VKNQFFAKOR4XZWJJKUX3NGYSZ3QZAXCW   \n",
       "3  Honnefer Volkszeitung. 1889-1978  VKNQFFAKOR4XZWJJKUX3NGYSZ3QZAXCW   \n",
       "4  Honnefer Volkszeitung. 1889-1978  VKNQFFAKOR4XZWJJKUX3NGYSZ3QZAXCW   \n",
       "\n",
       "                                            provider     zdb_id  \\\n",
       "0  Universitäts- und Landesbibliothek der Rheinis...  2835548-9   \n",
       "1  Universitäts- und Landesbibliothek der Rheinis...  2835548-9   \n",
       "2  Universitäts- und Landesbibliothek der Rheinis...  2835548-9   \n",
       "3  Universitäts- und Landesbibliothek der Rheinis...  2835548-9   \n",
       "4  Universitäts- und Landesbibliothek der Rheinis...  2835548-9   \n",
       "\n",
       "     publication_date place_of_distribution language  \\\n",
       "0 1976-09-30 12:00:00          [Bad Honnef]    [ger]   \n",
       "1 1964-08-18 12:00:00          [Bad Honnef]    [ger]   \n",
       "2 1961-07-06 12:00:00          [Bad Honnef]    [ger]   \n",
       "3 1961-07-06 12:00:00          [Bad Honnef]    [ger]   \n",
       "4 1969-03-26 12:00:00          [Bad Honnef]    [ger]   \n",
       "\n",
       "                              thumbnail  \\\n",
       "0  59190374-591d-4132-b8bc-f0488d6c7c46   \n",
       "1  2e3cb021-c5d8-4777-a8af-19fb04255cbc   \n",
       "2  9d0b3dd3-b673-40fe-8eee-365da5637f6b   \n",
       "3  9d0b3dd3-b673-40fe-8eee-365da5637f6b   \n",
       "4  eade915c-2b1b-433f-b852-02dfa0e7d630   \n",
       "\n",
       "                                        pagefulltext  \\\n",
       "0  [/data/altos/2G/YQ/2GYQSLC56NJ6NWMH5KQNLABXTSF...   \n",
       "1  [/data/altos/2N/MM/2NMMSUECS7KDOLVYU2IZXJJ44HH...   \n",
       "2  [/data/altos/2P/QS/2PQSMQI3P47SB7AMGITAQI76ZIA...   \n",
       "3  [/data/altos/2P/QS/2PQSMQI3P47SB7AMGITAQI76ZIA...   \n",
       "4  [/data/altos/2T/C4/2TC47IIAY2NNDE22VEMW6TUEG5R...   \n",
       "\n",
       "                   pagename  \\\n",
       "0  ALTO4362096_DDB_FULLTEXT   \n",
       "1  ALTO4337345_DDB_FULLTEXT   \n",
       "2  ALTO4331344_DDB_FULLTEXT   \n",
       "3  ALTO4331347_DDB_FULLTEXT   \n",
       "4  ALTO4346464_DDB_FULLTEXT   \n",
       "\n",
       "                                   preview_reference  \\\n",
       "0  https://api.deutsche-digitale-bibliothek.de/bi...   \n",
       "1  https://api.deutsche-digitale-bibliothek.de/bi...   \n",
       "2  https://api.deutsche-digitale-bibliothek.de/bi...   \n",
       "3  https://api.deutsche-digitale-bibliothek.de/bi...   \n",
       "4  https://api.deutsche-digitale-bibliothek.de/bi...   \n",
       "\n",
       "                                   plainpagefulltext  \n",
       "0  Oberkreisdirektor Kieras legte neue Pläne vor ...  \n",
       "1  9 8 — K Schäheh OberVohlezscha Ven Kubn droht ...  \n",
       "2  „ Gng * verbunden mit der urktäglich . Bezugsp...  \n",
       "3  Menschen leben . Interessant und bei uns viel ...  \n",
       "4  HIONNEFER VOLKSZEITUNG 26 . März 1969 S Ein Be...  "
      ]
     },
     "execution_count": 8,
     "metadata": {},
     "output_type": "execute_result"
    }
   ],
   "source": [
    "df_2.head()"
   ]
  },
  {
   "cell_type": "code",
   "execution_count": 10,
   "id": "cda1dead",
   "metadata": {},
   "outputs": [
    {
     "data": {
      "text/plain": [
       "'Oberkreisdirektor Kieras legte neue Pläne vor David gegen Goliath : Mit ihrem Schul - Computer werden Schüler des Bonner Helmholtz - Gymnasiums unter Leitung ihres Lehrers , Ulrich Jansen ( links ) , bei der Bundestagswahl am Sonntag in Wettstreit mit den großen Rechenzentren der Fernsehanstalten treten . Sie hoffen , die Wahlergebnisse des Bonner Wahlkreises schneller als die „ Konkurrenz “ bestimmen zu können — wie es ihnen bereits bei der Landtags - und Kommunalwahl 1975 gelungen war . Schuldenzucker ( CDU ) ist zuversichtlich : in diesen Tagen wurde ihm von den Klägern auf Anfrage schriftlich mitgeteilt , unter welchen Voraussetzungen die EB 42 zwischen Oberkas sel und Königswinter gebaut werden könne . Nach einer Abstimmung mit ihrem Rechtsan walt Dr . Redeker gab Paul Wende dem Stadtver ordneten Bruno Schuldenzucker folgende schriftliche Zusage : Wenn die Verantwortlichen wie Straßenbauverwaltung , Verkehrsminister u . a . bereit würen , die EB 42 zwischen Ober kassel und Königswinter statt im Trog durch einen Tunnel zu führen und zu diesem Vor schlag eine „ restlos abgesicherte , rechtsverbind liche Zusage “ erfolge , stehe dem Bau der Eb 42 von seiten der Kläger nichts mehr im Wege . Wenn der Tunnel , also die Abdeckung der ge planten Wanne , gebaut werde und dic Beseiti gung der Abgase nicht zu Lasten der Anlieger gehe , sollten auch keine Einwände gegen die jetzige Linienführung mehr erhoben werden . Paul Wende wies darauf hin , bei der Klage gehe es immer wieder um den gesundheitlichen Schutz der Bevölkerung und nicht um Grund stücksfragen , wie von Gegnern immer wieder behauptet werde . Bei einer solchen Tunnellö sung könne die Straßenbauverwaltung zahlrei che Grundstücke in der Straßentrasse wieder verkaufen und so die Baukosten erheblich ver mindern . Paul Wende teilte Bruno Schulden zucker weiter mit , daß Dr . Redeker das Ober verwaltungsgericht über diesen Lösungsvor schlag informiert habe . Wenn die vorgeschlage ne Tunnellösung jetzt auf verschiedenen Ebenen mit Nachdruck verfolgt werde , könne bei gutem Willen der Straßenbauverwaltung beziehungsweise des Verkehrsministers schon bald mit dem Weiterbau der EB 42 begonnen werden Junges Einbrecher - Quartett von Kripo ausgehoben DUISDOR F . Eine Serie von 14 Einbrüchen , die in den letzten fünf Mionaten vorwiegend im Bereich Duisdorf verübt worden waren , wurde nach Angaben der Kriminalpolizei Bonn dieser Tage aufgeklärt . Als Tatverdächtige nahmen die Polizeibeamten ein Quartett von Jugendlichen fest , drei Arbeitslose zwischen 18 und 20 Jah ren aus Duisdorf und einen 19jährigen Fliesen leger aus Röttgen . Die jungen Nlänner waren in Schulen , Verwaltungsgebäude , in den Bahnhof Duisdorf und in sechs Gaststätten eingestiegen und hatten Bargeld , Plattenspieler , Tonband geräte und Kassettenrekorder erbeutet . Algerier aus dem Auto geworfen BORNHEIM . Raubüberfall oder Streit aus Eifersucht ? Diese Frage klärt zur Zeit die Bonner Kripo , nachdem ein 43jähriger Auslän der bei der Polizei Anzeige erstattet hatte . Der Mann erschien nachts auf der Wache : „ Drei Männer haben mich im Auto erst zusammen geschlagen , dann ausgeraubt und schließlich aus dem Auto geworfen . “ Während der Algerier behauptet , einem Raubüberfall zum Opfer ge fallen zu sein , behaupten seine Zechkumpane , ihn nach einem Streit lediglich vor seiner Haus tür aus dem Wagen geworfen zu haben . Grund ihres barschen Verhaltens : Auf der Hleimfahrt soll der Ausländer die 15jährige Verlobte eines Beifahrers belästigt haben . Freizeit im Garten HAMBURG , 30 . Sept . Rund zwei Millionen Bundesbürger verbringen ihre Freizeit in den Kleingärten der Städte und Gemeinden . Von Anatol Johansen Chanes farnarspas Laltlumrt - Ihaustrie Lufthansa will für vier Milliarden DM neue Flugzeuge kaufen Bereits Anfang der 80er Jahre muß die Deutsche Luft hansa damit beginnen , neue Flugzeuge in Dienst zu stel len . Wie kürzlich auf der Hauptversammlung der Luft verkehrsgesellschaft der Bun desrepublik mitgeteilt wurde , müssen im Verlauf von etwa zehn Jahren Flugzeuge im Werte von nicht weniger als vier Milliarden OM neu ange schafft werden . Abgesehen von einigen weiteren Käufen der Lang strecken - Flugzeuge 0C - 10 und Boeing - 747 ist in erster Linie die gesamte Kurz - und Mittelstrecken - Flotte allmäh lich auszumustern . Betroffen sind in erster Linie die etwa je 30 Maschinen der Typen Boeing - 727 und Boeing - 737 , die mit Reichweiten bis zu et wa 3 000 Kilometern vor al lem im europäischen Bereich eingesetzt sind . Hier soll be reits ab 1982/83 mit dem Ausmustern begonnen wer den . Für die kleinere , zweimo torige , etwa 1OOsitzige Boeing - 737 mit einer Reichweite von ca . 1 000 Ki lometern sollen , wie der Technische Direktor der Luft hansa , Dr . Rolf Stüssel , jetzt mitteilte , 20 bis 25 Maschi nen mit je etwa 120 Sitzen gekauft werden . Hier wird ein Flugzeug mit zwei Triebwer ken von je zehn Tonnen Schub erwartet und sechs Sitzen pro Reihe , getrennt durch einen Mittelgang . Für die nächstgrößere Maschine der Lufthansa , die dreimotorige Boeing - 727 die — je nach Version — 110 bis 160 Passagieren Platz bietet und eine Reichweite von mehr als 2 000 Kilometern er reicht , soll ein neues 16Ositziges Flugzeug ange schafft werden . Dabei wäre , so Stüssel , davon auszugehen , daß diese Maschine von dem gleichen Hersteller kommt wie das gewünschte kleinere neue Flugzeug , das die Boeing - 737 ablösen soll . Die dritte Neuanschaffung der Lufthansa soll eine Ma schine mit etwa 210 Sitz plätzen sein ebenfalls für den Kurz - und Mittelstrecken - Ver kehr . Man braucht sie dort , wo der jetzt von der Luft hansa angeschaffte Europä ische Airbus - 300 mit seinen 270 Sitzen noch zu groß ist . Wer wird nun die Milliar den - Aufträge der Lufthansa einstreichen können ? Hat die europäische Luftfahrt - Indu strie hier eine Chance , seit Jahrzehnten an die Amerika ner verlorenes Terrain zurück zugewinnen ? Bei der Luft hansa , die in ihrer Plot ten - Politik noch nie auf die Nationalität der Hersteller , umsomehr aber auf die Qualität des angebotenen Produktes geschaut hat , sagt man ja . Natürlich werden die amerikanischen Boeing - Werke mit harten Bandagen darum kämpfen , daß sie selbst die Nachfolgemodelle ihrer eigenen Maschinen vom Typ 727 und 737 liefern können . So wollen sie aus der Boeing - 737 die sogenannten 7 N 7 mit 120 bis 170 Sitzen weiterentwickeln . Doch bei der Lufthansa hält man auch eine europäisch amerikanische Koproduktion etwa von den französischen Werken Dassault oder Aeros patiale mit der amerikani schen MicDonnald - Douglas Corporation für möglich . Un ter aanderem käme eine Wei terentwicklung der französi schen „ Mercure, , in Frage . Auch bei der von der Luft hansa geforderten 21Ositzigen Kurz - und Mittelstrecken maschine hat Europa eine Chance . Hier könnte zum Bei spiel eine kleinere Version des Europäischen Airbus die Lücke füllen . Dabei kommt allerdings keineswegs lediglich eine Verkleinerung des euro päischen Großraumflugzeu ges , etwa durch Verkürzen des Rumpfes , in Betracht . Konstrukturelle Anderungen , wie etwa neue Flügel müssen dafür sorgen , daß diese 21Ositzige Maschine etwa 15 bis 20 Prozent weniger Be triebskosten verursachen wird als der heute fliegende Air bus . Allerdings ist auch in die ser Klasse die amerikanische Konkurrenz stark . Boeing ar beitet an einem Flugzeug die ser Größenordnung unter der Bezeichnung Boeing 7 x 7 . Bei NicDonnald - Douglas läuft das Konkurrenz - Projekt DC - X 200 . Will die europäische In dustrie also ihre Chance wirk sam wahrnehmen , so muß sie sich beeilen . Gerade in diesen Tagen erst hat die Lufthansa die Spezifikationen für die von ihr gewünschten neuen Maschinen bekannt gegeben . Auf der anderen Seite zeigt die Vergangenheit , wie schnell und wirksam die Ame rikaner ein Flugzeugprojekt durchzuziehen im Stande sind , wenn sie dem Programm einmal Grünes Licht gegeben haben . Sollte sich die Lufthansa in den 80er Jahren nach sach lichen und wirtschaftlichen Gesichtspunkten wieder für amerikanische Flugzeuge ent scheiden , so hätte die euro päische Luftfahrt - Industrie kaum Grund zu klagen . Sie hat ihre Chance , hier und jetzt . Bleibt abzuwarten , ob sie in der Lage ist , sie wirk sam wahrzunehmen . Bas Helungssgstem Iin Kreis Ist Bald pericnt . Aus der jüngsten Sitzung des Kreisausschusses - Neue Rettungswuchen Der Rettungsdienst im Rhein - Sieg - Kreis soll allen Anforderungen ent sprechen . Dies versicherte Oberkreisdirektor Paul Kieras in der jüngsten Sitzung des Kreisausschusses . Die CDU - Kreistagsfraktion hatte in einer Anfrage darum gebeten , die Vorstellungen des Kreises darzulegen und dabei insbesondere auf die Beantwortung der Fragen gedrängt , ob der Rettungsbedarfsplan für den Kreis zwischenzeitlich erstellt wurde , welche Sofortlösungen er enthält und in wieweit eine Kooperation der Gemeinden mit dem Rhein - Sieg - Kreis vorgesehen - sei . Kieras verwies auf die Verpflichtung , im Kreisgebiet ein flächenbedeckendes Rettungssyst em einzurichten . Diese Forderung soll erreicht werden durch die Einrichtung von Rettungswachen an verschiedenen Stellen des Kreisgebietes , wobei als Maßeinheit für die Er reichbarkeit einer möglichen Unfallstelle acht Minuten als flexibler Mittelwert gelten wird . Für je 15 000 Einwohner Für die Ausstattung der Rettungswachen gilt als Richtwert , daß für je rund 15 000 Einwoh ner ein Krankenkraftwagen zur Verfügung ste hen soll . Jeder Krankenwagen ist mit zwei hauptamtlich tätigen Personen zu besetzen . Das Verhältnis von Rettungstransportwagen ( RTU ) zu Krankentransportwagen ( KTI ) ist mit 60 : 40 anzusetzen , da es sich mit der Praxis deckt . Der RTW ist folglich 24 Stunden rund um die Uhr zu besetzen , während der KTU nur an fünf Tagen in der Woche , von Montag bis Freitag , 12 Stunden besetzt sein muß . Für ein flächenbedeckendes Rettungssystem im Kreisgebiet sind demnach 12 Rettungswagen einzurichten , mit den Standorten Bornheim , Rheinbach , Swisttal - Heimerzheim , Königswin ter , Königswinter - Ittenbach , Hennef , Troisdorf , Eitorf , Windeck - Dattenfeld , Siegburg , Neun kirchen - Seeischeid und Niederkassel Voll - Rettungswachen Da die Einrichtung von 12 Voll - Rettungs wachen einen sehr hohen Kostenautwand erfor dern würde , ist vorgesehen , die Standorte Königswinter - Ittenbach , Swisttal , Dattenfeld und Neunkirchen als für 12 Stunden besetzte Außenstellen auszuweisen , deren Einsatzbereich nachts von den Hauptwachen versorgt wird . Zur Personaldeckung für die genannten acht Wochen und vier Außenstellen sind rund 110 hauptamtliche Kräfte erforderlich , Gespräche mit dem DRK , dem MHO und der Freiwilligen Feuerwehr haben ergeben , daß etwa 20 Prozent Ausfälle durch Freiwillige abgedeckt werden können . Hier ist insbesondere an den Einsatz der vom Wehrdienst freigestellten Kräfte ge dacht , von denen allein die Feuerwehr schon über 300 Männer verfügt . Im übrigen wird daven ausgegangen , daß der benötigte Personalbedarf zu 50 Prozent von Rettungssanitätern und zu 50 Prozent von Zivil dienstleistenden gestellt wird . Dies wird den Forderungen des Ministers gerecht , wonach je der Kankenkraftwagen mit einem Rettungs sanitäter und einem Fahrer zu besetzen ist . Diese Aufteilung führt zudem zu einer we sentlichen Personalkostensenkung der haupt amtlichen Kräfte , da für einen Rettungssani täter 30 000 und für einen Zivildienstleistenden nur 6 000 Mark pro Jahr anzusetzen sind . Bei einem erforderlichen Personalbedarf von rund 110 hauptamtlichen Kräften ergibt dies für den Rettungsdienst im Rhein - Sieg - Kreis rund drei Millionen Investitionskosten , die vom Land ge tragen werden . Auch Bad Honnef vorgesehen Auf Gemeinden mit über 50000 Einwoh nern kann die Trägerschaft schon vorab übertra gen werden . Dafür kommen nach überein stimmender Ansicht des Regierungspräsidenten und des Kreises in Frage die Gemeinden Born heim , Troisdorf , Siegburg , St . Augustin und Königswinter . Darüber hinaus ist seitens des Kreises beabsichtigt , eine Obertragung auch auf die Gemeinden Niederkassel , Hennef und Bad Honnef vorzusehen . Wird Streit um EB - 42 - Ausbau beigelegt ? KöNIGSWINTER . Kommt es im Prozeß EB 42/Dr . Reifferscheidt zu einer baldigen Wende ? Der Beueler Stadtverordnete Bruno Sehhien und Sehau sen ! * \" 8 . — 9 Zweinal 1000 „ Goldhlicnzerry e es 95 : 95 1 AS Ab l . Oktober gibt \\' s bei Schwäblsch Hall für 1000 schnelle2 Vermittler neuer Bausparer je eine Goldmünze Im Wert von S2 8otatt . Und zusätzlich die Chance , bis Jahresschluß 1000 weitere = Goldmünzen zu gewinnen . 8 Außerdem bares Geld für die Vermittlung jedes Bausparers . Und selbstverständlich Bausparprämie oder Steuervergünstigung zuz für 76 , wenn Sie jetzt selbst mit Bausparen beginnen . = Die näheren Einzelheiten erfahren Sie bei allen Volksbanken , Raiffeisen banken , Spar - und Dariehnskassen und unseren Bezirksleitern . Kommen Sie Denn jetzt zuschnappen heißt Geld und Gold verdienen . Beratung durch alle Volksbanken , Raiffeisenbanken und Spar - und Kreditbanken sowie Bezirksleiter Hans Pütz , 5330 Königswinter 41  Ittenbach , in der Mark , Tel . 02223/24470 Beratungsstelle 534 Bad Honnef , Hauptstr . 31 ( im Hause der Volksbank ) , Tel . O2224/6116 Offnungszeiten : Mo . bis Fr . von 10 bis 12 . 30 Uhr und von 14 bis 17 . 30 Uhr sowie nach Vereinbarung Auf diese Steine können Sie bauen s Veirivabisch Hir Die Bausparkasse der Volksbanken und Raitteisenbanken = Landesstelle für Nordrhein 5000 Köm 1 , Breslauer Platz 28 , Tel . O2 21 121074 - 78 '"
      ]
     },
     "execution_count": 10,
     "metadata": {},
     "output_type": "execute_result"
    }
   ],
   "source": [
    "\"\"\"\n",
    "getting the full text of the first article in the first newspaper in df_2. The text \n",
    "should contain the words 'ausländer' and 'politik'.\n",
    "\"\"\"\n",
    "\n",
    "df_2.iloc[0,13]"
   ]
  },
  {
   "cell_type": "code",
   "execution_count": 11,
   "id": "0c059d22",
   "metadata": {},
   "outputs": [
    {
     "data": {
      "text/plain": [
       "True"
      ]
     },
     "execution_count": 11,
     "metadata": {},
     "output_type": "execute_result"
    }
   ],
   "source": [
    "'politik' in df_2.iloc[0,13].lower()"
   ]
  },
  {
   "cell_type": "code",
   "execution_count": 12,
   "id": "d00ce9c5",
   "metadata": {},
   "outputs": [
    {
     "data": {
      "text/plain": [
       "True"
      ]
     },
     "execution_count": 12,
     "metadata": {},
     "output_type": "execute_result"
    }
   ],
   "source": [
    "'ausländer' in df_2.iloc[0,13].lower()"
   ]
  }
 ],
 "metadata": {
  "kernelspec": {
   "display_name": "Python 3 (ipykernel)",
   "language": "python",
   "name": "python3"
  },
  "language_info": {
   "codemirror_mode": {
    "name": "ipython",
    "version": 3
   },
   "file_extension": ".py",
   "mimetype": "text/x-python",
   "name": "python",
   "nbconvert_exporter": "python",
   "pygments_lexer": "ipython3",
   "version": "3.10.6"
  },
  "toc": {
   "base_numbering": 1,
   "nav_menu": {},
   "number_sections": true,
   "sideBar": true,
   "skip_h1_title": false,
   "title_cell": "Table of Contents",
   "title_sidebar": "Contents",
   "toc_cell": false,
   "toc_position": {},
   "toc_section_display": true,
   "toc_window_display": false
  }
 },
 "nbformat": 4,
 "nbformat_minor": 5
}
