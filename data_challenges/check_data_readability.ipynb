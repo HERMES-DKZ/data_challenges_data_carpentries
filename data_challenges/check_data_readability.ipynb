{
 "cells": [
  {
   "cell_type": "code",
   "execution_count": 1,
   "id": "33b6a75c",
   "metadata": {},
   "outputs": [],
   "source": [
    "import pandas as pd\n",
    "import os"
   ]
  },
  {
   "cell_type": "code",
   "execution_count": null,
   "id": "29a523b7",
   "metadata": {
    "scrolled": true
   },
   "outputs": [
    {
     "name": "stdout",
     "output_type": "stream",
     "text": [
      "successfully read newspapers_ger_1914_part_1\n",
      "successfully read newspapers_ger_1914_part_2\n",
      "successfully read newspapers_ger_1914_part_3\n",
      "successfully read newspapers_ger_1915_part_1\n",
      "successfully read newspapers_ger_1915_part_2\n",
      "successfully read newspapers_ger_1915_part_3\n",
      "successfully read newspapers_ger_1916_part_1\n",
      "successfully read newspapers_ger_1916_part_2\n",
      "successfully read newspapers_ger_1916_part_3\n",
      "successfully read newspapers_ger_1917_part_1\n",
      "successfully read newspapers_ger_1917_part_2\n",
      "successfully read newspapers_ger_1917_part_3\n",
      "successfully read newspapers_ger_1918_part_1\n",
      "successfully read newspapers_ger_1918_part_2\n",
      "successfully read newspapers_ger_1918_part_3\n",
      "successfully read newspapers_ger_1919_part_1\n",
      "successfully read newspapers_ger_1919_part_2\n",
      "successfully read newspapers_ger_1919_part_3\n",
      "successfully read newspapers_ger_1920_part_1\n",
      "successfully read newspapers_ger_1920_part_2\n",
      "successfully read newspapers_ger_1920_part_3\n",
      "successfully read newspapers_ger_1921_part_1\n",
      "successfully read newspapers_ger_1921_part_2\n",
      "successfully read newspapers_ger_1921_part_3\n",
      "successfully read newspapers_ger_1922_part_1\n",
      "successfully read newspapers_ger_1922_part_2\n",
      "successfully read newspapers_ger_1922_part_3\n",
      "successfully read newspapers_ger_1923_part_1\n",
      "successfully read newspapers_ger_1923_part_2\n",
      "successfully read newspapers_ger_1923_part_3\n",
      "successfully read newspapers_ger_1924_part_1\n",
      "successfully read newspapers_ger_1924_part_2\n",
      "successfully read newspapers_ger_1924_part_3\n",
      "successfully read newspapers_ger_1925_part_1\n",
      "successfully read newspapers_ger_1925_part_2\n",
      "successfully read newspapers_ger_1925_part_3\n",
      "successfully read newspapers_ger_1926_part_1\n",
      "successfully read newspapers_ger_1926_part_2\n",
      "successfully read newspapers_ger_1926_part_3\n",
      "successfully read newspapers_ger_1927_part_1\n",
      "successfully read newspapers_ger_1927_part_2\n",
      "successfully read newspapers_ger_1927_part_3\n",
      "successfully read newspapers_ger_1928_part_1\n",
      "successfully read newspapers_ger_1928_part_2\n",
      "successfully read newspapers_ger_1928_part_3\n",
      "successfully read newspapers_ger_1929_part_1\n",
      "successfully read newspapers_ger_1929_part_2\n",
      "successfully read newspapers_ger_1929_part_3\n",
      "successfully read newspapers_ger_1930_part_1\n",
      "successfully read newspapers_ger_1930_part_2\n",
      "successfully read newspapers_ger_1930_part_3\n",
      "successfully read newspapers_ger_1931_part_1\n",
      "successfully read newspapers_ger_1931_part_2\n",
      "successfully read newspapers_ger_1931_part_3\n",
      "successfully read newspapers_ger_1932_part_1\n",
      "successfully read newspapers_ger_1932_part_2\n",
      "successfully read newspapers_ger_1932_part_3\n",
      "successfully read newspapers_ger_1933_part_1\n",
      "successfully read newspapers_ger_1933_part_2\n",
      "successfully read newspapers_ger_1933_part_3\n",
      "successfully read newspapers_ger_1934_part_1\n",
      "successfully read newspapers_ger_1934_part_2\n",
      "successfully read newspapers_ger_1934_part_3\n"
     ]
    }
   ],
   "source": [
    "directory= './data'\n",
    "\n",
    "file_list = sorted(os.listdir(directory))\n",
    "\n",
    "for file in file_list:\n",
    "    filename = os.fsdecode(file)\n",
    "    df= pd.read_pickle(f'./data/{filename}')\n",
    "    if len(df)>0:\n",
    "        print (f'successfully read {filename}')\n",
    "    else: \n",
    "        print (f'{filename} could not be read')"
   ]
  }
 ],
 "metadata": {
  "kernelspec": {
   "display_name": "Python 3 (ipykernel)",
   "language": "python",
   "name": "python3"
  },
  "language_info": {
   "codemirror_mode": {
    "name": "ipython",
    "version": 3
   },
   "file_extension": ".py",
   "mimetype": "text/x-python",
   "name": "python",
   "nbconvert_exporter": "python",
   "pygments_lexer": "ipython3",
   "version": "3.10.6"
  },
  "toc": {
   "base_numbering": 1,
   "nav_menu": {},
   "number_sections": true,
   "sideBar": true,
   "skip_h1_title": false,
   "title_cell": "Table of Contents",
   "title_sidebar": "Contents",
   "toc_cell": false,
   "toc_position": {},
   "toc_section_display": true,
   "toc_window_display": false
  }
 },
 "nbformat": 4,
 "nbformat_minor": 5
}
