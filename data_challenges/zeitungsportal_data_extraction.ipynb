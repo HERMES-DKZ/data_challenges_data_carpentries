{
 "cells": [
  {
   "cell_type": "markdown",
   "id": "5417e9da",
   "metadata": {},
   "source": [
    "Deutsche Digitale Bibliothek REST API: https://labs.deutsche-digitale-bibliothek.de/app/ddbapi/#/search/getSolrSearch\n",
    "\n",
    "Fragen & Antworten zum Deutschen Zeitungsportal: https://www.deutsche-digitale-bibliothek.de/content/newspaper/fragen-antworten\n",
    "\n",
    "Wrapper for the DDB API: https://pypi.org/project/ddbapi/"
   ]
  },
  {
   "cell_type": "markdown",
   "id": "b56695a2",
   "metadata": {},
   "source": [
    "# Functions for extracting and analyzing data from Das Deutsche Zeitungsportal: "
   ]
  },
  {
   "cell_type": "code",
   "execution_count": 1,
   "id": "77e1113b",
   "metadata": {},
   "outputs": [],
   "source": [
    "import pandas as pd\n",
    "from ddbapi import zp_pages\n",
    "import folium\n",
    "from geopy import geocoders "
   ]
  },
  {
   "cell_type": "markdown",
   "id": "77a82c44",
   "metadata": {},
   "source": [
    "Downlaoding all German newspapers between 1914 and 1995:"
   ]
  },
  {
   "cell_type": "code",
   "execution_count": 2,
   "id": "09d566d6",
   "metadata": {},
   "outputs": [],
   "source": [
    "def article_extractor(search_dict):\n",
    "    \"\"\"\n",
    "    This function extracts newspaper articles in a given language between two given dates. It takes a dictionary with three keys \n",
    "    as its only argument, like the following example:\n",
    "\n",
    "    search_dict= {\n",
    "        'language': 'ger',\n",
    "        'date_begin': f'{year}-01-01',\n",
    "        'date_end': f'{year}-12-31'\n",
    "        }\n",
    "    \"\"\"\n",
    "    \n",
    "    df= zp_pages(language=search_dict['language'], \n",
    "                  publication_date= f\"[{search_dict['date_begin']}T12:00:00Z TO {search_dict['date_end']}T12:00:00Z]\")\n",
    "    return df"
   ]
  },
  {
   "cell_type": "code",
   "execution_count": 3,
   "id": "5d46d8f6",
   "metadata": {
    "scrolled": true
   },
   "outputs": [],
   "source": [
    "# for year in range (1914, 1946):\n",
    "    \n",
    "#     search_dict_ger= {\n",
    "#     'language': 'ger',\n",
    "#     'date_begin': f'{year}-01-01',\n",
    "#     'date_end': f'{year}-12-31'\n",
    "#     }\n",
    "    \n",
    "#     df_challenge_ger= article_extractor(search_dict_ger)\n",
    "#     df_challenge_ger.to_pickle(f\"./data_deutsches_zeitungsportal_1914_1945/newspapers_ger_{year}\")"
   ]
  },
  {
   "cell_type": "markdown",
   "id": "1cc5ac66",
   "metadata": {},
   "source": [
    "Here, I am trying to re-download newspaper data that was previously not downloaded properly:"
   ]
  },
  {
   "cell_type": "code",
   "execution_count": 4,
   "id": "07c80950",
   "metadata": {
    "scrolled": true
   },
   "outputs": [],
   "source": [
    "# year= 1927\n",
    "\n",
    "# search_dict_ger= {\n",
    "#     'language': 'ger',\n",
    "#     'date_begin': f'{year}-01-01',\n",
    "#     'date_end': f'{year}-04-30'\n",
    "#     }\n",
    "    \n",
    "# df_challenge_ger= article_extractor(search_dict_ger)\n",
    "# df_challenge_ger.to_pickle(f\"./data_deutsches_zeitungsportal_1914_1945/newspapers_ger_{year}_part_1\")"
   ]
  },
  {
   "cell_type": "code",
   "execution_count": 5,
   "id": "c10e2fde",
   "metadata": {
    "scrolled": true
   },
   "outputs": [],
   "source": [
    "# year= 1927\n",
    "\n",
    "# search_dict_ger= {\n",
    "#     'language': 'ger',\n",
    "#     'date_begin': f'{year}-05-01',\n",
    "#     'date_end': f'{year}-08-31'\n",
    "#     }\n",
    "    \n",
    "# df_challenge_ger= article_extractor(search_dict_ger)\n",
    "# df_challenge_ger.to_pickle(f\"./data_deutsches_zeitungsportal_1914_1945/newspapers_ger_{year}_part_2\")"
   ]
  },
  {
   "cell_type": "code",
   "execution_count": 6,
   "id": "4e5ddda6",
   "metadata": {
    "scrolled": true
   },
   "outputs": [],
   "source": [
    "# year= 1927\n",
    "\n",
    "# search_dict_ger= {\n",
    "#     'language': 'ger',\n",
    "#     'date_begin': f'{year}-09-01',\n",
    "#     'date_end': f'{year}-12-31'\n",
    "#     }\n",
    "    \n",
    "# df_challenge_ger= article_extractor(search_dict_ger)\n",
    "# df_challenge_ger.to_pickle(f\"./data_deutsches_zeitungsportal_1914_1945/newspapers_ger_{year}_part_3\")"
   ]
  },
  {
   "cell_type": "code",
   "execution_count": 7,
   "id": "773a38d8",
   "metadata": {},
   "outputs": [],
   "source": [
    "# #concatenating all three parts:\n",
    "\n",
    "# year=1926\n",
    "\n",
    "# df_1= pd.read_pickle(f\"./data_deutsches_zeitungsportal_1914_1945/newspapers_ger_{year}_part_1\")\n",
    "# df_2= pd.read_pickle(f\"./data_deutsches_zeitungsportal_1914_1945/newspapers_ger_{year}_part_1\")\n",
    "# df_3= pd.read_pickle(f\"./data_deutsches_zeitungsportal_1914_1945/newspapers_ger_{year}_part_1\")\n",
    "\n",
    "# df=pd.concat([df_1, df_2, df_3], axis=0)\n",
    "# df.to_pickle(f\"./data_deutsches_zeitungsportal_1914_1945/newspapers_ger_{year}\")"
   ]
  },
  {
   "cell_type": "markdown",
   "id": "d88a5dcf",
   "metadata": {},
   "source": [
    "And here, I am adding the newspaper issues for 31.12. of each year to the existing dataset (which contains only the issues up to 30.12.) for the years 1914-1925 and 1935-1945:"
   ]
  },
  {
   "cell_type": "code",
   "execution_count": 8,
   "id": "4f4dd65e",
   "metadata": {},
   "outputs": [
    {
     "name": "stdout",
     "output_type": "stream",
     "text": [
      "https://api.deutsche-digitale-bibliothek.de/search/index/newspaper-issues/select?rows=1000&sort=id+ASC&q=type%3Apage+AND+language%3A%22ger%22+AND+publication_date%3A%22%5B1914-12-31T12%3A00%3A00Z%5C+TO%5C+1914-12-31T12%3A00%3A00Z%5D%22&cursorMark=%2A\n",
      "Getting 1000 of 1265\n",
      "Getting 1265 of 1265\n",
      "Got 1265 items.\n"
     ]
    }
   ],
   "source": [
    "year= 1914\n",
    "\n",
    "\n",
    "df= pd.read_pickle(f\"./data_deutsches_zeitungsportal_1914_1945/newspapers_ger_{year}\")\n",
    "\n",
    "search_dict_added= {\n",
    "    'language': 'ger',\n",
    "    'date_begin': f'{year}-12-31',\n",
    "    'date_end': f'{year}-12-31'\n",
    "    }\n",
    "\n",
    "df_added= article_extractor(search_dict_added)\n",
    "df_complete= pd.concat([df, df_added], axis=0)"
   ]
  },
  {
   "cell_type": "code",
   "execution_count": null,
   "id": "467042b5",
   "metadata": {},
   "outputs": [],
   "source": [
    "df_complete.to_pickle(f\"./data_deutsches_zeitungsportal_1914_1945/newspapers_ger_{year}_complete\")"
   ]
  },
  {
   "cell_type": "markdown",
   "id": "7c34140a",
   "metadata": {},
   "source": [
    "Extracting names of cities from the newspaper_df:"
   ]
  },
  {
   "cell_type": "code",
   "execution_count": null,
   "id": "e500a86d",
   "metadata": {},
   "outputs": [],
   "source": [
    "# def city_extractor(newspaper_df):\n",
    "# #extracts names of cities from the dataframe containing the full texts.\n",
    "\n",
    "#     city_list=[]\n",
    "\n",
    "#     for place in newspaper_df['place_of_distribution']:\n",
    "#         if isinstance (place, list):\n",
    "#             if place[0] not in city_list:\n",
    "#                 city_list.append(place[0])\n",
    "#         else: \n",
    "#             if place not in city_list:\n",
    "#                 city_list.append(place)\n",
    "\n",
    "#     return city_list"
   ]
  },
  {
   "cell_type": "code",
   "execution_count": null,
   "id": "315fc4a5",
   "metadata": {
    "scrolled": true
   },
   "outputs": [],
   "source": [
    "# cities= city_extractor(df)\n",
    "# cities"
   ]
  },
  {
   "cell_type": "code",
   "execution_count": null,
   "id": "a88ae075",
   "metadata": {},
   "outputs": [],
   "source": [
    "# def map_maker(city_list):\n",
    "# #plots the cities in the city list on a map.\n",
    "    \n",
    "#     city_dict= {}\n",
    "#     gn= geocoders.GeoNames(username=\"golisf\")\n",
    "    \n",
    "#     for city in city_list:\n",
    "#         if not pd.isna(city):\n",
    "#             city_dict[city]= gn.geocode(city)\n",
    "            \n",
    "#     # Create a map centered at a location, you can adjust the coordinates and zoom level as needed\n",
    "#     map_center= [51.1657, 10.4515]  # Germany's approximate center\n",
    "#     my_map= folium.Map(location=map_center, zoom_start=6)\n",
    " \n",
    "#     # Add markers for each city\n",
    "#     for city in list(city_dict.keys()):\n",
    "#         folium.Marker(location=city_dict[city], popup=city).add_to(my_map)\n",
    "        \n",
    "#     return my_map"
   ]
  },
  {
   "cell_type": "code",
   "execution_count": null,
   "id": "b0357122",
   "metadata": {},
   "outputs": [],
   "source": [
    "#map_maker(cities)"
   ]
  }
 ],
 "metadata": {
  "kernelspec": {
   "display_name": "Python 3 (ipykernel)",
   "language": "python",
   "name": "python3"
  },
  "language_info": {
   "codemirror_mode": {
    "name": "ipython",
    "version": 3
   },
   "file_extension": ".py",
   "mimetype": "text/x-python",
   "name": "python",
   "nbconvert_exporter": "python",
   "pygments_lexer": "ipython3",
   "version": "3.10.6"
  },
  "toc": {
   "base_numbering": 1,
   "nav_menu": {},
   "number_sections": true,
   "sideBar": true,
   "skip_h1_title": false,
   "title_cell": "Table of Contents",
   "title_sidebar": "Contents",
   "toc_cell": false,
   "toc_position": {},
   "toc_section_display": true,
   "toc_window_display": false
  }
 },
 "nbformat": 4,
 "nbformat_minor": 5
}
