{
 "cells": [
  {
   "cell_type": "markdown",
   "id": "5417e9da",
   "metadata": {},
   "source": [
    "Deutsche Digitale Bibliothek REST API: https://labs.deutsche-digitale-bibliothek.de/app/ddbapi/#/search/getSolrSearch\n",
    "\n",
    "Fragen & Antworten zum Deutschen Zeitungsportal: https://www.deutsche-digitale-bibliothek.de/content/newspaper/fragen-antworten\n",
    "\n",
    "Wrapper for the DDB API: https://pypi.org/project/ddbapi/"
   ]
  },
  {
   "cell_type": "markdown",
   "id": "b56695a2",
   "metadata": {},
   "source": [
    "# Functions for extracting and analyzing data from Das Deutsche Zeitungsportal: "
   ]
  },
  {
   "cell_type": "code",
   "execution_count": null,
   "id": "77e1113b",
   "metadata": {},
   "outputs": [],
   "source": [
    "import pandas as pd\n",
    "from ddbapi import zp_pages\n",
    "import folium\n",
    "from geopy import geocoders "
   ]
  },
  {
   "cell_type": "markdown",
   "id": "77a82c44",
   "metadata": {},
   "source": [
    "Downlaoding all German newspapers between 1914 and 1995:"
   ]
  },
  {
   "cell_type": "code",
   "execution_count": null,
   "id": "09d566d6",
   "metadata": {},
   "outputs": [],
   "source": [
    "def article_extractor(search_dict):\n",
    "\"\"\"\n",
    "This function extracts newspaper articles in a given language between two given dates. It takes a dictionary with three keys \n",
    "as its only argument, like the following example:\n",
    "\n",
    "search_dict= {\n",
    "    'language': 'ger',\n",
    "    'date_begin': f'{year}-01-01',\n",
    "    'date_end': f'{year}-12-30'\n",
    "    }\n",
    "\"\"\"\n",
    "    \n",
    "    df= zp_pages(language=search_dict['language'], \n",
    "                  publication_date= f\"[{search_dict['date_begin']}T12:00:00Z TO {search_dict['date_end']}T12:00:00Z]\")\n",
    "    return df"
   ]
  },
  {
   "cell_type": "code",
   "execution_count": null,
   "id": "5d46d8f6",
   "metadata": {
    "scrolled": true
   },
   "outputs": [],
   "source": [
    "for year in range (1914, 1946):\n",
    "    \n",
    "    search_dict_ger= {\n",
    "    'language': 'ger',\n",
    "    'date_begin': f'{year}-01-01',\n",
    "    'date_end': f'{year}-12-30'\n",
    "    }\n",
    "    \n",
    "    df_challenge_ger= article_extractor(search_dict_ger)\n",
    "    df_challenge_ger.to_pickle(f\"./newspapers_ger_{year}\")"
   ]
  },
  {
   "cell_type": "code",
   "execution_count": null,
   "id": "f5d8efb4",
   "metadata": {},
   "outputs": [],
   "source": [
    "# pd.read_pickle (\"./newspapers_ger_1920\").iloc[5,13]"
   ]
  },
  {
   "cell_type": "markdown",
   "id": "7c34140a",
   "metadata": {},
   "source": [
    "Extracting names of cities from the newspaper_df:"
   ]
  },
  {
   "cell_type": "code",
   "execution_count": null,
   "id": "e500a86d",
   "metadata": {},
   "outputs": [],
   "source": [
    "# def city_extractor(newspaper_df):\n",
    "# #extracts names of cities from the dataframe containing the full texts.\n",
    "\n",
    "#     city_list=[]\n",
    "\n",
    "#     for place in newspaper_df['place_of_distribution']:\n",
    "#         if isinstance (place, list):\n",
    "#             if place[0] not in city_list:\n",
    "#                 city_list.append(place[0])\n",
    "#         else: \n",
    "#             if place not in city_list:\n",
    "#                 city_list.append(place)\n",
    "\n",
    "#     return city_list"
   ]
  },
  {
   "cell_type": "code",
   "execution_count": null,
   "id": "315fc4a5",
   "metadata": {
    "scrolled": true
   },
   "outputs": [],
   "source": [
    "# cities= city_extractor(df)\n",
    "# cities"
   ]
  },
  {
   "cell_type": "code",
   "execution_count": null,
   "id": "a88ae075",
   "metadata": {},
   "outputs": [],
   "source": [
    "# def map_maker(city_list):\n",
    "# #plots the cities in the city list on a map.\n",
    "    \n",
    "#     city_dict= {}\n",
    "#     gn= geocoders.GeoNames(username=\"golisf\")\n",
    "    \n",
    "#     for city in city_list:\n",
    "#         if not pd.isna(city):\n",
    "#             city_dict[city]= gn.geocode(city)\n",
    "            \n",
    "#     # Create a map centered at a location, you can adjust the coordinates and zoom level as needed\n",
    "#     map_center= [51.1657, 10.4515]  # Germany's approximate center\n",
    "#     my_map= folium.Map(location=map_center, zoom_start=6)\n",
    " \n",
    "#     # Add markers for each city\n",
    "#     for city in list(city_dict.keys()):\n",
    "#         folium.Marker(location=city_dict[city], popup=city).add_to(my_map)\n",
    "        \n",
    "#     return my_map"
   ]
  },
  {
   "cell_type": "code",
   "execution_count": null,
   "id": "b0357122",
   "metadata": {},
   "outputs": [],
   "source": [
    "#map_maker(cities)"
   ]
  }
 ],
 "metadata": {
  "kernelspec": {
   "display_name": "Python 3 (ipykernel)",
   "language": "python",
   "name": "python3"
  },
  "language_info": {
   "codemirror_mode": {
    "name": "ipython",
    "version": 3
   },
   "file_extension": ".py",
   "mimetype": "text/x-python",
   "name": "python",
   "nbconvert_exporter": "python",
   "pygments_lexer": "ipython3",
   "version": "3.10.6"
  },
  "toc": {
   "base_numbering": 1,
   "nav_menu": {},
   "number_sections": true,
   "sideBar": true,
   "skip_h1_title": false,
   "title_cell": "Table of Contents",
   "title_sidebar": "Contents",
   "toc_cell": false,
   "toc_position": {},
   "toc_section_display": true,
   "toc_window_display": false
  }
 },
 "nbformat": 4,
 "nbformat_minor": 5
}
