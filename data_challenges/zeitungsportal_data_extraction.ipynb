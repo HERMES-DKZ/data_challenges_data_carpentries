{
 "cells": [
  {
   "cell_type": "markdown",
   "id": "5417e9da",
   "metadata": {},
   "source": [
    "Deutsche Digitale Bibliothek REST API: https://labs.deutsche-digitale-bibliothek.de/app/ddbapi/#/search/getSolrSearch\n",
    "\n",
    "Fragen & Antworten zum Deutschen Zeitungsportal: https://www.deutsche-digitale-bibliothek.de/content/newspaper/fragen-antworten\n",
    "\n",
    "Wrapper for the DDB API: https://pypi.org/project/ddbapi/"
   ]
  },
  {
   "cell_type": "markdown",
   "id": "b56695a2",
   "metadata": {},
   "source": [
    "# Functions for extracting and analyzing data from Das Deutsche Zeitungsportal: "
   ]
  },
  {
   "cell_type": "code",
   "execution_count": 1,
   "id": "77e1113b",
   "metadata": {},
   "outputs": [],
   "source": [
    "import pandas as pd\n",
    "from ddbapi import zp_pages\n",
    "import folium\n",
    "from geopy import geocoders "
   ]
  },
  {
   "cell_type": "code",
   "execution_count": 2,
   "id": "09d566d6",
   "metadata": {},
   "outputs": [],
   "source": [
    "def article_extractor(search_dict):\n",
    "    \"\"\"\n",
    "    This function extracts newspaper articles in a given language between two given dates. It takes a dictionary with \n",
    "    three keys as its only argument, like the following example:\n",
    "\n",
    "    search_dict= {\n",
    "        'language': 'ger',\n",
    "        'date_begin': f'{year}-01-01',\n",
    "        'date_end': f'{year}-12-31'\n",
    "        }\n",
    "    \"\"\"\n",
    "    \n",
    "    df= zp_pages(language=search_dict['language'], \n",
    "                  publication_date= f\"[{search_dict['date_begin']}T12:00:00Z TO {search_dict['date_end']}T12:00:00Z]\")\n",
    "    return df"
   ]
  },
  {
   "cell_type": "markdown",
   "id": "1cc5ac66",
   "metadata": {},
   "source": [
    "Downloading newspaper data for each year in three chunks: "
   ]
  },
  {
   "cell_type": "code",
   "execution_count": 3,
   "id": "9287d66d",
   "metadata": {},
   "outputs": [],
   "source": [
    "year= 1925"
   ]
  },
  {
   "cell_type": "code",
   "execution_count": 4,
   "id": "07c80950",
   "metadata": {
    "scrolled": true
   },
   "outputs": [],
   "source": [
    "# search_dict_ger= {\n",
    "#     'language': 'ger',\n",
    "#     'date_begin': f'{year}-01-01',\n",
    "#     'date_end': f'{year}-04-30'\n",
    "#     }\n",
    "    \n",
    "# df_challenge_ger= article_extractor(search_dict_ger)\n",
    "# df_challenge_ger.to_pickle(f\"./data_deutsches_zeitungsportal_1914_1945/newspapers_ger_{year}_part_1\")"
   ]
  },
  {
   "cell_type": "code",
   "execution_count": 5,
   "id": "c10e2fde",
   "metadata": {
    "scrolled": true
   },
   "outputs": [],
   "source": [
    "# search_dict_ger= {\n",
    "#     'language': 'ger',\n",
    "#     'date_begin': f'{year}-05-01',\n",
    "#     'date_end': f'{year}-08-31'\n",
    "#     }\n",
    "    \n",
    "# df_challenge_ger= article_extractor(search_dict_ger)\n",
    "# df_challenge_ger.to_pickle(f\"./data_deutsches_zeitungsportal_1914_1945/newspapers_ger_{year}_part_2\")"
   ]
  },
  {
   "cell_type": "code",
   "execution_count": null,
   "id": "4e5ddda6",
   "metadata": {
    "scrolled": true
   },
   "outputs": [
    {
     "name": "stdout",
     "output_type": "stream",
     "text": [
      "https://api.deutsche-digitale-bibliothek.de/search/index/newspaper-issues/select?rows=1000&sort=id+ASC&q=type%3Apage+AND+language%3A%22ger%22+AND+publication_date%3A%22%5B1925-09-01T12%3A00%3A00Z%5C+TO%5C+1925-12-31T12%3A00%3A00Z%5D%22&cursorMark=%2A\n",
      "Getting 1000 of 113678\n",
      "Getting 2000 of 113678\n",
      "Getting 3000 of 113678\n",
      "Getting 4000 of 113678\n",
      "Getting 5000 of 113678\n",
      "Getting 6000 of 113678\n",
      "Getting 7000 of 113678\n",
      "Getting 8000 of 113678\n",
      "Getting 9000 of 113678\n",
      "Getting 10000 of 113678\n",
      "Getting 11000 of 113678\n",
      "Getting 12000 of 113678\n",
      "Getting 13000 of 113678\n",
      "Getting 14000 of 113678\n",
      "Getting 15000 of 113678\n",
      "Getting 16000 of 113678\n",
      "Getting 17000 of 113678\n",
      "Getting 18000 of 113678\n",
      "Getting 19000 of 113678\n",
      "Getting 20000 of 113678\n",
      "Getting 21000 of 113678\n",
      "Getting 22000 of 113678\n"
     ]
    }
   ],
   "source": [
    "search_dict_ger= {\n",
    "    'language': 'ger',\n",
    "    'date_begin': f'{year}-09-01',\n",
    "    'date_end': f'{year}-12-31'\n",
    "    }\n",
    "    \n",
    "df_challenge_ger= article_extractor(search_dict_ger)\n",
    "df_challenge_ger.to_pickle(f\"./data_deutsches_zeitungsportal_1914_1945/newspapers_ger_{year}_part_3\")"
   ]
  },
  {
   "cell_type": "code",
   "execution_count": null,
   "id": "6ea5c417",
   "metadata": {},
   "outputs": [],
   "source": [
    "# testing if the pickled dataframes are loadable: \n",
    "\n",
    "test_year= f\"{year}_part_3\"\n",
    "columns= ['paper_title', 'publication_date', 'place_of_distribution']\n",
    "try:\n",
    "    print (len(pd.read_pickle(f\"./data_deutsches_zeitungsportal_1914_1945/newspapers_ger_{test_year}\")[columns]))\n",
    "                  \n",
    "except EOFError:\n",
    "    print(f\"Error: EOFError occurred while loading data for year {test_year}.\")"
   ]
  }
 ],
 "metadata": {
  "kernelspec": {
   "display_name": "Python 3 (ipykernel)",
   "language": "python",
   "name": "python3"
  },
  "language_info": {
   "codemirror_mode": {
    "name": "ipython",
    "version": 3
   },
   "file_extension": ".py",
   "mimetype": "text/x-python",
   "name": "python",
   "nbconvert_exporter": "python",
   "pygments_lexer": "ipython3",
   "version": "3.10.6"
  },
  "toc": {
   "base_numbering": 1,
   "nav_menu": {},
   "number_sections": true,
   "sideBar": true,
   "skip_h1_title": false,
   "title_cell": "Table of Contents",
   "title_sidebar": "Contents",
   "toc_cell": false,
   "toc_position": {},
   "toc_section_display": true,
   "toc_window_display": false
  }
 },
 "nbformat": 4,
 "nbformat_minor": 5
}
